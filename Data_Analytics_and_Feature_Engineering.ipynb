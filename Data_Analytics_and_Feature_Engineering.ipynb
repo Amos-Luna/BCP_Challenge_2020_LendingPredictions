{
 "cells": [
  {
   "cell_type": "markdown",
   "metadata": {
    "id": "MLQqrkyLlbXH"
   },
   "source": [
    "# Predicción del riesgo de préstamos en un Lending Club usando Machine Learning"
   ]
  },
  {
   "cell_type": "markdown",
   "metadata": {
    "id": "0F74K3sMAR3r"
   },
   "source": [
    "# ----------------------------- PROCESO 1: EDA  --------------------------"
   ]
  },
  {
   "cell_type": "markdown",
   "metadata": {
    "id": "4ePNqObElbXH"
   },
   "source": [
    "## Planteamiento de la problemática\n",
    "\n",
    "¿Usando Machine Learning se podrá predecir qué préstamos estarán en riesgo de impago o amortización incompleta? Para eso crearemos 4 modelos de clasificación que tomen como entrada los datos de préstamos y evaluaremos el desempeño de cada uno de ellos."
   ]
  },
  {
   "cell_type": "code",
   "execution_count": 1,
   "metadata": {
    "id": "uErcQU2_lbXH"
   },
   "outputs": [],
   "source": [
    "#Importamos las librerías necesarias para el analisis de datos (primera parte)\n",
    "%matplotlib inline\n",
    "import pandas as pd\n",
    "import matplotlib.pyplot as plt\n",
    "import seaborn as sns\n",
    "import numpy as np\n",
    "import math\n",
    "import folium\n",
    "from datetime import datetime"
   ]
  },
  {
   "cell_type": "code",
   "execution_count": 2,
   "metadata": {
    "colab": {
     "base_uri": "https://localhost:8080/"
    },
    "id": "RPjFCfq-lbXH",
    "outputId": "15bf5ea4-8459-4e79-a71e-bbc8344fba9c",
    "scrolled": true
   },
   "outputs": [
    {
     "name": "stderr",
     "output_type": "stream",
     "text": [
      "C:\\Users\\EDSON\\anaconda3\\lib\\site-packages\\IPython\\core\\interactiveshell.py:3063: DtypeWarning: Columns (0,19,49,59,118,129,130,131,134,135,136,139,145,146,147) have mixed types.Specify dtype option on import or set low_memory=False.\n",
      "  interactivity=interactivity, compiler=compiler, result=result)\n"
     ]
    }
   ],
   "source": [
    "#El dataset original fue extraído del siguiente enlace: https://www.kaggle.com/wordsforthewise/lending-club\n",
    "dataset_original = pd.read_csv('./accepted_2007_to_2018Q4.csv')"
   ]
  },
  {
   "cell_type": "code",
   "execution_count": 3,
   "metadata": {
    "colab": {
     "base_uri": "https://localhost:8080/"
    },
    "id": "ongeHdw1lbXI",
    "outputId": "c88c7563-a045-489e-c7ae-1ccf143a23b2",
    "scrolled": true
   },
   "outputs": [
    {
     "name": "stdout",
     "output_type": "stream",
     "text": [
      "id\n",
      "member_id\n",
      "loan_amnt\n",
      "funded_amnt\n",
      "funded_amnt_inv\n",
      "term\n",
      "int_rate\n",
      "installment\n",
      "grade\n",
      "sub_grade\n",
      "emp_title\n",
      "emp_length\n",
      "home_ownership\n",
      "annual_inc\n",
      "verification_status\n",
      "issue_d\n",
      "loan_status\n",
      "pymnt_plan\n",
      "url\n",
      "desc\n",
      "purpose\n",
      "title\n",
      "zip_code\n",
      "addr_state\n",
      "dti\n",
      "delinq_2yrs\n",
      "earliest_cr_line\n",
      "fico_range_low\n",
      "fico_range_high\n",
      "inq_last_6mths\n",
      "mths_since_last_delinq\n",
      "mths_since_last_record\n",
      "open_acc\n",
      "pub_rec\n",
      "revol_bal\n",
      "revol_util\n",
      "total_acc\n",
      "initial_list_status\n",
      "out_prncp\n",
      "out_prncp_inv\n",
      "total_pymnt\n",
      "total_pymnt_inv\n",
      "total_rec_prncp\n",
      "total_rec_int\n",
      "total_rec_late_fee\n",
      "recoveries\n",
      "collection_recovery_fee\n",
      "last_pymnt_d\n",
      "last_pymnt_amnt\n",
      "next_pymnt_d\n",
      "last_credit_pull_d\n",
      "last_fico_range_high\n",
      "last_fico_range_low\n",
      "collections_12_mths_ex_med\n",
      "mths_since_last_major_derog\n",
      "policy_code\n",
      "application_type\n",
      "annual_inc_joint\n",
      "dti_joint\n",
      "verification_status_joint\n",
      "acc_now_delinq\n",
      "tot_coll_amt\n",
      "tot_cur_bal\n",
      "open_acc_6m\n",
      "open_act_il\n",
      "open_il_12m\n",
      "open_il_24m\n",
      "mths_since_rcnt_il\n",
      "total_bal_il\n",
      "il_util\n",
      "open_rv_12m\n",
      "open_rv_24m\n",
      "max_bal_bc\n",
      "all_util\n",
      "total_rev_hi_lim\n",
      "inq_fi\n",
      "total_cu_tl\n",
      "inq_last_12m\n",
      "acc_open_past_24mths\n",
      "avg_cur_bal\n",
      "bc_open_to_buy\n",
      "bc_util\n",
      "chargeoff_within_12_mths\n",
      "delinq_amnt\n",
      "mo_sin_old_il_acct\n",
      "mo_sin_old_rev_tl_op\n",
      "mo_sin_rcnt_rev_tl_op\n",
      "mo_sin_rcnt_tl\n",
      "mort_acc\n",
      "mths_since_recent_bc\n",
      "mths_since_recent_bc_dlq\n",
      "mths_since_recent_inq\n",
      "mths_since_recent_revol_delinq\n",
      "num_accts_ever_120_pd\n",
      "num_actv_bc_tl\n",
      "num_actv_rev_tl\n",
      "num_bc_sats\n",
      "num_bc_tl\n",
      "num_il_tl\n",
      "num_op_rev_tl\n",
      "num_rev_accts\n",
      "num_rev_tl_bal_gt_0\n",
      "num_sats\n",
      "num_tl_120dpd_2m\n",
      "num_tl_30dpd\n",
      "num_tl_90g_dpd_24m\n",
      "num_tl_op_past_12m\n",
      "pct_tl_nvr_dlq\n",
      "percent_bc_gt_75\n",
      "pub_rec_bankruptcies\n",
      "tax_liens\n",
      "tot_hi_cred_lim\n",
      "total_bal_ex_mort\n",
      "total_bc_limit\n",
      "total_il_high_credit_limit\n",
      "revol_bal_joint\n",
      "sec_app_fico_range_low\n",
      "sec_app_fico_range_high\n",
      "sec_app_earliest_cr_line\n",
      "sec_app_inq_last_6mths\n",
      "sec_app_mort_acc\n",
      "sec_app_open_acc\n",
      "sec_app_revol_util\n",
      "sec_app_open_act_il\n",
      "sec_app_num_rev_accts\n",
      "sec_app_chargeoff_within_12_mths\n",
      "sec_app_collections_12_mths_ex_med\n",
      "sec_app_mths_since_last_major_derog\n",
      "hardship_flag\n",
      "hardship_type\n",
      "hardship_reason\n",
      "hardship_status\n",
      "deferral_term\n",
      "hardship_amount\n",
      "hardship_start_date\n",
      "hardship_end_date\n",
      "payment_plan_start_date\n",
      "hardship_length\n",
      "hardship_dpd\n",
      "hardship_loan_status\n",
      "orig_projected_additional_accrued_interest\n",
      "hardship_payoff_balance_amount\n",
      "hardship_last_payment_amount\n",
      "disbursement_method\n",
      "debt_settlement_flag\n",
      "debt_settlement_flag_date\n",
      "settlement_status\n",
      "settlement_date\n",
      "settlement_amount\n",
      "settlement_percentage\n",
      "settlement_term\n"
     ]
    }
   ],
   "source": [
    "for columna in dataset_original.columns:\n",
    "    print(columna)"
   ]
  },
  {
   "cell_type": "code",
   "execution_count": 4,
   "metadata": {
    "colab": {
     "base_uri": "https://localhost:8080/"
    },
    "id": "4ULZx0V5lbXI",
    "outputId": "5be45b7a-ac8a-4da2-f46d-0d5977392fcc"
   },
   "outputs": [
    {
     "name": "stdout",
     "output_type": "stream",
     "text": [
      "Hay un total de 151 columnas por defecto.\n"
     ]
    }
   ],
   "source": [
    "print(f'Hay un total de {len(dataset_original.columns)} columnas por defecto.')"
   ]
  },
  {
   "cell_type": "code",
   "execution_count": 5,
   "metadata": {
    "id": "4dMI1NJRlbXI"
   },
   "outputs": [],
   "source": [
    "#Para no volver a leer nuevamente desde el inicio, realizamos una \"copia\"\n",
    "dataset_copia = dataset_original"
   ]
  },
  {
   "cell_type": "code",
   "execution_count": 6,
   "metadata": {
    "colab": {
     "base_uri": "https://localhost:8080/"
    },
    "id": "ZduE0sH7lbXI",
    "outputId": "e23b3639-7905-41ad-c52e-ec545666ce0e"
   },
   "outputs": [
    {
     "data": {
      "text/plain": [
       "(2260701, 151)"
      ]
     },
     "execution_count": 6,
     "metadata": {},
     "output_type": "execute_result"
    }
   ],
   "source": [
    "dataset_copia.shape"
   ]
  },
  {
   "cell_type": "code",
   "execution_count": 7,
   "metadata": {
    "colab": {
     "base_uri": "https://localhost:8080/"
    },
    "id": "P1TcHieNlbXI",
    "outputId": "11d095b0-9b6e-463a-872c-ee59d41d77c1"
   },
   "outputs": [
    {
     "name": "stdout",
     "output_type": "stream",
     "text": [
      "Hay 108486249 valores perdidos en Lending Club dataset.\n"
     ]
    }
   ],
   "source": [
    "#Identificaremos el tipo de dato, estadística, varianza, etc. Pero empezaremos analizando los datos nulos.\n",
    "data_perdida_acomulada = dataset_copia.isna().sum().sum()\n",
    "print(f'Hay {data_perdida_acomulada} valores perdidos en Lending Club dataset.')"
   ]
  },
  {
   "cell_type": "code",
   "execution_count": 8,
   "metadata": {
    "colab": {
     "base_uri": "https://localhost:8080/"
    },
    "id": "T-6oI97llbXJ",
    "outputId": "27113260-e452-40cd-a85e-899e2ae993c8",
    "scrolled": true
   },
   "outputs": [
    {
     "data": {
      "text/plain": [
       "float64    0.748344\n",
       "object     0.251656\n",
       "dtype: float64"
      ]
     },
     "execution_count": 8,
     "metadata": {},
     "output_type": "execute_result"
    }
   ],
   "source": [
    "#Se observa que casi el 25% son objetos comparado con el total, entonces es un buen inicio para \n",
    "# el analisis ya que necesitmos más números para las predicciones\n",
    "dataset_copia.dtypes.value_counts(normalize=True)"
   ]
  },
  {
   "cell_type": "code",
   "execution_count": 9,
   "metadata": {
    "colab": {
     "base_uri": "https://localhost:8080/",
     "height": 331
    },
    "id": "6ZwPJu8ilbXJ",
    "outputId": "babc1225-361c-43fd-dcf7-7bc6b4a696ab",
    "scrolled": true
   },
   "outputs": [
    {
     "data": {
      "text/html": [
       "<div>\n",
       "<style scoped>\n",
       "    .dataframe tbody tr th:only-of-type {\n",
       "        vertical-align: middle;\n",
       "    }\n",
       "\n",
       "    .dataframe tbody tr th {\n",
       "        vertical-align: top;\n",
       "    }\n",
       "\n",
       "    .dataframe thead th {\n",
       "        text-align: right;\n",
       "    }\n",
       "</style>\n",
       "<table border=\"1\" class=\"dataframe\">\n",
       "  <thead>\n",
       "    <tr style=\"text-align: right;\">\n",
       "      <th></th>\n",
       "      <th>member_id</th>\n",
       "      <th>loan_amnt</th>\n",
       "      <th>funded_amnt</th>\n",
       "      <th>funded_amnt_inv</th>\n",
       "      <th>int_rate</th>\n",
       "      <th>installment</th>\n",
       "      <th>annual_inc</th>\n",
       "      <th>dti</th>\n",
       "      <th>delinq_2yrs</th>\n",
       "      <th>fico_range_low</th>\n",
       "      <th>...</th>\n",
       "      <th>deferral_term</th>\n",
       "      <th>hardship_amount</th>\n",
       "      <th>hardship_length</th>\n",
       "      <th>hardship_dpd</th>\n",
       "      <th>orig_projected_additional_accrued_interest</th>\n",
       "      <th>hardship_payoff_balance_amount</th>\n",
       "      <th>hardship_last_payment_amount</th>\n",
       "      <th>settlement_amount</th>\n",
       "      <th>settlement_percentage</th>\n",
       "      <th>settlement_term</th>\n",
       "    </tr>\n",
       "  </thead>\n",
       "  <tbody>\n",
       "    <tr>\n",
       "      <th>count</th>\n",
       "      <td>0.0</td>\n",
       "      <td>2.260668e+06</td>\n",
       "      <td>2.260668e+06</td>\n",
       "      <td>2.260668e+06</td>\n",
       "      <td>2.260668e+06</td>\n",
       "      <td>2.260668e+06</td>\n",
       "      <td>2.260664e+06</td>\n",
       "      <td>2.258957e+06</td>\n",
       "      <td>2.260639e+06</td>\n",
       "      <td>2.260668e+06</td>\n",
       "      <td>...</td>\n",
       "      <td>10917.0</td>\n",
       "      <td>10917.000000</td>\n",
       "      <td>10917.0</td>\n",
       "      <td>10917.000000</td>\n",
       "      <td>8651.000000</td>\n",
       "      <td>10917.000000</td>\n",
       "      <td>10917.000000</td>\n",
       "      <td>34246.000000</td>\n",
       "      <td>34246.000000</td>\n",
       "      <td>34246.000000</td>\n",
       "    </tr>\n",
       "    <tr>\n",
       "      <th>mean</th>\n",
       "      <td>NaN</td>\n",
       "      <td>1.504693e+04</td>\n",
       "      <td>1.504166e+04</td>\n",
       "      <td>1.502344e+04</td>\n",
       "      <td>1.309283e+01</td>\n",
       "      <td>4.458068e+02</td>\n",
       "      <td>7.799243e+04</td>\n",
       "      <td>1.882420e+01</td>\n",
       "      <td>3.068792e-01</td>\n",
       "      <td>6.985882e+02</td>\n",
       "      <td>...</td>\n",
       "      <td>3.0</td>\n",
       "      <td>155.045981</td>\n",
       "      <td>3.0</td>\n",
       "      <td>13.743886</td>\n",
       "      <td>454.798089</td>\n",
       "      <td>11636.883942</td>\n",
       "      <td>193.994321</td>\n",
       "      <td>5010.664267</td>\n",
       "      <td>47.780365</td>\n",
       "      <td>13.191322</td>\n",
       "    </tr>\n",
       "    <tr>\n",
       "      <th>std</th>\n",
       "      <td>NaN</td>\n",
       "      <td>9.190245e+03</td>\n",
       "      <td>9.188413e+03</td>\n",
       "      <td>9.192332e+03</td>\n",
       "      <td>4.832138e+00</td>\n",
       "      <td>2.671735e+02</td>\n",
       "      <td>1.126962e+05</td>\n",
       "      <td>1.418333e+01</td>\n",
       "      <td>8.672303e-01</td>\n",
       "      <td>3.301038e+01</td>\n",
       "      <td>...</td>\n",
       "      <td>0.0</td>\n",
       "      <td>129.040594</td>\n",
       "      <td>0.0</td>\n",
       "      <td>9.671178</td>\n",
       "      <td>375.385500</td>\n",
       "      <td>7625.988281</td>\n",
       "      <td>198.629496</td>\n",
       "      <td>3693.122590</td>\n",
       "      <td>7.311822</td>\n",
       "      <td>8.159980</td>\n",
       "    </tr>\n",
       "    <tr>\n",
       "      <th>min</th>\n",
       "      <td>NaN</td>\n",
       "      <td>5.000000e+02</td>\n",
       "      <td>5.000000e+02</td>\n",
       "      <td>0.000000e+00</td>\n",
       "      <td>5.310000e+00</td>\n",
       "      <td>4.930000e+00</td>\n",
       "      <td>0.000000e+00</td>\n",
       "      <td>-1.000000e+00</td>\n",
       "      <td>0.000000e+00</td>\n",
       "      <td>6.100000e+02</td>\n",
       "      <td>...</td>\n",
       "      <td>3.0</td>\n",
       "      <td>0.640000</td>\n",
       "      <td>3.0</td>\n",
       "      <td>0.000000</td>\n",
       "      <td>1.920000</td>\n",
       "      <td>55.730000</td>\n",
       "      <td>0.010000</td>\n",
       "      <td>44.210000</td>\n",
       "      <td>0.200000</td>\n",
       "      <td>0.000000</td>\n",
       "    </tr>\n",
       "    <tr>\n",
       "      <th>25%</th>\n",
       "      <td>NaN</td>\n",
       "      <td>8.000000e+03</td>\n",
       "      <td>8.000000e+03</td>\n",
       "      <td>8.000000e+03</td>\n",
       "      <td>9.490000e+00</td>\n",
       "      <td>2.516500e+02</td>\n",
       "      <td>4.600000e+04</td>\n",
       "      <td>1.189000e+01</td>\n",
       "      <td>0.000000e+00</td>\n",
       "      <td>6.750000e+02</td>\n",
       "      <td>...</td>\n",
       "      <td>3.0</td>\n",
       "      <td>59.440000</td>\n",
       "      <td>3.0</td>\n",
       "      <td>5.000000</td>\n",
       "      <td>175.230000</td>\n",
       "      <td>5627.000000</td>\n",
       "      <td>44.440000</td>\n",
       "      <td>2208.000000</td>\n",
       "      <td>45.000000</td>\n",
       "      <td>6.000000</td>\n",
       "    </tr>\n",
       "    <tr>\n",
       "      <th>50%</th>\n",
       "      <td>NaN</td>\n",
       "      <td>1.290000e+04</td>\n",
       "      <td>1.287500e+04</td>\n",
       "      <td>1.280000e+04</td>\n",
       "      <td>1.262000e+01</td>\n",
       "      <td>3.779900e+02</td>\n",
       "      <td>6.500000e+04</td>\n",
       "      <td>1.784000e+01</td>\n",
       "      <td>0.000000e+00</td>\n",
       "      <td>6.900000e+02</td>\n",
       "      <td>...</td>\n",
       "      <td>3.0</td>\n",
       "      <td>119.140000</td>\n",
       "      <td>3.0</td>\n",
       "      <td>15.000000</td>\n",
       "      <td>352.770000</td>\n",
       "      <td>10028.390000</td>\n",
       "      <td>133.160000</td>\n",
       "      <td>4146.110000</td>\n",
       "      <td>45.000000</td>\n",
       "      <td>14.000000</td>\n",
       "    </tr>\n",
       "    <tr>\n",
       "      <th>75%</th>\n",
       "      <td>NaN</td>\n",
       "      <td>2.000000e+04</td>\n",
       "      <td>2.000000e+04</td>\n",
       "      <td>2.000000e+04</td>\n",
       "      <td>1.599000e+01</td>\n",
       "      <td>5.933200e+02</td>\n",
       "      <td>9.300000e+04</td>\n",
       "      <td>2.449000e+01</td>\n",
       "      <td>0.000000e+00</td>\n",
       "      <td>7.150000e+02</td>\n",
       "      <td>...</td>\n",
       "      <td>3.0</td>\n",
       "      <td>213.260000</td>\n",
       "      <td>3.0</td>\n",
       "      <td>22.000000</td>\n",
       "      <td>620.175000</td>\n",
       "      <td>16151.890000</td>\n",
       "      <td>284.190000</td>\n",
       "      <td>6850.172500</td>\n",
       "      <td>50.000000</td>\n",
       "      <td>18.000000</td>\n",
       "    </tr>\n",
       "    <tr>\n",
       "      <th>max</th>\n",
       "      <td>NaN</td>\n",
       "      <td>4.000000e+04</td>\n",
       "      <td>4.000000e+04</td>\n",
       "      <td>4.000000e+04</td>\n",
       "      <td>3.099000e+01</td>\n",
       "      <td>1.719830e+03</td>\n",
       "      <td>1.100000e+08</td>\n",
       "      <td>9.990000e+02</td>\n",
       "      <td>5.800000e+01</td>\n",
       "      <td>8.450000e+02</td>\n",
       "      <td>...</td>\n",
       "      <td>3.0</td>\n",
       "      <td>943.940000</td>\n",
       "      <td>3.0</td>\n",
       "      <td>37.000000</td>\n",
       "      <td>2680.890000</td>\n",
       "      <td>40306.410000</td>\n",
       "      <td>1407.860000</td>\n",
       "      <td>33601.000000</td>\n",
       "      <td>521.350000</td>\n",
       "      <td>181.000000</td>\n",
       "    </tr>\n",
       "  </tbody>\n",
       "</table>\n",
       "<p>8 rows × 113 columns</p>\n",
       "</div>"
      ],
      "text/plain": [
       "       member_id     loan_amnt   funded_amnt  funded_amnt_inv      int_rate  \\\n",
       "count        0.0  2.260668e+06  2.260668e+06     2.260668e+06  2.260668e+06   \n",
       "mean         NaN  1.504693e+04  1.504166e+04     1.502344e+04  1.309283e+01   \n",
       "std          NaN  9.190245e+03  9.188413e+03     9.192332e+03  4.832138e+00   \n",
       "min          NaN  5.000000e+02  5.000000e+02     0.000000e+00  5.310000e+00   \n",
       "25%          NaN  8.000000e+03  8.000000e+03     8.000000e+03  9.490000e+00   \n",
       "50%          NaN  1.290000e+04  1.287500e+04     1.280000e+04  1.262000e+01   \n",
       "75%          NaN  2.000000e+04  2.000000e+04     2.000000e+04  1.599000e+01   \n",
       "max          NaN  4.000000e+04  4.000000e+04     4.000000e+04  3.099000e+01   \n",
       "\n",
       "        installment    annual_inc           dti   delinq_2yrs  fico_range_low  \\\n",
       "count  2.260668e+06  2.260664e+06  2.258957e+06  2.260639e+06    2.260668e+06   \n",
       "mean   4.458068e+02  7.799243e+04  1.882420e+01  3.068792e-01    6.985882e+02   \n",
       "std    2.671735e+02  1.126962e+05  1.418333e+01  8.672303e-01    3.301038e+01   \n",
       "min    4.930000e+00  0.000000e+00 -1.000000e+00  0.000000e+00    6.100000e+02   \n",
       "25%    2.516500e+02  4.600000e+04  1.189000e+01  0.000000e+00    6.750000e+02   \n",
       "50%    3.779900e+02  6.500000e+04  1.784000e+01  0.000000e+00    6.900000e+02   \n",
       "75%    5.933200e+02  9.300000e+04  2.449000e+01  0.000000e+00    7.150000e+02   \n",
       "max    1.719830e+03  1.100000e+08  9.990000e+02  5.800000e+01    8.450000e+02   \n",
       "\n",
       "       ...  deferral_term  hardship_amount  hardship_length  hardship_dpd  \\\n",
       "count  ...        10917.0     10917.000000          10917.0  10917.000000   \n",
       "mean   ...            3.0       155.045981              3.0     13.743886   \n",
       "std    ...            0.0       129.040594              0.0      9.671178   \n",
       "min    ...            3.0         0.640000              3.0      0.000000   \n",
       "25%    ...            3.0        59.440000              3.0      5.000000   \n",
       "50%    ...            3.0       119.140000              3.0     15.000000   \n",
       "75%    ...            3.0       213.260000              3.0     22.000000   \n",
       "max    ...            3.0       943.940000              3.0     37.000000   \n",
       "\n",
       "       orig_projected_additional_accrued_interest  \\\n",
       "count                                 8651.000000   \n",
       "mean                                   454.798089   \n",
       "std                                    375.385500   \n",
       "min                                      1.920000   \n",
       "25%                                    175.230000   \n",
       "50%                                    352.770000   \n",
       "75%                                    620.175000   \n",
       "max                                   2680.890000   \n",
       "\n",
       "       hardship_payoff_balance_amount  hardship_last_payment_amount  \\\n",
       "count                    10917.000000                  10917.000000   \n",
       "mean                     11636.883942                    193.994321   \n",
       "std                       7625.988281                    198.629496   \n",
       "min                         55.730000                      0.010000   \n",
       "25%                       5627.000000                     44.440000   \n",
       "50%                      10028.390000                    133.160000   \n",
       "75%                      16151.890000                    284.190000   \n",
       "max                      40306.410000                   1407.860000   \n",
       "\n",
       "       settlement_amount  settlement_percentage  settlement_term  \n",
       "count       34246.000000           34246.000000     34246.000000  \n",
       "mean         5010.664267              47.780365        13.191322  \n",
       "std          3693.122590               7.311822         8.159980  \n",
       "min            44.210000               0.200000         0.000000  \n",
       "25%          2208.000000              45.000000         6.000000  \n",
       "50%          4146.110000              45.000000        14.000000  \n",
       "75%          6850.172500              50.000000        18.000000  \n",
       "max         33601.000000             521.350000       181.000000  \n",
       "\n",
       "[8 rows x 113 columns]"
      ]
     },
     "execution_count": 9,
     "metadata": {},
     "output_type": "execute_result"
    }
   ],
   "source": [
    "dataset_copia.describe()"
   ]
  },
  {
   "cell_type": "markdown",
   "metadata": {
    "id": "UDv9LoNXlbXJ"
   },
   "source": [
    "## Observación de la tabla estadística:\n",
    "- El valor promedio en prestamos (\"loan_amnt\") es: 15046.93$\n",
    "- El valor promedio en la tasa de interes (\"int_rate\") es: 13.09%\n",
    "- Hay muchas columnas con valores nulos (perdidos). Asi mismo, también hay valores atípicos como, por ejemplo, en \"anual_inc\"\n",
    "- Se opta por eliminar las columnas url, id, member_id porque no aportan información útil (revisar en el diccionario).\n",
    "- Hay grupos de personas que no tienen ingresos, se realizará un análisis de estos."
   ]
  },
  {
   "cell_type": "markdown",
   "metadata": {
    "id": "5fJNCNthlbXJ"
   },
   "source": [
    "## Definimos el Target\n",
    "- Antes de empezar con el tratamiento de datos, me aseguré de leer un poco más sobre cómo diferenciar los préstamos buenos de los malos.\n",
    "- La cuestion fue si poner los prestamos actuales (\"current\") en éxito o fracaso (1 o 0). Después de leer el comentario proporcionado por los autores, elijo eliminar por completo los préstamos Actuales (\"current\") del conjunto de datos, ya que existe incertidumbre sobre si terminarán siendo éxitos o fracasos.\n",
    "- Si incluyo los préstamos actual (\"Current\") y en período de gracia (\"In Grace Period\") como lo hicieron otros, según el estado del arte, entonces mi modelo sufriría un aumento sistemático en el riesgo de etiquetar los Verdaderos Negativos como Positivos, resultando en Falsos Positivos. Esto daría lugar a una pérdida doble por parte de los inversores: en primer lugar, de su inversión principal y, en segundo lugar, de la pérdida de ingresos por los pagos de intereses. Por lo tanto, elimino \"current\" y combino las secciones \"Fully Paid\" en 1 de la columna \"loan_status\". Al combinar las columnas restantes en 0, defino la clase Failure para mi modelo de aprendizaje automático.\n"
   ]
  },
  {
   "cell_type": "code",
   "execution_count": 10,
   "metadata": {
    "colab": {
     "base_uri": "https://localhost:8080/"
    },
    "id": "YZem-aPzlbXJ",
    "outputId": "4657f68b-b89e-4b58-d284-6e2a9a711d10",
    "scrolled": true
   },
   "outputs": [
    {
     "data": {
      "text/plain": [
       "Fully Paid                                             0.476298\n",
       "Current                                                0.388521\n",
       "Charged Off                                            0.118796\n",
       "Late (31-120 days)                                     0.009496\n",
       "In Grace Period                                        0.003732\n",
       "Late (16-30 days)                                      0.001924\n",
       "Does not meet the credit policy. Status:Fully Paid     0.000879\n",
       "Does not meet the credit policy. Status:Charged Off    0.000337\n",
       "Default                                                0.000018\n",
       "Name: loan_status, dtype: float64"
      ]
     },
     "execution_count": 10,
     "metadata": {},
     "output_type": "execute_result"
    }
   ],
   "source": [
    "prestamos = dataset_copia['loan_status'].value_counts(normalize=True)\n",
    "prestamos"
   ]
  },
  {
   "cell_type": "code",
   "execution_count": 11,
   "metadata": {
    "id": "rT_O3F_-lbXJ"
   },
   "outputs": [],
   "source": [
    "''' 1. Un hallazgo interesante es que hay un porcentaje de incumplimiento (\"Default\") drásticamente más bajo de lo que supuse\n",
    "'''\n",
    "#Aplicamos la definición de clase\n",
    "dataset_copia = dataset_copia.dropna(subset=['loan_status'])\n",
    "\n",
    "#Usamos un filtro en 'Current' y 'In Grace Period'\n",
    "dataset_copia = dataset_copia[dataset_copia['loan_status'] != 'Current']\n",
    "dataset_copia = dataset_copia[dataset_copia['loan_status'] != 'In Grace Period']\n",
    "\n",
    "#Ahora la funcion lambda facilita lo demás.\n",
    "dataset_copia['classes'] = dataset_copia['loan_status'].apply(lambda x: 1 if 'Fully Paid' in x else 0)"
   ]
  },
  {
   "cell_type": "code",
   "execution_count": 12,
   "metadata": {
    "colab": {
     "base_uri": "https://localhost:8080/"
    },
    "id": "dBjeBBQflbXJ",
    "outputId": "3b4795e3-9f03-490f-e31f-73bcd94d89a0"
   },
   "outputs": [
    {
     "data": {
      "text/plain": [
       "1    0.785157\n",
       "0    0.214843\n",
       "Name: classes, dtype: float64"
      ]
     },
     "execution_count": 12,
     "metadata": {},
     "output_type": "execute_result"
    }
   ],
   "source": [
    "Data_Clases = dataset_copia['classes'].value_counts(normalize=True)\n",
    "Data_Clases"
   ]
  },
  {
   "cell_type": "code",
   "execution_count": 13,
   "metadata": {
    "colab": {
     "base_uri": "https://localhost:8080/"
    },
    "id": "r1_dm2bnlbXJ",
    "outputId": "7ca70d4a-2eb7-406b-9277-822893846cd7"
   },
   "outputs": [
    {
     "data": {
      "text/plain": [
       "700.0929904688427"
      ]
     },
     "execution_count": 13,
     "metadata": {},
     "output_type": "execute_result"
    }
   ],
   "source": [
    "dataset_copia['fico_range_high'].mean()"
   ]
  },
  {
   "cell_type": "code",
   "execution_count": 14,
   "metadata": {
    "colab": {
     "base_uri": "https://localhost:8080/"
    },
    "id": "Dsp1Cy2vlbXJ",
    "outputId": "ce704fa3-7eee-4570-b983-d4b07844fc36"
   },
   "outputs": [
    {
     "data": {
      "text/plain": [
       "696.0928514500533"
      ]
     },
     "execution_count": 14,
     "metadata": {},
     "output_type": "execute_result"
    }
   ],
   "source": [
    "dataset_copia['fico_range_low'].mean()"
   ]
  },
  {
   "cell_type": "code",
   "execution_count": 15,
   "metadata": {
    "colab": {
     "base_uri": "https://localhost:8080/",
     "height": 303
    },
    "id": "fwBrjOfjlbXJ",
    "outputId": "20faed7f-7586-4c68-fcdd-0fa1c8e7aa55"
   },
   "outputs": [
    {
     "data": {
      "image/png": "[encoded data removed]",
      "text/plain": [
       "<Figure size 432x288 with 1 Axes>"
      ]
     },
     "metadata": {
      "needs_background": "light"
     },
     "output_type": "display_data"
    }
   ],
   "source": [
    "#Visualizamos el estado de prestamos: variable\n",
    "dataset_copia['classes'].hist(bins=3)\n",
    "plt.title('Estado de Prestamos', size=20);\n",
    "plt.xlabel('Estado', size= 12);\n",
    "plt.ylabel('Cantidad', size=12);\n",
    "\n",
    "#En este caso se observa que hay un gran desbalance. Entonces normalizamos para obtener una mejor predicción."
   ]
  },
  {
   "cell_type": "markdown",
   "metadata": {
    "id": "HW8FatNolbXJ"
   },
   "source": [
    "## Descartamos algunas columnas específicas\n",
    "Las siguientes listas ya existen incluidas en otras, así que las eliminaré\n",
    "- url, id, member_id -> ya que no contienen informacion\n",
    "- todas las columnas \"hardship_###\" -> ya que existen flags binarios)\n",
    "- todas las columnas \"sec_app_###\" -> ya que usan solo application_type para indicar si era unico o conjunto\n",
    "- toda la información de liquidación -> ya que esta es información redundante, si el préstamo no se pagó por completo, etc\n",
    "- Todas las columnas con más del 70% de valores Null -> ya que no aportarán información y se perderá rigurosidad al tratar de imputar"
   ]
  },
  {
   "cell_type": "code",
   "execution_count": 16,
   "metadata": {
    "colab": {
     "base_uri": "https://localhost:8080/"
    },
    "id": "i2Edz9oWlbXJ",
    "outputId": "62fc5de8-44dd-4964-b0d0-fd8e46e3118b"
   },
   "outputs": [
    {
     "data": {
      "text/plain": [
       "id                             0\n",
       "member_id                1373915\n",
       "loan_amnt                      0\n",
       "funded_amnt                    0\n",
       "funded_amnt_inv                0\n",
       "                          ...   \n",
       "settlement_date          1339707\n",
       "settlement_amount        1339707\n",
       "settlement_percentage    1339707\n",
       "settlement_term          1339707\n",
       "classes                        0\n",
       "Length: 152, dtype: int64"
      ]
     },
     "execution_count": 16,
     "metadata": {},
     "output_type": "execute_result"
    }
   ],
   "source": [
    "dataset_copia.isnull().sum()"
   ]
  },
  {
   "cell_type": "code",
   "execution_count": 17,
   "metadata": {
    "colab": {
     "base_uri": "https://localhost:8080/"
    },
    "id": "zvqLxyiXlbXJ",
    "outputId": "4b14d6c1-372f-49a4-9377-539928f2708f"
   },
   "outputs": [
    {
     "data": {
      "text/plain": [
       "71696981"
      ]
     },
     "execution_count": 17,
     "metadata": {},
     "output_type": "execute_result"
    }
   ],
   "source": [
    "dataset_copia.isnull().sum().sum()"
   ]
  },
  {
   "cell_type": "code",
   "execution_count": 18,
   "metadata": {
    "id": "Do0MiMWOlbXJ",
    "scrolled": true
   },
   "outputs": [],
   "source": [
    "dataset_copia = dataset_copia.drop(columns= ['id', 'member_id', 'url', 'policy_code'])"
   ]
  },
  {
   "cell_type": "code",
   "execution_count": 19,
   "metadata": {
    "id": "Mi9RUrxolbXJ",
    "scrolled": true
   },
   "outputs": [],
   "source": [
    "data = dataset_copia.drop(columns=['loan_status'])"
   ]
  },
  {
   "cell_type": "code",
   "execution_count": 20,
   "metadata": {
    "id": "kNHQaBculbXJ"
   },
   "outputs": [],
   "source": [
    "dataset_copia = dataset_copia.drop(columns=['zip_code','sub_grade','mths_since_last_record','mths_since_last_delinq', 'mths_since_recent_bc_dlq','mths_since_recent_bc',\n",
    "                          'mths_since_recent_inq', 'mths_since_recent_revol_delinq', 'mo_sin_old_il_acct',\n",
    "                          'mo_sin_old_rev_tl_op', 'mo_sin_rcnt_rev_tl_op', 'mo_sin_rcnt_tl', 'last_credit_pull_d'])"
   ]
  },
  {
   "cell_type": "code",
   "execution_count": 21,
   "metadata": {
    "id": "tEocq5p0lbXJ",
    "scrolled": true
   },
   "outputs": [],
   "source": [
    "dataset_copia = dataset_copia.drop(columns=['last_pymnt_d', 'next_pymnt_d','total_bal_il', 'total_bc_limit', 'total_cu_tl',\n",
    "                          'total_pymnt', 'total_pymnt_inv', 'total_rec_int',\n",
    "                          'total_rec_late_fee', 'total_rec_prncp', 'total_rev_hi_lim', 'initial_list_status'])"
   ]
  },
  {
   "cell_type": "code",
   "execution_count": 22,
   "metadata": {
    "id": "ooVcV2fJlbXJ",
    "scrolled": true
   },
   "outputs": [],
   "source": [
    "# Con respecto al segundo punto\n",
    "dataset_copia = dataset_copia.drop(columns=['debt_settlement_flag_date', 'hardship_type',\n",
    "                          'hardship_reason', 'hardship_status', \n",
    "                          'hardship_amount', 'hardship_start_date',\n",
    "                          'hardship_end_date', 'payment_plan_start_date', 'hardship_length',\n",
    "                          'hardship_dpd', 'hardship_loan_status', 'deferral_term',\n",
    "                          'orig_projected_additional_accrued_interest',\n",
    "                          'hardship_payoff_balance_amount', 'hardship_last_payment_amount'])"
   ]
  },
  {
   "cell_type": "code",
   "execution_count": 23,
   "metadata": {
    "id": "iiiw-EpRlbXJ"
   },
   "outputs": [],
   "source": [
    "# Con respecto al tercer punto\n",
    "dataset_copia = dataset_copia.drop(columns=['sec_app_earliest_cr_line',\n",
    "                          'revol_bal_joint','verification_status_joint', 'dti_joint', 'annual_inc_joint',\n",
    "                          'sec_app_inq_last_6mths', 'sec_app_mort_acc',\n",
    "                          'sec_app_open_acc', 'sec_app_revol_util','sec_app_open_act_il',\n",
    "                          'sec_app_num_rev_accts', 'sec_app_chargeoff_within_12_mths',\n",
    "                          'sec_app_collections_12_mths_ex_med', 'sec_app_mths_since_last_major_derog', 'sec_app_fico_range_low', 'sec_app_fico_range_high' ])"
   ]
  },
  {
   "cell_type": "code",
   "execution_count": 24,
   "metadata": {
    "id": "-Ug5VnLulbXJ"
   },
   "outputs": [],
   "source": [
    "dataset_copia = dataset_copia.drop(columns=['all_util', 'open_acc_6m', 'inq_last_12m', 'open_act_il', \n",
    "                          'open_il_12m', 'open_il_24m', 'open_rv_12m', 'open_rv_24m', \n",
    "                          'inq_fi', 'max_bal_bc', 'mths_since_last_major_derog',\n",
    "                          'il_util', 'num_tl_120dpd_2m', 'mths_since_rcnt_il'])\n"
   ]
  },
  {
   "cell_type": "code",
   "execution_count": 25,
   "metadata": {
    "id": "xcdE0VMTlbXJ"
   },
   "outputs": [],
   "source": [
    "#Con respecto al 4to punto\n",
    "dataset_copia= dataset_copia.drop(columns=['settlement_status', 'settlement_date',\n",
    "                         'settlement_amount', 'settlement_percentage', 'settlement_term'])"
   ]
  },
  {
   "cell_type": "markdown",
   "metadata": {
    "id": "DtKVQcXDlbXJ"
   },
   "source": [
    "## Observamos las correlaciones"
   ]
  },
  {
   "cell_type": "code",
   "execution_count": 26,
   "metadata": {
    "colab": {
     "base_uri": "https://localhost:8080/",
     "height": 1000
    },
    "id": "uVa6UkwulbXJ",
    "outputId": "97c844ed-ebdf-40da-e9f7-7d046c61fcc8",
    "scrolled": true
   },
   "outputs": [
    {
     "data": {
      "text/html": [
       "<div>\n",
       "<style scoped>\n",
       "    .dataframe tbody tr th:only-of-type {\n",
       "        vertical-align: middle;\n",
       "    }\n",
       "\n",
       "    .dataframe tbody tr th {\n",
       "        vertical-align: top;\n",
       "    }\n",
       "\n",
       "    .dataframe thead th {\n",
       "        text-align: right;\n",
       "    }\n",
       "</style>\n",
       "<table border=\"1\" class=\"dataframe\">\n",
       "  <thead>\n",
       "    <tr style=\"text-align: right;\">\n",
       "      <th></th>\n",
       "      <th>loan_amnt</th>\n",
       "      <th>funded_amnt</th>\n",
       "      <th>funded_amnt_inv</th>\n",
       "      <th>int_rate</th>\n",
       "      <th>installment</th>\n",
       "      <th>annual_inc</th>\n",
       "      <th>dti</th>\n",
       "      <th>delinq_2yrs</th>\n",
       "      <th>fico_range_low</th>\n",
       "      <th>fico_range_high</th>\n",
       "      <th>...</th>\n",
       "      <th>num_tl_90g_dpd_24m</th>\n",
       "      <th>num_tl_op_past_12m</th>\n",
       "      <th>pct_tl_nvr_dlq</th>\n",
       "      <th>percent_bc_gt_75</th>\n",
       "      <th>pub_rec_bankruptcies</th>\n",
       "      <th>tax_liens</th>\n",
       "      <th>tot_hi_cred_lim</th>\n",
       "      <th>total_bal_ex_mort</th>\n",
       "      <th>total_il_high_credit_limit</th>\n",
       "      <th>classes</th>\n",
       "    </tr>\n",
       "  </thead>\n",
       "  <tbody>\n",
       "    <tr>\n",
       "      <th>loan_amnt</th>\n",
       "      <td>1.000000</td>\n",
       "      <td>0.999556</td>\n",
       "      <td>0.998259</td>\n",
       "      <td>0.142477</td>\n",
       "      <td>0.953021</td>\n",
       "      <td>0.309873</td>\n",
       "      <td>0.032195</td>\n",
       "      <td>-0.002138</td>\n",
       "      <td>0.101643</td>\n",
       "      <td>0.101642</td>\n",
       "      <td>...</td>\n",
       "      <td>-0.021811</td>\n",
       "      <td>-0.020131</td>\n",
       "      <td>0.087934</td>\n",
       "      <td>0.020342</td>\n",
       "      <td>-0.092956</td>\n",
       "      <td>0.007817</td>\n",
       "      <td>0.334170</td>\n",
       "      <td>0.275413</td>\n",
       "      <td>0.200318</td>\n",
       "      <td>-0.072908</td>\n",
       "    </tr>\n",
       "    <tr>\n",
       "      <th>funded_amnt</th>\n",
       "      <td>0.999556</td>\n",
       "      <td>1.000000</td>\n",
       "      <td>0.998808</td>\n",
       "      <td>0.142571</td>\n",
       "      <td>0.953674</td>\n",
       "      <td>0.309765</td>\n",
       "      <td>0.032588</td>\n",
       "      <td>-0.001945</td>\n",
       "      <td>0.100813</td>\n",
       "      <td>0.100812</td>\n",
       "      <td>...</td>\n",
       "      <td>-0.021812</td>\n",
       "      <td>-0.020133</td>\n",
       "      <td>0.087934</td>\n",
       "      <td>0.020341</td>\n",
       "      <td>-0.092761</td>\n",
       "      <td>0.007949</td>\n",
       "      <td>0.334169</td>\n",
       "      <td>0.275413</td>\n",
       "      <td>0.200315</td>\n",
       "      <td>-0.072978</td>\n",
       "    </tr>\n",
       "    <tr>\n",
       "      <th>funded_amnt_inv</th>\n",
       "      <td>0.998259</td>\n",
       "      <td>0.998808</td>\n",
       "      <td>1.000000</td>\n",
       "      <td>0.142661</td>\n",
       "      <td>0.952313</td>\n",
       "      <td>0.309242</td>\n",
       "      <td>0.033657</td>\n",
       "      <td>-0.001645</td>\n",
       "      <td>0.100030</td>\n",
       "      <td>0.100029</td>\n",
       "      <td>...</td>\n",
       "      <td>-0.021826</td>\n",
       "      <td>-0.020149</td>\n",
       "      <td>0.087948</td>\n",
       "      <td>0.020290</td>\n",
       "      <td>-0.092393</td>\n",
       "      <td>0.008243</td>\n",
       "      <td>0.334197</td>\n",
       "      <td>0.275419</td>\n",
       "      <td>0.200319</td>\n",
       "      <td>-0.072597</td>\n",
       "    </tr>\n",
       "    <tr>\n",
       "      <th>int_rate</th>\n",
       "      <td>0.142477</td>\n",
       "      <td>0.142571</td>\n",
       "      <td>0.142661</td>\n",
       "      <td>1.000000</td>\n",
       "      <td>0.155666</td>\n",
       "      <td>-0.071362</td>\n",
       "      <td>0.146165</td>\n",
       "      <td>0.047965</td>\n",
       "      <td>-0.403169</td>\n",
       "      <td>-0.403166</td>\n",
       "      <td>...</td>\n",
       "      <td>0.026583</td>\n",
       "      <td>0.206641</td>\n",
       "      <td>-0.063701</td>\n",
       "      <td>0.248037</td>\n",
       "      <td>0.058580</td>\n",
       "      <td>0.011477</td>\n",
       "      <td>-0.118486</td>\n",
       "      <td>0.004525</td>\n",
       "      <td>-0.002747</td>\n",
       "      <td>-0.263577</td>\n",
       "    </tr>\n",
       "    <tr>\n",
       "      <th>installment</th>\n",
       "      <td>0.953021</td>\n",
       "      <td>0.953674</td>\n",
       "      <td>0.952313</td>\n",
       "      <td>0.155666</td>\n",
       "      <td>1.000000</td>\n",
       "      <td>0.300753</td>\n",
       "      <td>0.035986</td>\n",
       "      <td>0.007124</td>\n",
       "      <td>0.051494</td>\n",
       "      <td>0.051493</td>\n",
       "      <td>...</td>\n",
       "      <td>-0.016399</td>\n",
       "      <td>0.000162</td>\n",
       "      <td>0.070509</td>\n",
       "      <td>0.040028</td>\n",
       "      <td>-0.085199</td>\n",
       "      <td>0.014752</td>\n",
       "      <td>0.301477</td>\n",
       "      <td>0.260119</td>\n",
       "      <td>0.185541</td>\n",
       "      <td>-0.057873</td>\n",
       "    </tr>\n",
       "    <tr>\n",
       "      <th>annual_inc</th>\n",
       "      <td>0.309873</td>\n",
       "      <td>0.309765</td>\n",
       "      <td>0.309242</td>\n",
       "      <td>-0.071362</td>\n",
       "      <td>0.300753</td>\n",
       "      <td>1.000000</td>\n",
       "      <td>-0.139055</td>\n",
       "      <td>0.040924</td>\n",
       "      <td>0.069903</td>\n",
       "      <td>0.069904</td>\n",
       "      <td>...</td>\n",
       "      <td>0.007510</td>\n",
       "      <td>0.052413</td>\n",
       "      <td>-0.007275</td>\n",
       "      <td>-0.016370</td>\n",
       "      <td>-0.043951</td>\n",
       "      <td>0.037793</td>\n",
       "      <td>0.408800</td>\n",
       "      <td>0.315126</td>\n",
       "      <td>0.262025</td>\n",
       "      <td>0.039071</td>\n",
       "    </tr>\n",
       "    <tr>\n",
       "      <th>dti</th>\n",
       "      <td>0.032195</td>\n",
       "      <td>0.032588</td>\n",
       "      <td>0.033657</td>\n",
       "      <td>0.146165</td>\n",
       "      <td>0.035986</td>\n",
       "      <td>-0.139055</td>\n",
       "      <td>1.000000</td>\n",
       "      <td>-0.008023</td>\n",
       "      <td>-0.060032</td>\n",
       "      <td>-0.060035</td>\n",
       "      <td>...</td>\n",
       "      <td>-0.013967</td>\n",
       "      <td>0.068868</td>\n",
       "      <td>0.072104</td>\n",
       "      <td>0.127592</td>\n",
       "      <td>-0.016726</td>\n",
       "      <td>-0.022822</td>\n",
       "      <td>0.015190</td>\n",
       "      <td>0.223567</td>\n",
       "      <td>0.252218</td>\n",
       "      <td>-0.084895</td>\n",
       "    </tr>\n",
       "    <tr>\n",
       "      <th>delinq_2yrs</th>\n",
       "      <td>-0.002138</td>\n",
       "      <td>-0.001945</td>\n",
       "      <td>-0.001645</td>\n",
       "      <td>0.047965</td>\n",
       "      <td>0.007124</td>\n",
       "      <td>0.040924</td>\n",
       "      <td>-0.008023</td>\n",
       "      <td>1.000000</td>\n",
       "      <td>-0.174090</td>\n",
       "      <td>-0.174088</td>\n",
       "      <td>...</td>\n",
       "      <td>0.656164</td>\n",
       "      <td>-0.025121</td>\n",
       "      <td>-0.444748</td>\n",
       "      <td>-0.010852</td>\n",
       "      <td>-0.047360</td>\n",
       "      <td>0.011169</td>\n",
       "      <td>0.058910</td>\n",
       "      <td>0.032243</td>\n",
       "      <td>0.062321</td>\n",
       "      <td>-0.020347</td>\n",
       "    </tr>\n",
       "    <tr>\n",
       "      <th>fico_range_low</th>\n",
       "      <td>0.101643</td>\n",
       "      <td>0.100813</td>\n",
       "      <td>0.100030</td>\n",
       "      <td>-0.403169</td>\n",
       "      <td>0.051494</td>\n",
       "      <td>0.069903</td>\n",
       "      <td>-0.060032</td>\n",
       "      <td>-0.174090</td>\n",
       "      <td>1.000000</td>\n",
       "      <td>1.000000</td>\n",
       "      <td>...</td>\n",
       "      <td>-0.101882</td>\n",
       "      <td>-0.092465</td>\n",
       "      <td>0.300555</td>\n",
       "      <td>-0.410429</td>\n",
       "      <td>-0.202539</td>\n",
       "      <td>-0.057341</td>\n",
       "      <td>0.195576</td>\n",
       "      <td>0.031953</td>\n",
       "      <td>0.062800</td>\n",
       "      <td>0.129188</td>\n",
       "    </tr>\n",
       "    <tr>\n",
       "      <th>fico_range_high</th>\n",
       "      <td>0.101642</td>\n",
       "      <td>0.100812</td>\n",
       "      <td>0.100029</td>\n",
       "      <td>-0.403166</td>\n",
       "      <td>0.051493</td>\n",
       "      <td>0.069904</td>\n",
       "      <td>-0.060035</td>\n",
       "      <td>-0.174088</td>\n",
       "      <td>1.000000</td>\n",
       "      <td>1.000000</td>\n",
       "      <td>...</td>\n",
       "      <td>-0.101881</td>\n",
       "      <td>-0.092467</td>\n",
       "      <td>0.300552</td>\n",
       "      <td>-0.410426</td>\n",
       "      <td>-0.202536</td>\n",
       "      <td>-0.057341</td>\n",
       "      <td>0.195577</td>\n",
       "      <td>0.031951</td>\n",
       "      <td>0.062798</td>\n",
       "      <td>0.129186</td>\n",
       "    </tr>\n",
       "    <tr>\n",
       "      <th>inq_last_6mths</th>\n",
       "      <td>-0.019264</td>\n",
       "      <td>-0.019645</td>\n",
       "      <td>-0.022477</td>\n",
       "      <td>0.209321</td>\n",
       "      <td>0.002737</td>\n",
       "      <td>0.031598</td>\n",
       "      <td>-0.009542</td>\n",
       "      <td>0.022412</td>\n",
       "      <td>-0.086113</td>\n",
       "      <td>-0.086113</td>\n",
       "      <td>...</td>\n",
       "      <td>0.031360</td>\n",
       "      <td>0.316861</td>\n",
       "      <td>-0.032253</td>\n",
       "      <td>-0.067344</td>\n",
       "      <td>0.073295</td>\n",
       "      <td>0.008850</td>\n",
       "      <td>0.030790</td>\n",
       "      <td>0.036628</td>\n",
       "      <td>0.044760</td>\n",
       "      <td>-0.061624</td>\n",
       "    </tr>\n",
       "    <tr>\n",
       "      <th>open_acc</th>\n",
       "      <td>0.185681</td>\n",
       "      <td>0.185981</td>\n",
       "      <td>0.186387</td>\n",
       "      <td>-0.004353</td>\n",
       "      <td>0.176024</td>\n",
       "      <td>0.134801</td>\n",
       "      <td>0.222143</td>\n",
       "      <td>0.052478</td>\n",
       "      <td>0.017038</td>\n",
       "      <td>0.017037</td>\n",
       "      <td>...</td>\n",
       "      <td>0.011561</td>\n",
       "      <td>0.367172</td>\n",
       "      <td>0.109034</td>\n",
       "      <td>-0.095612</td>\n",
       "      <td>-0.021868</td>\n",
       "      <td>-0.004509</td>\n",
       "      <td>0.281847</td>\n",
       "      <td>0.400299</td>\n",
       "      <td>0.361762</td>\n",
       "      <td>-0.026775</td>\n",
       "    </tr>\n",
       "    <tr>\n",
       "      <th>pub_rec</th>\n",
       "      <td>-0.064388</td>\n",
       "      <td>-0.064146</td>\n",
       "      <td>-0.063475</td>\n",
       "      <td>0.052233</td>\n",
       "      <td>-0.052988</td>\n",
       "      <td>-0.004803</td>\n",
       "      <td>-0.030566</td>\n",
       "      <td>-0.020327</td>\n",
       "      <td>-0.191011</td>\n",
       "      <td>-0.191009</td>\n",
       "      <td>...</td>\n",
       "      <td>-0.000668</td>\n",
       "      <td>0.083674</td>\n",
       "      <td>-0.026497</td>\n",
       "      <td>-0.044444</td>\n",
       "      <td>0.647560</td>\n",
       "      <td>0.701350</td>\n",
       "      <td>-0.075084</td>\n",
       "      <td>-0.058000</td>\n",
       "      <td>-0.022949</td>\n",
       "      <td>-0.026086</td>\n",
       "    </tr>\n",
       "    <tr>\n",
       "      <th>revol_bal</th>\n",
       "      <td>0.314501</td>\n",
       "      <td>0.314379</td>\n",
       "      <td>0.313296</td>\n",
       "      <td>-0.028264</td>\n",
       "      <td>0.303342</td>\n",
       "      <td>0.284923</td>\n",
       "      <td>0.107710</td>\n",
       "      <td>-0.027881</td>\n",
       "      <td>0.025751</td>\n",
       "      <td>0.025749</td>\n",
       "      <td>...</td>\n",
       "      <td>-0.033468</td>\n",
       "      <td>-0.025593</td>\n",
       "      <td>0.114909</td>\n",
       "      <td>0.128369</td>\n",
       "      <td>-0.115992</td>\n",
       "      <td>-0.012126</td>\n",
       "      <td>0.463819</td>\n",
       "      <td>0.504233</td>\n",
       "      <td>0.119308</td>\n",
       "      <td>0.020725</td>\n",
       "    </tr>\n",
       "    <tr>\n",
       "      <th>revol_util</th>\n",
       "      <td>0.106218</td>\n",
       "      <td>0.106383</td>\n",
       "      <td>0.106490</td>\n",
       "      <td>0.240323</td>\n",
       "      <td>0.124952</td>\n",
       "      <td>0.035590</td>\n",
       "      <td>0.139436</td>\n",
       "      <td>-0.011202</td>\n",
       "      <td>-0.459067</td>\n",
       "      <td>-0.459066</td>\n",
       "      <td>...</td>\n",
       "      <td>-0.011085</td>\n",
       "      <td>-0.218025</td>\n",
       "      <td>-0.016431</td>\n",
       "      <td>0.727165</td>\n",
       "      <td>-0.085778</td>\n",
       "      <td>-0.011014</td>\n",
       "      <td>0.027776</td>\n",
       "      <td>0.120968</td>\n",
       "      <td>0.031970</td>\n",
       "      <td>-0.054068</td>\n",
       "    </tr>\n",
       "    <tr>\n",
       "      <th>total_acc</th>\n",
       "      <td>0.207573</td>\n",
       "      <td>0.207506</td>\n",
       "      <td>0.207591</td>\n",
       "      <td>-0.043344</td>\n",
       "      <td>0.184598</td>\n",
       "      <td>0.175246</td>\n",
       "      <td>0.171435</td>\n",
       "      <td>0.119579</td>\n",
       "      <td>0.020993</td>\n",
       "      <td>0.020992</td>\n",
       "      <td>...</td>\n",
       "      <td>0.070575</td>\n",
       "      <td>0.328138</td>\n",
       "      <td>0.016215</td>\n",
       "      <td>-0.071838</td>\n",
       "      <td>0.033614</td>\n",
       "      <td>-0.018891</td>\n",
       "      <td>0.334283</td>\n",
       "      <td>0.429953</td>\n",
       "      <td>0.417639</td>\n",
       "      <td>0.016556</td>\n",
       "    </tr>\n",
       "    <tr>\n",
       "      <th>out_prncp</th>\n",
       "      <td>0.109561</td>\n",
       "      <td>0.109717</td>\n",
       "      <td>0.109926</td>\n",
       "      <td>0.070006</td>\n",
       "      <td>0.095007</td>\n",
       "      <td>0.018582</td>\n",
       "      <td>0.018349</td>\n",
       "      <td>0.004917</td>\n",
       "      <td>0.000762</td>\n",
       "      <td>0.000763</td>\n",
       "      <td>...</td>\n",
       "      <td>0.000428</td>\n",
       "      <td>0.009914</td>\n",
       "      <td>-0.007197</td>\n",
       "      <td>-0.018080</td>\n",
       "      <td>0.002076</td>\n",
       "      <td>0.000629</td>\n",
       "      <td>0.009402</td>\n",
       "      <td>0.018527</td>\n",
       "      <td>0.021167</td>\n",
       "      <td>-0.211324</td>\n",
       "    </tr>\n",
       "    <tr>\n",
       "      <th>out_prncp_inv</th>\n",
       "      <td>0.109561</td>\n",
       "      <td>0.109717</td>\n",
       "      <td>0.109927</td>\n",
       "      <td>0.070007</td>\n",
       "      <td>0.095000</td>\n",
       "      <td>0.018583</td>\n",
       "      <td>0.018346</td>\n",
       "      <td>0.004915</td>\n",
       "      <td>0.000766</td>\n",
       "      <td>0.000767</td>\n",
       "      <td>...</td>\n",
       "      <td>0.000429</td>\n",
       "      <td>0.009911</td>\n",
       "      <td>-0.007196</td>\n",
       "      <td>-0.018081</td>\n",
       "      <td>0.002073</td>\n",
       "      <td>0.000629</td>\n",
       "      <td>0.009404</td>\n",
       "      <td>0.018527</td>\n",
       "      <td>0.021167</td>\n",
       "      <td>-0.211313</td>\n",
       "    </tr>\n",
       "    <tr>\n",
       "      <th>recoveries</th>\n",
       "      <td>0.187639</td>\n",
       "      <td>0.187775</td>\n",
       "      <td>0.187526</td>\n",
       "      <td>0.184337</td>\n",
       "      <td>0.168780</td>\n",
       "      <td>0.027375</td>\n",
       "      <td>0.047194</td>\n",
       "      <td>0.017965</td>\n",
       "      <td>-0.058543</td>\n",
       "      <td>-0.058543</td>\n",
       "      <td>...</td>\n",
       "      <td>0.004116</td>\n",
       "      <td>0.053904</td>\n",
       "      <td>0.000265</td>\n",
       "      <td>0.043822</td>\n",
       "      <td>-0.001641</td>\n",
       "      <td>0.004188</td>\n",
       "      <td>0.013300</td>\n",
       "      <td>0.048415</td>\n",
       "      <td>0.042282</td>\n",
       "      <td>-0.477313</td>\n",
       "    </tr>\n",
       "    <tr>\n",
       "      <th>collection_recovery_fee</th>\n",
       "      <td>0.179745</td>\n",
       "      <td>0.179954</td>\n",
       "      <td>0.179623</td>\n",
       "      <td>0.171063</td>\n",
       "      <td>0.162029</td>\n",
       "      <td>0.027231</td>\n",
       "      <td>0.047751</td>\n",
       "      <td>0.018590</td>\n",
       "      <td>-0.056584</td>\n",
       "      <td>-0.056583</td>\n",
       "      <td>...</td>\n",
       "      <td>0.004434</td>\n",
       "      <td>0.053707</td>\n",
       "      <td>-0.001048</td>\n",
       "      <td>0.040385</td>\n",
       "      <td>0.000369</td>\n",
       "      <td>0.004823</td>\n",
       "      <td>0.014091</td>\n",
       "      <td>0.049332</td>\n",
       "      <td>0.043495</td>\n",
       "      <td>-0.453070</td>\n",
       "    </tr>\n",
       "    <tr>\n",
       "      <th>last_pymnt_amnt</th>\n",
       "      <td>0.492016</td>\n",
       "      <td>0.492400</td>\n",
       "      <td>0.492682</td>\n",
       "      <td>0.079604</td>\n",
       "      <td>0.432396</td>\n",
       "      <td>0.177731</td>\n",
       "      <td>-0.002852</td>\n",
       "      <td>-0.016859</td>\n",
       "      <td>0.104774</td>\n",
       "      <td>0.104774</td>\n",
       "      <td>...</td>\n",
       "      <td>-0.017668</td>\n",
       "      <td>0.023831</td>\n",
       "      <td>0.057681</td>\n",
       "      <td>-0.049763</td>\n",
       "      <td>-0.025370</td>\n",
       "      <td>-0.010357</td>\n",
       "      <td>0.235021</td>\n",
       "      <td>0.157128</td>\n",
       "      <td>0.127177</td>\n",
       "      <td>0.358162</td>\n",
       "    </tr>\n",
       "    <tr>\n",
       "      <th>last_fico_range_high</th>\n",
       "      <td>0.048651</td>\n",
       "      <td>0.048420</td>\n",
       "      <td>0.048267</td>\n",
       "      <td>-0.348143</td>\n",
       "      <td>0.035247</td>\n",
       "      <td>0.066452</td>\n",
       "      <td>-0.074253</td>\n",
       "      <td>-0.072732</td>\n",
       "      <td>0.342210</td>\n",
       "      <td>0.342209</td>\n",
       "      <td>...</td>\n",
       "      <td>-0.038160</td>\n",
       "      <td>-0.122611</td>\n",
       "      <td>0.104086</td>\n",
       "      <td>-0.166494</td>\n",
       "      <td>-0.063487</td>\n",
       "      <td>-0.020133</td>\n",
       "      <td>0.139315</td>\n",
       "      <td>0.027659</td>\n",
       "      <td>0.020217</td>\n",
       "      <td>0.664926</td>\n",
       "    </tr>\n",
       "    <tr>\n",
       "      <th>last_fico_range_low</th>\n",
       "      <td>0.046008</td>\n",
       "      <td>0.045824</td>\n",
       "      <td>0.045783</td>\n",
       "      <td>-0.270077</td>\n",
       "      <td>0.036046</td>\n",
       "      <td>0.059827</td>\n",
       "      <td>-0.044970</td>\n",
       "      <td>-0.035930</td>\n",
       "      <td>0.245194</td>\n",
       "      <td>0.245193</td>\n",
       "      <td>...</td>\n",
       "      <td>-0.020406</td>\n",
       "      <td>-0.089385</td>\n",
       "      <td>0.058719</td>\n",
       "      <td>-0.113356</td>\n",
       "      <td>-0.049310</td>\n",
       "      <td>-0.017056</td>\n",
       "      <td>0.126286</td>\n",
       "      <td>0.044595</td>\n",
       "      <td>0.038831</td>\n",
       "      <td>0.567334</td>\n",
       "    </tr>\n",
       "    <tr>\n",
       "      <th>collections_12_mths_ex_med</th>\n",
       "      <td>-0.017797</td>\n",
       "      <td>-0.017690</td>\n",
       "      <td>-0.017403</td>\n",
       "      <td>0.015452</td>\n",
       "      <td>-0.014181</td>\n",
       "      <td>-0.003954</td>\n",
       "      <td>-0.003189</td>\n",
       "      <td>0.071017</td>\n",
       "      <td>-0.069024</td>\n",
       "      <td>-0.069023</td>\n",
       "      <td>...</td>\n",
       "      <td>0.104698</td>\n",
       "      <td>0.014081</td>\n",
       "      <td>-0.046268</td>\n",
       "      <td>-0.032588</td>\n",
       "      <td>0.000134</td>\n",
       "      <td>0.012738</td>\n",
       "      <td>-0.011427</td>\n",
       "      <td>-0.010474</td>\n",
       "      <td>0.001188</td>\n",
       "      <td>-0.017173</td>\n",
       "    </tr>\n",
       "    <tr>\n",
       "      <th>acc_now_delinq</th>\n",
       "      <td>0.001500</td>\n",
       "      <td>0.001566</td>\n",
       "      <td>0.001684</td>\n",
       "      <td>0.016639</td>\n",
       "      <td>0.004239</td>\n",
       "      <td>0.013429</td>\n",
       "      <td>0.002823</td>\n",
       "      <td>0.123928</td>\n",
       "      <td>-0.039043</td>\n",
       "      <td>-0.039042</td>\n",
       "      <td>...</td>\n",
       "      <td>0.059901</td>\n",
       "      <td>-0.005989</td>\n",
       "      <td>-0.047552</td>\n",
       "      <td>-0.022940</td>\n",
       "      <td>-0.009200</td>\n",
       "      <td>0.007259</td>\n",
       "      <td>0.027202</td>\n",
       "      <td>0.009823</td>\n",
       "      <td>0.016494</td>\n",
       "      <td>-0.003277</td>\n",
       "    </tr>\n",
       "    <tr>\n",
       "      <th>tot_coll_amt</th>\n",
       "      <td>-0.003434</td>\n",
       "      <td>-0.003434</td>\n",
       "      <td>-0.003434</td>\n",
       "      <td>0.002360</td>\n",
       "      <td>-0.002896</td>\n",
       "      <td>0.000010</td>\n",
       "      <td>-0.002880</td>\n",
       "      <td>-0.000335</td>\n",
       "      <td>-0.015907</td>\n",
       "      <td>-0.015907</td>\n",
       "      <td>...</td>\n",
       "      <td>0.001009</td>\n",
       "      <td>0.004737</td>\n",
       "      <td>-0.014120</td>\n",
       "      <td>-0.006817</td>\n",
       "      <td>0.000495</td>\n",
       "      <td>0.002557</td>\n",
       "      <td>-0.001590</td>\n",
       "      <td>-0.001848</td>\n",
       "      <td>0.000953</td>\n",
       "      <td>0.000482</td>\n",
       "    </tr>\n",
       "    <tr>\n",
       "      <th>tot_cur_bal</th>\n",
       "      <td>0.313727</td>\n",
       "      <td>0.313727</td>\n",
       "      <td>0.313750</td>\n",
       "      <td>-0.084877</td>\n",
       "      <td>0.283254</td>\n",
       "      <td>0.395615</td>\n",
       "      <td>0.005928</td>\n",
       "      <td>0.057641</td>\n",
       "      <td>0.133941</td>\n",
       "      <td>0.133940</td>\n",
       "      <td>...</td>\n",
       "      <td>0.008401</td>\n",
       "      <td>0.084882</td>\n",
       "      <td>0.014382</td>\n",
       "      <td>0.027970</td>\n",
       "      <td>-0.097681</td>\n",
       "      <td>-0.002920</td>\n",
       "      <td>0.973010</td>\n",
       "      <td>0.518625</td>\n",
       "      <td>0.406836</td>\n",
       "      <td>0.070672</td>\n",
       "    </tr>\n",
       "    <tr>\n",
       "      <th>acc_open_past_24mths</th>\n",
       "      <td>0.009901</td>\n",
       "      <td>0.009902</td>\n",
       "      <td>0.009893</td>\n",
       "      <td>0.189125</td>\n",
       "      <td>0.023351</td>\n",
       "      <td>0.056872</td>\n",
       "      <td>0.117854</td>\n",
       "      <td>-0.054050</td>\n",
       "      <td>-0.101059</td>\n",
       "      <td>-0.101061</td>\n",
       "      <td>...</td>\n",
       "      <td>-0.032303</td>\n",
       "      <td>0.758237</td>\n",
       "      <td>0.059152</td>\n",
       "      <td>-0.163760</td>\n",
       "      <td>0.115018</td>\n",
       "      <td>0.014275</td>\n",
       "      <td>0.104902</td>\n",
       "      <td>0.160219</td>\n",
       "      <td>0.190003</td>\n",
       "      <td>-0.099427</td>\n",
       "    </tr>\n",
       "    <tr>\n",
       "      <th>avg_cur_bal</th>\n",
       "      <td>0.228813</td>\n",
       "      <td>0.228814</td>\n",
       "      <td>0.228835</td>\n",
       "      <td>-0.084062</td>\n",
       "      <td>0.202667</td>\n",
       "      <td>0.305661</td>\n",
       "      <td>-0.084362</td>\n",
       "      <td>0.044907</td>\n",
       "      <td>0.124878</td>\n",
       "      <td>0.124879</td>\n",
       "      <td>...</td>\n",
       "      <td>0.010646</td>\n",
       "      <td>-0.050049</td>\n",
       "      <td>-0.042943</td>\n",
       "      <td>0.058922</td>\n",
       "      <td>-0.081224</td>\n",
       "      <td>0.001055</td>\n",
       "      <td>0.794453</td>\n",
       "      <td>0.290178</td>\n",
       "      <td>0.206962</td>\n",
       "      <td>0.078310</td>\n",
       "    </tr>\n",
       "    <tr>\n",
       "      <th>bc_open_to_buy</th>\n",
       "      <td>0.198490</td>\n",
       "      <td>0.198497</td>\n",
       "      <td>0.198552</td>\n",
       "      <td>-0.279467</td>\n",
       "      <td>0.165162</td>\n",
       "      <td>0.157346</td>\n",
       "      <td>-0.058959</td>\n",
       "      <td>-0.053702</td>\n",
       "      <td>0.512248</td>\n",
       "      <td>0.512251</td>\n",
       "      <td>...</td>\n",
       "      <td>-0.041072</td>\n",
       "      <td>0.105090</td>\n",
       "      <td>0.158435</td>\n",
       "      <td>-0.441321</td>\n",
       "      <td>-0.095654</td>\n",
       "      <td>-0.016777</td>\n",
       "      <td>0.261470</td>\n",
       "      <td>0.113192</td>\n",
       "      <td>0.062830</td>\n",
       "      <td>0.078908</td>\n",
       "    </tr>\n",
       "    <tr>\n",
       "      <th>bc_util</th>\n",
       "      <td>0.051034</td>\n",
       "      <td>0.051028</td>\n",
       "      <td>0.050967</td>\n",
       "      <td>0.250880</td>\n",
       "      <td>0.073153</td>\n",
       "      <td>-0.003034</td>\n",
       "      <td>0.142599</td>\n",
       "      <td>-0.008944</td>\n",
       "      <td>-0.480634</td>\n",
       "      <td>-0.480632</td>\n",
       "      <td>...</td>\n",
       "      <td>-0.012482</td>\n",
       "      <td>-0.186214</td>\n",
       "      <td>-0.018333</td>\n",
       "      <td>0.844756</td>\n",
       "      <td>-0.038911</td>\n",
       "      <td>-0.010297</td>\n",
       "      <td>-0.014916</td>\n",
       "      <td>0.082621</td>\n",
       "      <td>0.017869</td>\n",
       "      <td>-0.059209</td>\n",
       "    </tr>\n",
       "    <tr>\n",
       "      <th>chargeoff_within_12_mths</th>\n",
       "      <td>-0.000613</td>\n",
       "      <td>-0.000532</td>\n",
       "      <td>-0.000344</td>\n",
       "      <td>0.011634</td>\n",
       "      <td>0.001455</td>\n",
       "      <td>0.008972</td>\n",
       "      <td>-0.002726</td>\n",
       "      <td>0.142133</td>\n",
       "      <td>-0.052619</td>\n",
       "      <td>-0.052618</td>\n",
       "      <td>...</td>\n",
       "      <td>0.214325</td>\n",
       "      <td>0.001901</td>\n",
       "      <td>-0.084713</td>\n",
       "      <td>-0.013162</td>\n",
       "      <td>-0.010554</td>\n",
       "      <td>-0.001602</td>\n",
       "      <td>0.007614</td>\n",
       "      <td>-0.002572</td>\n",
       "      <td>0.005671</td>\n",
       "      <td>-0.003621</td>\n",
       "    </tr>\n",
       "    <tr>\n",
       "      <th>delinq_amnt</th>\n",
       "      <td>0.000454</td>\n",
       "      <td>0.000473</td>\n",
       "      <td>0.000509</td>\n",
       "      <td>0.005333</td>\n",
       "      <td>0.001470</td>\n",
       "      <td>0.006568</td>\n",
       "      <td>-0.004269</td>\n",
       "      <td>0.030182</td>\n",
       "      <td>-0.011678</td>\n",
       "      <td>-0.011677</td>\n",
       "      <td>...</td>\n",
       "      <td>0.041912</td>\n",
       "      <td>-0.001686</td>\n",
       "      <td>-0.014160</td>\n",
       "      <td>-0.006439</td>\n",
       "      <td>-0.000564</td>\n",
       "      <td>0.002813</td>\n",
       "      <td>0.020863</td>\n",
       "      <td>0.002881</td>\n",
       "      <td>0.002002</td>\n",
       "      <td>-0.002729</td>\n",
       "    </tr>\n",
       "    <tr>\n",
       "      <th>mort_acc</th>\n",
       "      <td>0.222444</td>\n",
       "      <td>0.222446</td>\n",
       "      <td>0.222459</td>\n",
       "      <td>-0.084655</td>\n",
       "      <td>0.189466</td>\n",
       "      <td>0.212430</td>\n",
       "      <td>-0.028550</td>\n",
       "      <td>0.073332</td>\n",
       "      <td>0.097311</td>\n",
       "      <td>0.097312</td>\n",
       "      <td>...</td>\n",
       "      <td>0.033374</td>\n",
       "      <td>0.054396</td>\n",
       "      <td>-0.035370</td>\n",
       "      <td>0.001889</td>\n",
       "      <td>0.006211</td>\n",
       "      <td>-0.011868</td>\n",
       "      <td>0.531346</td>\n",
       "      <td>0.149615</td>\n",
       "      <td>0.105429</td>\n",
       "      <td>0.080139</td>\n",
       "    </tr>\n",
       "    <tr>\n",
       "      <th>num_accts_ever_120_pd</th>\n",
       "      <td>-0.049895</td>\n",
       "      <td>-0.049897</td>\n",
       "      <td>-0.049914</td>\n",
       "      <td>0.043085</td>\n",
       "      <td>-0.041318</td>\n",
       "      <td>0.016954</td>\n",
       "      <td>-0.033432</td>\n",
       "      <td>0.215394</td>\n",
       "      <td>-0.196383</td>\n",
       "      <td>-0.196380</td>\n",
       "      <td>...</td>\n",
       "      <td>0.309943</td>\n",
       "      <td>0.080333</td>\n",
       "      <td>-0.568331</td>\n",
       "      <td>-0.032052</td>\n",
       "      <td>-0.022792</td>\n",
       "      <td>0.012850</td>\n",
       "      <td>0.006766</td>\n",
       "      <td>0.016866</td>\n",
       "      <td>0.047897</td>\n",
       "      <td>-0.011646</td>\n",
       "    </tr>\n",
       "    <tr>\n",
       "      <th>num_actv_bc_tl</th>\n",
       "      <td>0.194419</td>\n",
       "      <td>0.194419</td>\n",
       "      <td>0.194401</td>\n",
       "      <td>0.022400</td>\n",
       "      <td>0.197567</td>\n",
       "      <td>0.104187</td>\n",
       "      <td>0.126502</td>\n",
       "      <td>-0.042993</td>\n",
       "      <td>-0.110028</td>\n",
       "      <td>-0.110029</td>\n",
       "      <td>...</td>\n",
       "      <td>-0.033677</td>\n",
       "      <td>0.160583</td>\n",
       "      <td>0.126007</td>\n",
       "      <td>0.034182</td>\n",
       "      <td>-0.061622</td>\n",
       "      <td>0.010687</td>\n",
       "      <td>0.128773</td>\n",
       "      <td>0.147762</td>\n",
       "      <td>0.029323</td>\n",
       "      <td>-0.040996</td>\n",
       "    </tr>\n",
       "    <tr>\n",
       "      <th>num_actv_rev_tl</th>\n",
       "      <td>0.151521</td>\n",
       "      <td>0.151520</td>\n",
       "      <td>0.151492</td>\n",
       "      <td>0.085249</td>\n",
       "      <td>0.158999</td>\n",
       "      <td>0.073012</td>\n",
       "      <td>0.189363</td>\n",
       "      <td>-0.004920</td>\n",
       "      <td>-0.187546</td>\n",
       "      <td>-0.187546</td>\n",
       "      <td>...</td>\n",
       "      <td>-0.017884</td>\n",
       "      <td>0.257452</td>\n",
       "      <td>0.091644</td>\n",
       "      <td>0.094839</td>\n",
       "      <td>-0.014496</td>\n",
       "      <td>0.007001</td>\n",
       "      <td>0.118132</td>\n",
       "      <td>0.142375</td>\n",
       "      <td>0.024950</td>\n",
       "      <td>-0.068844</td>\n",
       "    </tr>\n",
       "    <tr>\n",
       "      <th>num_bc_sats</th>\n",
       "      <td>0.214004</td>\n",
       "      <td>0.214003</td>\n",
       "      <td>0.214002</td>\n",
       "      <td>-0.054187</td>\n",
       "      <td>0.206650</td>\n",
       "      <td>0.122157</td>\n",
       "      <td>0.078955</td>\n",
       "      <td>-0.032389</td>\n",
       "      <td>0.063170</td>\n",
       "      <td>0.063169</td>\n",
       "      <td>...</td>\n",
       "      <td>-0.020621</td>\n",
       "      <td>0.236342</td>\n",
       "      <td>0.136761</td>\n",
       "      <td>-0.169033</td>\n",
       "      <td>-0.049801</td>\n",
       "      <td>0.002509</td>\n",
       "      <td>0.168065</td>\n",
       "      <td>0.140892</td>\n",
       "      <td>0.042373</td>\n",
       "      <td>-0.014645</td>\n",
       "    </tr>\n",
       "    <tr>\n",
       "      <th>num_bc_tl</th>\n",
       "      <td>0.196046</td>\n",
       "      <td>0.196045</td>\n",
       "      <td>0.196028</td>\n",
       "      <td>-0.084845</td>\n",
       "      <td>0.183223</td>\n",
       "      <td>0.126115</td>\n",
       "      <td>0.050344</td>\n",
       "      <td>0.031794</td>\n",
       "      <td>0.056203</td>\n",
       "      <td>0.056202</td>\n",
       "      <td>...</td>\n",
       "      <td>0.015924</td>\n",
       "      <td>0.217824</td>\n",
       "      <td>0.048173</td>\n",
       "      <td>-0.148005</td>\n",
       "      <td>0.011768</td>\n",
       "      <td>-0.011588</td>\n",
       "      <td>0.182286</td>\n",
       "      <td>0.124406</td>\n",
       "      <td>0.045311</td>\n",
       "      <td>0.023442</td>\n",
       "    </tr>\n",
       "    <tr>\n",
       "      <th>num_il_tl</th>\n",
       "      <td>0.077918</td>\n",
       "      <td>0.077917</td>\n",
       "      <td>0.077913</td>\n",
       "      <td>0.011222</td>\n",
       "      <td>0.061786</td>\n",
       "      <td>0.100921</td>\n",
       "      <td>0.172610</td>\n",
       "      <td>0.084854</td>\n",
       "      <td>-0.014185</td>\n",
       "      <td>-0.014188</td>\n",
       "      <td>...</td>\n",
       "      <td>0.069554</td>\n",
       "      <td>0.191526</td>\n",
       "      <td>0.002474</td>\n",
       "      <td>0.018047</td>\n",
       "      <td>-0.006650</td>\n",
       "      <td>-0.011872</td>\n",
       "      <td>0.190361</td>\n",
       "      <td>0.512464</td>\n",
       "      <td>0.587654</td>\n",
       "      <td>-0.004791</td>\n",
       "    </tr>\n",
       "    <tr>\n",
       "      <th>num_op_rev_tl</th>\n",
       "      <td>0.165899</td>\n",
       "      <td>0.165898</td>\n",
       "      <td>0.165888</td>\n",
       "      <td>-0.009371</td>\n",
       "      <td>0.161779</td>\n",
       "      <td>0.078527</td>\n",
       "      <td>0.135582</td>\n",
       "      <td>0.006303</td>\n",
       "      <td>0.016935</td>\n",
       "      <td>0.016934</td>\n",
       "      <td>...</td>\n",
       "      <td>-0.025182</td>\n",
       "      <td>0.346469</td>\n",
       "      <td>0.133580</td>\n",
       "      <td>-0.140296</td>\n",
       "      <td>0.002264</td>\n",
       "      <td>-0.000732</td>\n",
       "      <td>0.146241</td>\n",
       "      <td>0.132308</td>\n",
       "      <td>0.043119</td>\n",
       "      <td>-0.031303</td>\n",
       "    </tr>\n",
       "    <tr>\n",
       "      <th>num_rev_accts</th>\n",
       "      <td>0.169400</td>\n",
       "      <td>0.169398</td>\n",
       "      <td>0.169385</td>\n",
       "      <td>-0.057986</td>\n",
       "      <td>0.157494</td>\n",
       "      <td>0.101611</td>\n",
       "      <td>0.098314</td>\n",
       "      <td>0.077157</td>\n",
       "      <td>0.022658</td>\n",
       "      <td>0.022658</td>\n",
       "      <td>...</td>\n",
       "      <td>0.029829</td>\n",
       "      <td>0.296044</td>\n",
       "      <td>0.033742</td>\n",
       "      <td>-0.120670</td>\n",
       "      <td>0.053802</td>\n",
       "      <td>-0.018017</td>\n",
       "      <td>0.185202</td>\n",
       "      <td>0.127227</td>\n",
       "      <td>0.054640</td>\n",
       "      <td>0.010818</td>\n",
       "    </tr>\n",
       "    <tr>\n",
       "      <th>num_rev_tl_bal_gt_0</th>\n",
       "      <td>0.150833</td>\n",
       "      <td>0.150833</td>\n",
       "      <td>0.150803</td>\n",
       "      <td>0.085073</td>\n",
       "      <td>0.158126</td>\n",
       "      <td>0.071899</td>\n",
       "      <td>0.191467</td>\n",
       "      <td>-0.008683</td>\n",
       "      <td>-0.186513</td>\n",
       "      <td>-0.186513</td>\n",
       "      <td>...</td>\n",
       "      <td>-0.025356</td>\n",
       "      <td>0.244594</td>\n",
       "      <td>0.100909</td>\n",
       "      <td>0.101658</td>\n",
       "      <td>-0.023133</td>\n",
       "      <td>0.007535</td>\n",
       "      <td>0.117539</td>\n",
       "      <td>0.146105</td>\n",
       "      <td>0.026709</td>\n",
       "      <td>-0.067071</td>\n",
       "    </tr>\n",
       "    <tr>\n",
       "      <th>num_sats</th>\n",
       "      <td>0.182377</td>\n",
       "      <td>0.182377</td>\n",
       "      <td>0.182369</td>\n",
       "      <td>-0.009847</td>\n",
       "      <td>0.171590</td>\n",
       "      <td>0.132132</td>\n",
       "      <td>0.215098</td>\n",
       "      <td>0.047464</td>\n",
       "      <td>0.032683</td>\n",
       "      <td>0.032682</td>\n",
       "      <td>...</td>\n",
       "      <td>0.009300</td>\n",
       "      <td>0.365146</td>\n",
       "      <td>0.111686</td>\n",
       "      <td>-0.095461</td>\n",
       "      <td>-0.033682</td>\n",
       "      <td>-0.006832</td>\n",
       "      <td>0.281907</td>\n",
       "      <td>0.400457</td>\n",
       "      <td>0.362345</td>\n",
       "      <td>-0.025043</td>\n",
       "    </tr>\n",
       "    <tr>\n",
       "      <th>num_tl_30dpd</th>\n",
       "      <td>0.002409</td>\n",
       "      <td>0.002409</td>\n",
       "      <td>0.002397</td>\n",
       "      <td>0.013722</td>\n",
       "      <td>0.004671</td>\n",
       "      <td>0.012177</td>\n",
       "      <td>0.004360</td>\n",
       "      <td>0.103982</td>\n",
       "      <td>-0.030364</td>\n",
       "      <td>-0.030363</td>\n",
       "      <td>...</td>\n",
       "      <td>0.006054</td>\n",
       "      <td>-0.006006</td>\n",
       "      <td>-0.038773</td>\n",
       "      <td>-0.017017</td>\n",
       "      <td>-0.012969</td>\n",
       "      <td>0.005268</td>\n",
       "      <td>0.026858</td>\n",
       "      <td>0.009719</td>\n",
       "      <td>0.014953</td>\n",
       "      <td>-0.002311</td>\n",
       "    </tr>\n",
       "    <tr>\n",
       "      <th>num_tl_90g_dpd_24m</th>\n",
       "      <td>-0.021811</td>\n",
       "      <td>-0.021812</td>\n",
       "      <td>-0.021826</td>\n",
       "      <td>0.026583</td>\n",
       "      <td>-0.016399</td>\n",
       "      <td>0.007510</td>\n",
       "      <td>-0.013967</td>\n",
       "      <td>0.656164</td>\n",
       "      <td>-0.101882</td>\n",
       "      <td>-0.101881</td>\n",
       "      <td>...</td>\n",
       "      <td>1.000000</td>\n",
       "      <td>-0.001404</td>\n",
       "      <td>-0.268758</td>\n",
       "      <td>-0.013188</td>\n",
       "      <td>-0.008100</td>\n",
       "      <td>0.002016</td>\n",
       "      <td>0.005872</td>\n",
       "      <td>0.015769</td>\n",
       "      <td>0.033004</td>\n",
       "      <td>-0.009805</td>\n",
       "    </tr>\n",
       "    <tr>\n",
       "      <th>num_tl_op_past_12m</th>\n",
       "      <td>-0.020131</td>\n",
       "      <td>-0.020133</td>\n",
       "      <td>-0.020149</td>\n",
       "      <td>0.206641</td>\n",
       "      <td>0.000162</td>\n",
       "      <td>0.052413</td>\n",
       "      <td>0.068868</td>\n",
       "      <td>-0.025121</td>\n",
       "      <td>-0.092465</td>\n",
       "      <td>-0.092467</td>\n",
       "      <td>...</td>\n",
       "      <td>-0.001404</td>\n",
       "      <td>1.000000</td>\n",
       "      <td>0.008613</td>\n",
       "      <td>-0.173209</td>\n",
       "      <td>0.094430</td>\n",
       "      <td>0.016563</td>\n",
       "      <td>0.089110</td>\n",
       "      <td>0.120172</td>\n",
       "      <td>0.141766</td>\n",
       "      <td>-0.084731</td>\n",
       "    </tr>\n",
       "    <tr>\n",
       "      <th>pct_tl_nvr_dlq</th>\n",
       "      <td>0.087934</td>\n",
       "      <td>0.087934</td>\n",
       "      <td>0.087948</td>\n",
       "      <td>-0.063701</td>\n",
       "      <td>0.070509</td>\n",
       "      <td>-0.007275</td>\n",
       "      <td>0.072104</td>\n",
       "      <td>-0.444748</td>\n",
       "      <td>0.300555</td>\n",
       "      <td>0.300552</td>\n",
       "      <td>...</td>\n",
       "      <td>-0.268758</td>\n",
       "      <td>0.008613</td>\n",
       "      <td>1.000000</td>\n",
       "      <td>-0.004135</td>\n",
       "      <td>0.032089</td>\n",
       "      <td>-0.033663</td>\n",
       "      <td>0.024896</td>\n",
       "      <td>0.063180</td>\n",
       "      <td>0.015613</td>\n",
       "      <td>0.014573</td>\n",
       "    </tr>\n",
       "    <tr>\n",
       "      <th>percent_bc_gt_75</th>\n",
       "      <td>0.020342</td>\n",
       "      <td>0.020341</td>\n",
       "      <td>0.020290</td>\n",
       "      <td>0.248037</td>\n",
       "      <td>0.040028</td>\n",
       "      <td>-0.016370</td>\n",
       "      <td>0.127592</td>\n",
       "      <td>-0.010852</td>\n",
       "      <td>-0.410429</td>\n",
       "      <td>-0.410426</td>\n",
       "      <td>...</td>\n",
       "      <td>-0.013188</td>\n",
       "      <td>-0.173209</td>\n",
       "      <td>-0.004135</td>\n",
       "      <td>1.000000</td>\n",
       "      <td>-0.041690</td>\n",
       "      <td>-0.018228</td>\n",
       "      <td>-0.016810</td>\n",
       "      <td>0.061761</td>\n",
       "      <td>0.010372</td>\n",
       "      <td>-0.060528</td>\n",
       "    </tr>\n",
       "    <tr>\n",
       "      <th>pub_rec_bankruptcies</th>\n",
       "      <td>-0.092956</td>\n",
       "      <td>-0.092761</td>\n",
       "      <td>-0.092393</td>\n",
       "      <td>0.058580</td>\n",
       "      <td>-0.085199</td>\n",
       "      <td>-0.043951</td>\n",
       "      <td>-0.016726</td>\n",
       "      <td>-0.047360</td>\n",
       "      <td>-0.202539</td>\n",
       "      <td>-0.202536</td>\n",
       "      <td>...</td>\n",
       "      <td>-0.008100</td>\n",
       "      <td>0.094430</td>\n",
       "      <td>0.032089</td>\n",
       "      <td>-0.041690</td>\n",
       "      <td>1.000000</td>\n",
       "      <td>0.035383</td>\n",
       "      <td>-0.107317</td>\n",
       "      <td>-0.077376</td>\n",
       "      <td>-0.035664</td>\n",
       "      <td>-0.025750</td>\n",
       "    </tr>\n",
       "    <tr>\n",
       "      <th>tax_liens</th>\n",
       "      <td>0.007817</td>\n",
       "      <td>0.007949</td>\n",
       "      <td>0.008243</td>\n",
       "      <td>0.011477</td>\n",
       "      <td>0.014752</td>\n",
       "      <td>0.037793</td>\n",
       "      <td>-0.022822</td>\n",
       "      <td>0.011169</td>\n",
       "      <td>-0.057341</td>\n",
       "      <td>-0.057341</td>\n",
       "      <td>...</td>\n",
       "      <td>0.002016</td>\n",
       "      <td>0.016563</td>\n",
       "      <td>-0.033663</td>\n",
       "      <td>-0.018228</td>\n",
       "      <td>0.035383</td>\n",
       "      <td>1.000000</td>\n",
       "      <td>-0.001726</td>\n",
       "      <td>-0.001940</td>\n",
       "      <td>0.005977</td>\n",
       "      <td>-0.010247</td>\n",
       "    </tr>\n",
       "    <tr>\n",
       "      <th>tot_hi_cred_lim</th>\n",
       "      <td>0.334170</td>\n",
       "      <td>0.334169</td>\n",
       "      <td>0.334197</td>\n",
       "      <td>-0.118486</td>\n",
       "      <td>0.301477</td>\n",
       "      <td>0.408800</td>\n",
       "      <td>0.015190</td>\n",
       "      <td>0.058910</td>\n",
       "      <td>0.195576</td>\n",
       "      <td>0.195577</td>\n",
       "      <td>...</td>\n",
       "      <td>0.005872</td>\n",
       "      <td>0.089110</td>\n",
       "      <td>0.024896</td>\n",
       "      <td>-0.016810</td>\n",
       "      <td>-0.107317</td>\n",
       "      <td>-0.001726</td>\n",
       "      <td>1.000000</td>\n",
       "      <td>0.507862</td>\n",
       "      <td>0.401361</td>\n",
       "      <td>0.077608</td>\n",
       "    </tr>\n",
       "    <tr>\n",
       "      <th>total_bal_ex_mort</th>\n",
       "      <td>0.275413</td>\n",
       "      <td>0.275413</td>\n",
       "      <td>0.275419</td>\n",
       "      <td>0.004525</td>\n",
       "      <td>0.260119</td>\n",
       "      <td>0.315126</td>\n",
       "      <td>0.223567</td>\n",
       "      <td>0.032243</td>\n",
       "      <td>0.031953</td>\n",
       "      <td>0.031951</td>\n",
       "      <td>...</td>\n",
       "      <td>0.015769</td>\n",
       "      <td>0.120172</td>\n",
       "      <td>0.063180</td>\n",
       "      <td>0.061761</td>\n",
       "      <td>-0.077376</td>\n",
       "      <td>-0.001940</td>\n",
       "      <td>0.507862</td>\n",
       "      <td>1.000000</td>\n",
       "      <td>0.873296</td>\n",
       "      <td>0.002165</td>\n",
       "    </tr>\n",
       "    <tr>\n",
       "      <th>total_il_high_credit_limit</th>\n",
       "      <td>0.200318</td>\n",
       "      <td>0.200315</td>\n",
       "      <td>0.200319</td>\n",
       "      <td>-0.002747</td>\n",
       "      <td>0.185541</td>\n",
       "      <td>0.262025</td>\n",
       "      <td>0.252218</td>\n",
       "      <td>0.062321</td>\n",
       "      <td>0.062800</td>\n",
       "      <td>0.062798</td>\n",
       "      <td>...</td>\n",
       "      <td>0.033004</td>\n",
       "      <td>0.141766</td>\n",
       "      <td>0.015613</td>\n",
       "      <td>0.010372</td>\n",
       "      <td>-0.035664</td>\n",
       "      <td>0.005977</td>\n",
       "      <td>0.401361</td>\n",
       "      <td>0.873296</td>\n",
       "      <td>1.000000</td>\n",
       "      <td>-0.001483</td>\n",
       "    </tr>\n",
       "    <tr>\n",
       "      <th>classes</th>\n",
       "      <td>-0.072908</td>\n",
       "      <td>-0.072978</td>\n",
       "      <td>-0.072597</td>\n",
       "      <td>-0.263577</td>\n",
       "      <td>-0.057873</td>\n",
       "      <td>0.039071</td>\n",
       "      <td>-0.084895</td>\n",
       "      <td>-0.020347</td>\n",
       "      <td>0.129188</td>\n",
       "      <td>0.129186</td>\n",
       "      <td>...</td>\n",
       "      <td>-0.009805</td>\n",
       "      <td>-0.084731</td>\n",
       "      <td>0.014573</td>\n",
       "      <td>-0.060528</td>\n",
       "      <td>-0.025750</td>\n",
       "      <td>-0.010247</td>\n",
       "      <td>0.077608</td>\n",
       "      <td>0.002165</td>\n",
       "      <td>-0.001483</td>\n",
       "      <td>1.000000</td>\n",
       "    </tr>\n",
       "  </tbody>\n",
       "</table>\n",
       "<p>55 rows × 55 columns</p>\n",
       "</div>"
      ],
      "text/plain": [
       "                            loan_amnt  funded_amnt  funded_amnt_inv  int_rate  \\\n",
       "loan_amnt                    1.000000     0.999556         0.998259  0.142477   \n",
       "funded_amnt                  0.999556     1.000000         0.998808  0.142571   \n",
       "funded_amnt_inv              0.998259     0.998808         1.000000  0.142661   \n",
       "int_rate                     0.142477     0.142571         0.142661  1.000000   \n",
       "installment                  0.953021     0.953674         0.952313  0.155666   \n",
       "annual_inc                   0.309873     0.309765         0.309242 -0.071362   \n",
       "dti                          0.032195     0.032588         0.033657  0.146165   \n",
       "delinq_2yrs                 -0.002138    -0.001945        -0.001645  0.047965   \n",
       "fico_range_low               0.101643     0.100813         0.100030 -0.403169   \n",
       "fico_range_high              0.101642     0.100812         0.100029 -0.403166   \n",
       "inq_last_6mths              -0.019264    -0.019645        -0.022477  0.209321   \n",
       "open_acc                     0.185681     0.185981         0.186387 -0.004353   \n",
       "pub_rec                     -0.064388    -0.064146        -0.063475  0.052233   \n",
       "revol_bal                    0.314501     0.314379         0.313296 -0.028264   \n",
       "revol_util                   0.106218     0.106383         0.106490  0.240323   \n",
       "total_acc                    0.207573     0.207506         0.207591 -0.043344   \n",
       "out_prncp                    0.109561     0.109717         0.109926  0.070006   \n",
       "out_prncp_inv                0.109561     0.109717         0.109927  0.070007   \n",
       "recoveries                   0.187639     0.187775         0.187526  0.184337   \n",
       "collection_recovery_fee      0.179745     0.179954         0.179623  0.171063   \n",
       "last_pymnt_amnt              0.492016     0.492400         0.492682  0.079604   \n",
       "last_fico_range_high         0.048651     0.048420         0.048267 -0.348143   \n",
       "last_fico_range_low          0.046008     0.045824         0.045783 -0.270077   \n",
       "collections_12_mths_ex_med  -0.017797    -0.017690        -0.017403  0.015452   \n",
       "acc_now_delinq               0.001500     0.001566         0.001684  0.016639   \n",
       "tot_coll_amt                -0.003434    -0.003434        -0.003434  0.002360   \n",
       "tot_cur_bal                  0.313727     0.313727         0.313750 -0.084877   \n",
       "acc_open_past_24mths         0.009901     0.009902         0.009893  0.189125   \n",
       "avg_cur_bal                  0.228813     0.228814         0.228835 -0.084062   \n",
       "bc_open_to_buy               0.198490     0.198497         0.198552 -0.279467   \n",
       "bc_util                      0.051034     0.051028         0.050967  0.250880   \n",
       "chargeoff_within_12_mths    -0.000613    -0.000532        -0.000344  0.011634   \n",
       "delinq_amnt                  0.000454     0.000473         0.000509  0.005333   \n",
       "mort_acc                     0.222444     0.222446         0.222459 -0.084655   \n",
       "num_accts_ever_120_pd       -0.049895    -0.049897        -0.049914  0.043085   \n",
       "num_actv_bc_tl               0.194419     0.194419         0.194401  0.022400   \n",
       "num_actv_rev_tl              0.151521     0.151520         0.151492  0.085249   \n",
       "num_bc_sats                  0.214004     0.214003         0.214002 -0.054187   \n",
       "num_bc_tl                    0.196046     0.196045         0.196028 -0.084845   \n",
       "num_il_tl                    0.077918     0.077917         0.077913  0.011222   \n",
       "num_op_rev_tl                0.165899     0.165898         0.165888 -0.009371   \n",
       "num_rev_accts                0.169400     0.169398         0.169385 -0.057986   \n",
       "num_rev_tl_bal_gt_0          0.150833     0.150833         0.150803  0.085073   \n",
       "num_sats                     0.182377     0.182377         0.182369 -0.009847   \n",
       "num_tl_30dpd                 0.002409     0.002409         0.002397  0.013722   \n",
       "num_tl_90g_dpd_24m          -0.021811    -0.021812        -0.021826  0.026583   \n",
       "num_tl_op_past_12m          -0.020131    -0.020133        -0.020149  0.206641   \n",
       "pct_tl_nvr_dlq               0.087934     0.087934         0.087948 -0.063701   \n",
       "percent_bc_gt_75             0.020342     0.020341         0.020290  0.248037   \n",
       "pub_rec_bankruptcies        -0.092956    -0.092761        -0.092393  0.058580   \n",
       "tax_liens                    0.007817     0.007949         0.008243  0.011477   \n",
       "tot_hi_cred_lim              0.334170     0.334169         0.334197 -0.118486   \n",
       "total_bal_ex_mort            0.275413     0.275413         0.275419  0.004525   \n",
       "total_il_high_credit_limit   0.200318     0.200315         0.200319 -0.002747   \n",
       "classes                     -0.072908    -0.072978        -0.072597 -0.263577   \n",
       "\n",
       "                            installment  annual_inc       dti  delinq_2yrs  \\\n",
       "loan_amnt                      0.953021    0.309873  0.032195    -0.002138   \n",
       "funded_amnt                    0.953674    0.309765  0.032588    -0.001945   \n",
       "funded_amnt_inv                0.952313    0.309242  0.033657    -0.001645   \n",
       "int_rate                       0.155666   -0.071362  0.146165     0.047965   \n",
       "installment                    1.000000    0.300753  0.035986     0.007124   \n",
       "annual_inc                     0.300753    1.000000 -0.139055     0.040924   \n",
       "dti                            0.035986   -0.139055  1.000000    -0.008023   \n",
       "delinq_2yrs                    0.007124    0.040924 -0.008023     1.000000   \n",
       "fico_range_low                 0.051494    0.069903 -0.060032    -0.174090   \n",
       "fico_range_high                0.051493    0.069904 -0.060035    -0.174088   \n",
       "inq_last_6mths                 0.002737    0.031598 -0.009542     0.022412   \n",
       "open_acc                       0.176024    0.134801  0.222143     0.052478   \n",
       "pub_rec                       -0.052988   -0.004803 -0.030566    -0.020327   \n",
       "revol_bal                      0.303342    0.284923  0.107710    -0.027881   \n",
       "revol_util                     0.124952    0.035590  0.139436    -0.011202   \n",
       "total_acc                      0.184598    0.175246  0.171435     0.119579   \n",
       "out_prncp                      0.095007    0.018582  0.018349     0.004917   \n",
       "out_prncp_inv                  0.095000    0.018583  0.018346     0.004915   \n",
       "recoveries                     0.168780    0.027375  0.047194     0.017965   \n",
       "collection_recovery_fee        0.162029    0.027231  0.047751     0.018590   \n",
       "last_pymnt_amnt                0.432396    0.177731 -0.002852    -0.016859   \n",
       "last_fico_range_high           0.035247    0.066452 -0.074253    -0.072732   \n",
       "last_fico_range_low            0.036046    0.059827 -0.044970    -0.035930   \n",
       "collections_12_mths_ex_med    -0.014181   -0.003954 -0.003189     0.071017   \n",
       "acc_now_delinq                 0.004239    0.013429  0.002823     0.123928   \n",
       "tot_coll_amt                  -0.002896    0.000010 -0.002880    -0.000335   \n",
       "tot_cur_bal                    0.283254    0.395615  0.005928     0.057641   \n",
       "acc_open_past_24mths           0.023351    0.056872  0.117854    -0.054050   \n",
       "avg_cur_bal                    0.202667    0.305661 -0.084362     0.044907   \n",
       "bc_open_to_buy                 0.165162    0.157346 -0.058959    -0.053702   \n",
       "bc_util                        0.073153   -0.003034  0.142599    -0.008944   \n",
       "chargeoff_within_12_mths       0.001455    0.008972 -0.002726     0.142133   \n",
       "delinq_amnt                    0.001470    0.006568 -0.004269     0.030182   \n",
       "mort_acc                       0.189466    0.212430 -0.028550     0.073332   \n",
       "num_accts_ever_120_pd         -0.041318    0.016954 -0.033432     0.215394   \n",
       "num_actv_bc_tl                 0.197567    0.104187  0.126502    -0.042993   \n",
       "num_actv_rev_tl                0.158999    0.073012  0.189363    -0.004920   \n",
       "num_bc_sats                    0.206650    0.122157  0.078955    -0.032389   \n",
       "num_bc_tl                      0.183223    0.126115  0.050344     0.031794   \n",
       "num_il_tl                      0.061786    0.100921  0.172610     0.084854   \n",
       "num_op_rev_tl                  0.161779    0.078527  0.135582     0.006303   \n",
       "num_rev_accts                  0.157494    0.101611  0.098314     0.077157   \n",
       "num_rev_tl_bal_gt_0            0.158126    0.071899  0.191467    -0.008683   \n",
       "num_sats                       0.171590    0.132132  0.215098     0.047464   \n",
       "num_tl_30dpd                   0.004671    0.012177  0.004360     0.103982   \n",
       "num_tl_90g_dpd_24m            -0.016399    0.007510 -0.013967     0.656164   \n",
       "num_tl_op_past_12m             0.000162    0.052413  0.068868    -0.025121   \n",
       "pct_tl_nvr_dlq                 0.070509   -0.007275  0.072104    -0.444748   \n",
       "percent_bc_gt_75               0.040028   -0.016370  0.127592    -0.010852   \n",
       "pub_rec_bankruptcies          -0.085199   -0.043951 -0.016726    -0.047360   \n",
       "tax_liens                      0.014752    0.037793 -0.022822     0.011169   \n",
       "tot_hi_cred_lim                0.301477    0.408800  0.015190     0.058910   \n",
       "total_bal_ex_mort              0.260119    0.315126  0.223567     0.032243   \n",
       "total_il_high_credit_limit     0.185541    0.262025  0.252218     0.062321   \n",
       "classes                       -0.057873    0.039071 -0.084895    -0.020347   \n",
       "\n",
       "                            fico_range_low  fico_range_high  ...  \\\n",
       "loan_amnt                         0.101643         0.101642  ...   \n",
       "funded_amnt                       0.100813         0.100812  ...   \n",
       "funded_amnt_inv                   0.100030         0.100029  ...   \n",
       "int_rate                         -0.403169        -0.403166  ...   \n",
       "installment                       0.051494         0.051493  ...   \n",
       "annual_inc                        0.069903         0.069904  ...   \n",
       "dti                              -0.060032        -0.060035  ...   \n",
       "delinq_2yrs                      -0.174090        -0.174088  ...   \n",
       "fico_range_low                    1.000000         1.000000  ...   \n",
       "fico_range_high                   1.000000         1.000000  ...   \n",
       "inq_last_6mths                   -0.086113        -0.086113  ...   \n",
       "open_acc                          0.017038         0.017037  ...   \n",
       "pub_rec                          -0.191011        -0.191009  ...   \n",
       "revol_bal                         0.025751         0.025749  ...   \n",
       "revol_util                       -0.459067        -0.459066  ...   \n",
       "total_acc                         0.020993         0.020992  ...   \n",
       "out_prncp                         0.000762         0.000763  ...   \n",
       "out_prncp_inv                     0.000766         0.000767  ...   \n",
       "recoveries                       -0.058543        -0.058543  ...   \n",
       "collection_recovery_fee          -0.056584        -0.056583  ...   \n",
       "last_pymnt_amnt                   0.104774         0.104774  ...   \n",
       "last_fico_range_high              0.342210         0.342209  ...   \n",
       "last_fico_range_low               0.245194         0.245193  ...   \n",
       "collections_12_mths_ex_med       -0.069024        -0.069023  ...   \n",
       "acc_now_delinq                   -0.039043        -0.039042  ...   \n",
       "tot_coll_amt                     -0.015907        -0.015907  ...   \n",
       "tot_cur_bal                       0.133941         0.133940  ...   \n",
       "acc_open_past_24mths             -0.101059        -0.101061  ...   \n",
       "avg_cur_bal                       0.124878         0.124879  ...   \n",
       "bc_open_to_buy                    0.512248         0.512251  ...   \n",
       "bc_util                          -0.480634        -0.480632  ...   \n",
       "chargeoff_within_12_mths         -0.052619        -0.052618  ...   \n",
       "delinq_amnt                      -0.011678        -0.011677  ...   \n",
       "mort_acc                          0.097311         0.097312  ...   \n",
       "num_accts_ever_120_pd            -0.196383        -0.196380  ...   \n",
       "num_actv_bc_tl                   -0.110028        -0.110029  ...   \n",
       "num_actv_rev_tl                  -0.187546        -0.187546  ...   \n",
       "num_bc_sats                       0.063170         0.063169  ...   \n",
       "num_bc_tl                         0.056203         0.056202  ...   \n",
       "num_il_tl                        -0.014185        -0.014188  ...   \n",
       "num_op_rev_tl                     0.016935         0.016934  ...   \n",
       "num_rev_accts                     0.022658         0.022658  ...   \n",
       "num_rev_tl_bal_gt_0              -0.186513        -0.186513  ...   \n",
       "num_sats                          0.032683         0.032682  ...   \n",
       "num_tl_30dpd                     -0.030364        -0.030363  ...   \n",
       "num_tl_90g_dpd_24m               -0.101882        -0.101881  ...   \n",
       "num_tl_op_past_12m               -0.092465        -0.092467  ...   \n",
       "pct_tl_nvr_dlq                    0.300555         0.300552  ...   \n",
       "percent_bc_gt_75                 -0.410429        -0.410426  ...   \n",
       "pub_rec_bankruptcies             -0.202539        -0.202536  ...   \n",
       "tax_liens                        -0.057341        -0.057341  ...   \n",
       "tot_hi_cred_lim                   0.195576         0.195577  ...   \n",
       "total_bal_ex_mort                 0.031953         0.031951  ...   \n",
       "total_il_high_credit_limit        0.062800         0.062798  ...   \n",
       "classes                           0.129188         0.129186  ...   \n",
       "\n",
       "                            num_tl_90g_dpd_24m  num_tl_op_past_12m  \\\n",
       "loan_amnt                            -0.021811           -0.020131   \n",
       "funded_amnt                          -0.021812           -0.020133   \n",
       "funded_amnt_inv                      -0.021826           -0.020149   \n",
       "int_rate                              0.026583            0.206641   \n",
       "installment                          -0.016399            0.000162   \n",
       "annual_inc                            0.007510            0.052413   \n",
       "dti                                  -0.013967            0.068868   \n",
       "delinq_2yrs                           0.656164           -0.025121   \n",
       "fico_range_low                       -0.101882           -0.092465   \n",
       "fico_range_high                      -0.101881           -0.092467   \n",
       "inq_last_6mths                        0.031360            0.316861   \n",
       "open_acc                              0.011561            0.367172   \n",
       "pub_rec                              -0.000668            0.083674   \n",
       "revol_bal                            -0.033468           -0.025593   \n",
       "revol_util                           -0.011085           -0.218025   \n",
       "total_acc                             0.070575            0.328138   \n",
       "out_prncp                             0.000428            0.009914   \n",
       "out_prncp_inv                         0.000429            0.009911   \n",
       "recoveries                            0.004116            0.053904   \n",
       "collection_recovery_fee               0.004434            0.053707   \n",
       "last_pymnt_amnt                      -0.017668            0.023831   \n",
       "last_fico_range_high                 -0.038160           -0.122611   \n",
       "last_fico_range_low                  -0.020406           -0.089385   \n",
       "collections_12_mths_ex_med            0.104698            0.014081   \n",
       "acc_now_delinq                        0.059901           -0.005989   \n",
       "tot_coll_amt                          0.001009            0.004737   \n",
       "tot_cur_bal                           0.008401            0.084882   \n",
       "acc_open_past_24mths                 -0.032303            0.758237   \n",
       "avg_cur_bal                           0.010646           -0.050049   \n",
       "bc_open_to_buy                       -0.041072            0.105090   \n",
       "bc_util                              -0.012482           -0.186214   \n",
       "chargeoff_within_12_mths              0.214325            0.001901   \n",
       "delinq_amnt                           0.041912           -0.001686   \n",
       "mort_acc                              0.033374            0.054396   \n",
       "num_accts_ever_120_pd                 0.309943            0.080333   \n",
       "num_actv_bc_tl                       -0.033677            0.160583   \n",
       "num_actv_rev_tl                      -0.017884            0.257452   \n",
       "num_bc_sats                          -0.020621            0.236342   \n",
       "num_bc_tl                             0.015924            0.217824   \n",
       "num_il_tl                             0.069554            0.191526   \n",
       "num_op_rev_tl                        -0.025182            0.346469   \n",
       "num_rev_accts                         0.029829            0.296044   \n",
       "num_rev_tl_bal_gt_0                  -0.025356            0.244594   \n",
       "num_sats                              0.009300            0.365146   \n",
       "num_tl_30dpd                          0.006054           -0.006006   \n",
       "num_tl_90g_dpd_24m                    1.000000           -0.001404   \n",
       "num_tl_op_past_12m                   -0.001404            1.000000   \n",
       "pct_tl_nvr_dlq                       -0.268758            0.008613   \n",
       "percent_bc_gt_75                     -0.013188           -0.173209   \n",
       "pub_rec_bankruptcies                 -0.008100            0.094430   \n",
       "tax_liens                             0.002016            0.016563   \n",
       "tot_hi_cred_lim                       0.005872            0.089110   \n",
       "total_bal_ex_mort                     0.015769            0.120172   \n",
       "total_il_high_credit_limit            0.033004            0.141766   \n",
       "classes                              -0.009805           -0.084731   \n",
       "\n",
       "                            pct_tl_nvr_dlq  percent_bc_gt_75  \\\n",
       "loan_amnt                         0.087934          0.020342   \n",
       "funded_amnt                       0.087934          0.020341   \n",
       "funded_amnt_inv                   0.087948          0.020290   \n",
       "int_rate                         -0.063701          0.248037   \n",
       "installment                       0.070509          0.040028   \n",
       "annual_inc                       -0.007275         -0.016370   \n",
       "dti                               0.072104          0.127592   \n",
       "delinq_2yrs                      -0.444748         -0.010852   \n",
       "fico_range_low                    0.300555         -0.410429   \n",
       "fico_range_high                   0.300552         -0.410426   \n",
       "inq_last_6mths                   -0.032253         -0.067344   \n",
       "open_acc                          0.109034         -0.095612   \n",
       "pub_rec                          -0.026497         -0.044444   \n",
       "revol_bal                         0.114909          0.128369   \n",
       "revol_util                       -0.016431          0.727165   \n",
       "total_acc                         0.016215         -0.071838   \n",
       "out_prncp                        -0.007197         -0.018080   \n",
       "out_prncp_inv                    -0.007196         -0.018081   \n",
       "recoveries                        0.000265          0.043822   \n",
       "collection_recovery_fee          -0.001048          0.040385   \n",
       "last_pymnt_amnt                   0.057681         -0.049763   \n",
       "last_fico_range_high              0.104086         -0.166494   \n",
       "last_fico_range_low               0.058719         -0.113356   \n",
       "collections_12_mths_ex_med       -0.046268         -0.032588   \n",
       "acc_now_delinq                   -0.047552         -0.022940   \n",
       "tot_coll_amt                     -0.014120         -0.006817   \n",
       "tot_cur_bal                       0.014382          0.027970   \n",
       "acc_open_past_24mths              0.059152         -0.163760   \n",
       "avg_cur_bal                      -0.042943          0.058922   \n",
       "bc_open_to_buy                    0.158435         -0.441321   \n",
       "bc_util                          -0.018333          0.844756   \n",
       "chargeoff_within_12_mths         -0.084713         -0.013162   \n",
       "delinq_amnt                      -0.014160         -0.006439   \n",
       "mort_acc                         -0.035370          0.001889   \n",
       "num_accts_ever_120_pd            -0.568331         -0.032052   \n",
       "num_actv_bc_tl                    0.126007          0.034182   \n",
       "num_actv_rev_tl                   0.091644          0.094839   \n",
       "num_bc_sats                       0.136761         -0.169033   \n",
       "num_bc_tl                         0.048173         -0.148005   \n",
       "num_il_tl                         0.002474          0.018047   \n",
       "num_op_rev_tl                     0.133580         -0.140296   \n",
       "num_rev_accts                     0.033742         -0.120670   \n",
       "num_rev_tl_bal_gt_0               0.100909          0.101658   \n",
       "num_sats                          0.111686         -0.095461   \n",
       "num_tl_30dpd                     -0.038773         -0.017017   \n",
       "num_tl_90g_dpd_24m               -0.268758         -0.013188   \n",
       "num_tl_op_past_12m                0.008613         -0.173209   \n",
       "pct_tl_nvr_dlq                    1.000000         -0.004135   \n",
       "percent_bc_gt_75                 -0.004135          1.000000   \n",
       "pub_rec_bankruptcies              0.032089         -0.041690   \n",
       "tax_liens                        -0.033663         -0.018228   \n",
       "tot_hi_cred_lim                   0.024896         -0.016810   \n",
       "total_bal_ex_mort                 0.063180          0.061761   \n",
       "total_il_high_credit_limit        0.015613          0.010372   \n",
       "classes                           0.014573         -0.060528   \n",
       "\n",
       "                            pub_rec_bankruptcies  tax_liens  tot_hi_cred_lim  \\\n",
       "loan_amnt                              -0.092956   0.007817         0.334170   \n",
       "funded_amnt                            -0.092761   0.007949         0.334169   \n",
       "funded_amnt_inv                        -0.092393   0.008243         0.334197   \n",
       "int_rate                                0.058580   0.011477        -0.118486   \n",
       "installment                            -0.085199   0.014752         0.301477   \n",
       "annual_inc                             -0.043951   0.037793         0.408800   \n",
       "dti                                    -0.016726  -0.022822         0.015190   \n",
       "delinq_2yrs                            -0.047360   0.011169         0.058910   \n",
       "fico_range_low                         -0.202539  -0.057341         0.195576   \n",
       "fico_range_high                        -0.202536  -0.057341         0.195577   \n",
       "inq_last_6mths                          0.073295   0.008850         0.030790   \n",
       "open_acc                               -0.021868  -0.004509         0.281847   \n",
       "pub_rec                                 0.647560   0.701350        -0.075084   \n",
       "revol_bal                              -0.115992  -0.012126         0.463819   \n",
       "revol_util                             -0.085778  -0.011014         0.027776   \n",
       "total_acc                               0.033614  -0.018891         0.334283   \n",
       "out_prncp                               0.002076   0.000629         0.009402   \n",
       "out_prncp_inv                           0.002073   0.000629         0.009404   \n",
       "recoveries                             -0.001641   0.004188         0.013300   \n",
       "collection_recovery_fee                 0.000369   0.004823         0.014091   \n",
       "last_pymnt_amnt                        -0.025370  -0.010357         0.235021   \n",
       "last_fico_range_high                   -0.063487  -0.020133         0.139315   \n",
       "last_fico_range_low                    -0.049310  -0.017056         0.126286   \n",
       "collections_12_mths_ex_med              0.000134   0.012738        -0.011427   \n",
       "acc_now_delinq                         -0.009200   0.007259         0.027202   \n",
       "tot_coll_amt                            0.000495   0.002557        -0.001590   \n",
       "tot_cur_bal                            -0.097681  -0.002920         0.973010   \n",
       "acc_open_past_24mths                    0.115018   0.014275         0.104902   \n",
       "avg_cur_bal                            -0.081224   0.001055         0.794453   \n",
       "bc_open_to_buy                         -0.095654  -0.016777         0.261470   \n",
       "bc_util                                -0.038911  -0.010297        -0.014916   \n",
       "chargeoff_within_12_mths               -0.010554  -0.001602         0.007614   \n",
       "delinq_amnt                            -0.000564   0.002813         0.020863   \n",
       "mort_acc                                0.006211  -0.011868         0.531346   \n",
       "num_accts_ever_120_pd                  -0.022792   0.012850         0.006766   \n",
       "num_actv_bc_tl                         -0.061622   0.010687         0.128773   \n",
       "num_actv_rev_tl                        -0.014496   0.007001         0.118132   \n",
       "num_bc_sats                            -0.049801   0.002509         0.168065   \n",
       "num_bc_tl                               0.011768  -0.011588         0.182286   \n",
       "num_il_tl                              -0.006650  -0.011872         0.190361   \n",
       "num_op_rev_tl                           0.002264  -0.000732         0.146241   \n",
       "num_rev_accts                           0.053802  -0.018017         0.185202   \n",
       "num_rev_tl_bal_gt_0                    -0.023133   0.007535         0.117539   \n",
       "num_sats                               -0.033682  -0.006832         0.281907   \n",
       "num_tl_30dpd                           -0.012969   0.005268         0.026858   \n",
       "num_tl_90g_dpd_24m                     -0.008100   0.002016         0.005872   \n",
       "num_tl_op_past_12m                      0.094430   0.016563         0.089110   \n",
       "pct_tl_nvr_dlq                          0.032089  -0.033663         0.024896   \n",
       "percent_bc_gt_75                       -0.041690  -0.018228        -0.016810   \n",
       "pub_rec_bankruptcies                    1.000000   0.035383        -0.107317   \n",
       "tax_liens                               0.035383   1.000000        -0.001726   \n",
       "tot_hi_cred_lim                        -0.107317  -0.001726         1.000000   \n",
       "total_bal_ex_mort                      -0.077376  -0.001940         0.507862   \n",
       "total_il_high_credit_limit             -0.035664   0.005977         0.401361   \n",
       "classes                                -0.025750  -0.010247         0.077608   \n",
       "\n",
       "                            total_bal_ex_mort  total_il_high_credit_limit  \\\n",
       "loan_amnt                            0.275413                    0.200318   \n",
       "funded_amnt                          0.275413                    0.200315   \n",
       "funded_amnt_inv                      0.275419                    0.200319   \n",
       "int_rate                             0.004525                   -0.002747   \n",
       "installment                          0.260119                    0.185541   \n",
       "annual_inc                           0.315126                    0.262025   \n",
       "dti                                  0.223567                    0.252218   \n",
       "delinq_2yrs                          0.032243                    0.062321   \n",
       "fico_range_low                       0.031953                    0.062800   \n",
       "fico_range_high                      0.031951                    0.062798   \n",
       "inq_last_6mths                       0.036628                    0.044760   \n",
       "open_acc                             0.400299                    0.361762   \n",
       "pub_rec                             -0.058000                   -0.022949   \n",
       "revol_bal                            0.504233                    0.119308   \n",
       "revol_util                           0.120968                    0.031970   \n",
       "total_acc                            0.429953                    0.417639   \n",
       "out_prncp                            0.018527                    0.021167   \n",
       "out_prncp_inv                        0.018527                    0.021167   \n",
       "recoveries                           0.048415                    0.042282   \n",
       "collection_recovery_fee              0.049332                    0.043495   \n",
       "last_pymnt_amnt                      0.157128                    0.127177   \n",
       "last_fico_range_high                 0.027659                    0.020217   \n",
       "last_fico_range_low                  0.044595                    0.038831   \n",
       "collections_12_mths_ex_med          -0.010474                    0.001188   \n",
       "acc_now_delinq                       0.009823                    0.016494   \n",
       "tot_coll_amt                        -0.001848                    0.000953   \n",
       "tot_cur_bal                          0.518625                    0.406836   \n",
       "acc_open_past_24mths                 0.160219                    0.190003   \n",
       "avg_cur_bal                          0.290178                    0.206962   \n",
       "bc_open_to_buy                       0.113192                    0.062830   \n",
       "bc_util                              0.082621                    0.017869   \n",
       "chargeoff_within_12_mths            -0.002572                    0.005671   \n",
       "delinq_amnt                          0.002881                    0.002002   \n",
       "mort_acc                             0.149615                    0.105429   \n",
       "num_accts_ever_120_pd                0.016866                    0.047897   \n",
       "num_actv_bc_tl                       0.147762                    0.029323   \n",
       "num_actv_rev_tl                      0.142375                    0.024950   \n",
       "num_bc_sats                          0.140892                    0.042373   \n",
       "num_bc_tl                            0.124406                    0.045311   \n",
       "num_il_tl                            0.512464                    0.587654   \n",
       "num_op_rev_tl                        0.132308                    0.043119   \n",
       "num_rev_accts                        0.127227                    0.054640   \n",
       "num_rev_tl_bal_gt_0                  0.146105                    0.026709   \n",
       "num_sats                             0.400457                    0.362345   \n",
       "num_tl_30dpd                         0.009719                    0.014953   \n",
       "num_tl_90g_dpd_24m                   0.015769                    0.033004   \n",
       "num_tl_op_past_12m                   0.120172                    0.141766   \n",
       "pct_tl_nvr_dlq                       0.063180                    0.015613   \n",
       "percent_bc_gt_75                     0.061761                    0.010372   \n",
       "pub_rec_bankruptcies                -0.077376                   -0.035664   \n",
       "tax_liens                           -0.001940                    0.005977   \n",
       "tot_hi_cred_lim                      0.507862                    0.401361   \n",
       "total_bal_ex_mort                    1.000000                    0.873296   \n",
       "total_il_high_credit_limit           0.873296                    1.000000   \n",
       "classes                              0.002165                   -0.001483   \n",
       "\n",
       "                             classes  \n",
       "loan_amnt                  -0.072908  \n",
       "funded_amnt                -0.072978  \n",
       "funded_amnt_inv            -0.072597  \n",
       "int_rate                   -0.263577  \n",
       "installment                -0.057873  \n",
       "annual_inc                  0.039071  \n",
       "dti                        -0.084895  \n",
       "delinq_2yrs                -0.020347  \n",
       "fico_range_low              0.129188  \n",
       "fico_range_high             0.129186  \n",
       "inq_last_6mths             -0.061624  \n",
       "open_acc                   -0.026775  \n",
       "pub_rec                    -0.026086  \n",
       "revol_bal                   0.020725  \n",
       "revol_util                 -0.054068  \n",
       "total_acc                   0.016556  \n",
       "out_prncp                  -0.211324  \n",
       "out_prncp_inv              -0.211313  \n",
       "recoveries                 -0.477313  \n",
       "collection_recovery_fee    -0.453070  \n",
       "last_pymnt_amnt             0.358162  \n",
       "last_fico_range_high        0.664926  \n",
       "last_fico_range_low         0.567334  \n",
       "collections_12_mths_ex_med -0.017173  \n",
       "acc_now_delinq             -0.003277  \n",
       "tot_coll_amt                0.000482  \n",
       "tot_cur_bal                 0.070672  \n",
       "acc_open_past_24mths       -0.099427  \n",
       "avg_cur_bal                 0.078310  \n",
       "bc_open_to_buy              0.078908  \n",
       "bc_util                    -0.059209  \n",
       "chargeoff_within_12_mths   -0.003621  \n",
       "delinq_amnt                -0.002729  \n",
       "mort_acc                    0.080139  \n",
       "num_accts_ever_120_pd      -0.011646  \n",
       "num_actv_bc_tl             -0.040996  \n",
       "num_actv_rev_tl            -0.068844  \n",
       "num_bc_sats                -0.014645  \n",
       "num_bc_tl                   0.023442  \n",
       "num_il_tl                  -0.004791  \n",
       "num_op_rev_tl              -0.031303  \n",
       "num_rev_accts               0.010818  \n",
       "num_rev_tl_bal_gt_0        -0.067071  \n",
       "num_sats                   -0.025043  \n",
       "num_tl_30dpd               -0.002311  \n",
       "num_tl_90g_dpd_24m         -0.009805  \n",
       "num_tl_op_past_12m         -0.084731  \n",
       "pct_tl_nvr_dlq              0.014573  \n",
       "percent_bc_gt_75           -0.060528  \n",
       "pub_rec_bankruptcies       -0.025750  \n",
       "tax_liens                  -0.010247  \n",
       "tot_hi_cred_lim             0.077608  \n",
       "total_bal_ex_mort           0.002165  \n",
       "total_il_high_credit_limit -0.001483  \n",
       "classes                     1.000000  \n",
       "\n",
       "[55 rows x 55 columns]"
      ]
     },
     "execution_count": 26,
     "metadata": {},
     "output_type": "execute_result"
    }
   ],
   "source": [
    "# Hay demasiadas funciones para que un mapa de calor tenga alguna posibilidad de mostrar una cuadrícula\n",
    "# y tampoco es posible realizar una interpretación de los datos\n",
    "correlacion_data = dataset_copia.corr()\n",
    "correlacion_data"
   ]
  },
  {
   "cell_type": "code",
   "execution_count": 27,
   "metadata": {
    "colab": {
     "base_uri": "https://localhost:8080/"
    },
    "id": "0Dw9AIDVlbXK",
    "outputId": "a8dc4c5e-2b76-4606-f8fb-816b9ad358ea",
    "scrolled": true
   },
   "outputs": [
    {
     "data": {
      "text/plain": [
       "desc                    1247945\n",
       "emp_title                 88473\n",
       "emp_length                80850\n",
       "pct_tl_nvr_dlq            70430\n",
       "avg_cur_bal               70299\n",
       "                         ...   \n",
       "debt_settlement_flag          0\n",
       "application_type              0\n",
       "hardship_flag                 0\n",
       "disbursement_method           0\n",
       "loan_amnt                     0\n",
       "Length: 73, dtype: int64"
      ]
     },
     "execution_count": 27,
     "metadata": {},
     "output_type": "execute_result"
    }
   ],
   "source": [
    "dataset_copia.isnull().sum().sort_values(ascending=False)"
   ]
  },
  {
   "cell_type": "code",
   "execution_count": 28,
   "metadata": {
    "colab": {
     "base_uri": "https://localhost:8080/"
    },
    "id": "ktVHhkwtlbXK",
    "outputId": "36a9c813-583b-4a32-89ad-12f68d627fb1"
   },
   "outputs": [
    {
     "data": {
      "text/plain": [
       "(1373915, 73)"
      ]
     },
     "execution_count": 28,
     "metadata": {},
     "output_type": "execute_result"
    }
   ],
   "source": [
    "dataset_copia.shape"
   ]
  },
  {
   "cell_type": "code",
   "execution_count": 29,
   "metadata": {
    "colab": {
     "base_uri": "https://localhost:8080/"
    },
    "id": "6Ds-71sXlbXK",
    "outputId": "b60f681e-c9eb-48cb-8e31-c14329f05f13",
    "scrolled": true
   },
   "outputs": [
    {
     "data": {
      "text/plain": [
       "Debt consolidation                                 675757\n",
       "Credit card refinancing                            254681\n",
       "Home improvement                                    76832\n",
       "Other                                               68683\n",
       "Major purchase                                      24718\n",
       "                                                    ...  \n",
       "Debt Consolidation and Bedroom Furniture Needed         1\n",
       "Discover no debt                                        1\n",
       "kitchenremodel                                          1\n",
       "Skapples LLC startup loan                               1\n",
       "Condo Down Payment                                      1\n",
       "Name: title, Length: 63154, dtype: int64"
      ]
     },
     "execution_count": 29,
     "metadata": {},
     "output_type": "execute_result"
    }
   ],
   "source": [
    "dataset_copia['title'].value_counts()"
   ]
  },
  {
   "cell_type": "code",
   "execution_count": 30,
   "metadata": {
    "colab": {
     "base_uri": "https://localhost:8080/"
    },
    "id": "ZbYbcMEPlbXK",
    "outputId": "674fa3bd-dafa-4517-af5e-a04742ac3dd1",
    "scrolled": true
   },
   "outputs": [
    {
     "data": {
      "text/plain": [
       "desc                    1247945\n",
       "emp_title                 88473\n",
       "emp_length                80850\n",
       "pct_tl_nvr_dlq            70430\n",
       "avg_cur_bal               70299\n",
       "                         ...   \n",
       "debt_settlement_flag          0\n",
       "application_type              0\n",
       "hardship_flag                 0\n",
       "disbursement_method           0\n",
       "loan_amnt                     0\n",
       "Length: 73, dtype: int64"
      ]
     },
     "execution_count": 30,
     "metadata": {},
     "output_type": "execute_result"
    }
   ],
   "source": [
    "dataset_copia.isnull().sum().sort_values(ascending=False)"
   ]
  },
  {
   "cell_type": "code",
   "execution_count": 31,
   "metadata": {
    "id": "EuTWHpRclbXK"
   },
   "outputs": [],
   "source": [
    "# Primer intento con 'num_actv_bc_tl' para eliminar los 70,200 valores perdidos en 17 características\n",
    "dataset_copia = dataset_copia[dataset_copia['num_actv_bc_tl'].notna()]"
   ]
  },
  {
   "cell_type": "code",
   "execution_count": 32,
   "metadata": {
    "id": "NHuS7Su-lbXK"
   },
   "outputs": [],
   "source": [
    "dataset_copia = dataset_copia[dataset_copia['bc_util'].notna()]"
   ]
  },
  {
   "cell_type": "code",
   "execution_count": 33,
   "metadata": {
    "id": "ehPdFvz0lbXK"
   },
   "outputs": [],
   "source": [
    "# Elimino los valores faltantes en \"emp_length\" porque podría ser peor inventar \n",
    "#datos en esta sección que no reportarlos\n",
    "dataset_copia = dataset_copia[dataset_copia['emp_length'].notna()]"
   ]
  },
  {
   "cell_type": "code",
   "execution_count": 34,
   "metadata": {
    "colab": {
     "base_uri": "https://localhost:8080/"
    },
    "id": "T18ltg3MlbXK",
    "outputId": "648e354a-a332-4a66-f029-488526f9b6f1"
   },
   "outputs": [
    {
     "data": {
      "text/plain": [
       "debt_consolidation    710891\n",
       "credit_card           270494\n",
       "home_improvement       76974\n",
       "other                  66793\n",
       "major_purchase         25068\n",
       "medical                13259\n",
       "small_business         12454\n",
       "car                    11741\n",
       "moving                  8087\n",
       "vacation                7791\n",
       "house                   6283\n",
       "wedding                  848\n",
       "renewable_energy         747\n",
       "educational                1\n",
       "Name: purpose, dtype: int64"
      ]
     },
     "execution_count": 34,
     "metadata": {},
     "output_type": "execute_result"
    }
   ],
   "source": [
    "#exploramos el campo \"purpose\"\n",
    "dataset_copia['purpose'].value_counts()"
   ]
  },
  {
   "cell_type": "code",
   "execution_count": 35,
   "metadata": {
    "id": "Ksb0En3OlbXK"
   },
   "outputs": [],
   "source": [
    "#filtramos \"educational\" debido a que solo hay un solo objeto o instancia\n",
    "dataset_copia = dataset_copia[dataset_copia['purpose'] != 'educational']"
   ]
  },
  {
   "cell_type": "code",
   "execution_count": 36,
   "metadata": {
    "colab": {
     "base_uri": "https://localhost:8080/"
    },
    "id": "qUVFVLOelbXK",
    "outputId": "e28957e6-9ab1-4efe-8bc3-97df552f0858"
   },
   "outputs": [
    {
     "data": {
      "text/plain": [
       "(1211430, 73)"
      ]
     },
     "execution_count": 36,
     "metadata": {},
     "output_type": "execute_result"
    }
   ],
   "source": [
    "dataset_copia.shape"
   ]
  },
  {
   "cell_type": "markdown",
   "metadata": {
    "id": "aRtw0sk8lbXK"
   },
   "source": [
    "### Visualizamos el EDA (Exploratory Data Analysis)"
   ]
  },
  {
   "cell_type": "code",
   "execution_count": 37,
   "metadata": {
    "colab": {
     "base_uri": "https://localhost:8080/",
     "height": 303
    },
    "id": "97-H9MpulbXK",
    "outputId": "3db6d5e1-fc53-4cef-e958-9f4b629c454a",
    "scrolled": true
   },
   "outputs": [
    {
     "data": {
      "image/png": "[encoded data removed]",
      "text/plain": [
       "<Figure size 432x288 with 1 Axes>"
      ]
     },
     "metadata": {
      "needs_background": "light"
     },
     "output_type": "display_data"
    }
   ],
   "source": [
    "#Visualizamos a \"loand_amnt\"\n",
    "dataset_copia['loan_amnt'].hist(bins=30)\n",
    "plt.title('Loan Amounts ($)', size=20);\n",
    "plt.xlabel('Monto ($)', size= 12);\n",
    "plt.ylabel('Cantidad de Prestamos (Loans)', size=12);"
   ]
  },
  {
   "cell_type": "markdown",
   "metadata": {
    "id": "zfEl4obklbXK"
   },
   "source": [
    "- Se puede observar que hay frecuencias claramente altas, asociadas con montos de prestamos que son multiplos de 5mil. Entonces al utilizar bins, lo haremos con los siguientes rangos: 0-2500, 2500-7500, ...., 37501-42500."
   ]
  },
  {
   "cell_type": "code",
   "execution_count": 38,
   "metadata": {
    "colab": {
     "base_uri": "https://localhost:8080/",
     "height": 303
    },
    "id": "aqBWkAemlbXK",
    "outputId": "0a012b42-7b79-40a8-8414-f9eb3fb312ee"
   },
   "outputs": [
    {
     "data": {
      "image/png": "[encoded data removed]",
      "text/plain": [
       "<Figure size 432x288 with 1 Axes>"
      ]
     },
     "metadata": {
      "needs_background": "light"
     },
     "output_type": "display_data"
    }
   ],
   "source": [
    "#Visualizamos a annual_inc\n",
    "dataset_copia['annual_inc'].hist(bins=30)\n",
    "plt.title('Annual Incomes', size=20);\n",
    "plt.xlabel('Monto ($)', size=12);\n",
    "plt.ylabel('Frecuencia de Salarios', size=12);"
   ]
  },
  {
   "cell_type": "markdown",
   "metadata": {
    "id": "snv3coEqlbXK"
   },
   "source": [
    "- En la columna annual_inc los más proobable que sucede es que hay valores outliers, esto muestra un grafico casi absurdo. Entonces tendré que investigar un poco más de lo que sucede ya que sus outliers oscilan entre 0 y 100mil."
   ]
  },
  {
   "cell_type": "code",
   "execution_count": 39,
   "metadata": {
    "colab": {
     "base_uri": "https://localhost:8080/",
     "height": 295
    },
    "id": "LDZcUMV4lbXK",
    "outputId": "bd28d714-cf31-4767-9138-734d9517e24a"
   },
   "outputs": [
    {
     "data": {
      "text/plain": [
       "<matplotlib.collections.PathCollection at 0x1d665f2d048>"
      ]
     },
     "execution_count": 39,
     "metadata": {},
     "output_type": "execute_result"
    },
    {
     "data": {
      "image/png": "[encoded data removed]",
      "text/plain": [
       "<Figure size 432x288 with 1 Axes>"
      ]
     },
     "metadata": {
      "needs_background": "light"
     },
     "output_type": "display_data"
    }
   ],
   "source": [
    "#Utilizamos Scatterplot para visualizar los outliers posibles y efectivamente los encontramos.\n",
    "plt.scatter(dataset_copia['annual_inc'], dataset_copia['loan_amnt'])"
   ]
  },
  {
   "cell_type": "code",
   "execution_count": 40,
   "metadata": {
    "colab": {
     "base_uri": "https://localhost:8080/",
     "height": 303
    },
    "id": "9OeShJCNlbXK",
    "outputId": "62c0f41b-8a2c-43ce-a1f6-cd911550a87b",
    "scrolled": true
   },
   "outputs": [
    {
     "data": {
      "image/png": "[encoded data removed]",
      "text/plain": [
       "<Figure size 432x288 with 1 Axes>"
      ]
     },
     "metadata": {
      "needs_background": "light"
     },
     "output_type": "display_data"
    }
   ],
   "source": [
    "#Visualizamos avg_curl_bal\n",
    "dataset_copia['avg_cur_bal'].hist(bins=25)\n",
    "plt.title('Avg Current Balance', size = 20);\n",
    "plt.xlabel('Tamaño de balanceo', size = 12);\n",
    "plt.ylabel('Frecuencia de balanceo', size = 12);"
   ]
  },
  {
   "cell_type": "code",
   "execution_count": 41,
   "metadata": {
    "colab": {
     "base_uri": "https://localhost:8080/",
     "height": 283
    },
    "id": "oPyyarAMlbXK",
    "outputId": "6f793b4b-164c-47ac-89bf-525ef299ea50"
   },
   "outputs": [
    {
     "data": {
      "text/plain": [
       "<matplotlib.collections.PathCollection at 0x1d638d2e6c8>"
      ]
     },
     "execution_count": 41,
     "metadata": {},
     "output_type": "execute_result"
    },
    {
     "data": {
      "image/png": "[encoded data removed]",
      "text/plain": [
       "<Figure size 432x288 with 1 Axes>"
      ]
     },
     "metadata": {
      "needs_background": "light"
     },
     "output_type": "display_data"
    }
   ],
   "source": [
    "#Utilizamos Scatterplot para visualizar los outliers posibles y efectivamente los encontramos.\n",
    "plt.scatter(dataset_copia['avg_cur_bal'], dataset_copia['loan_amnt'])"
   ]
  },
  {
   "cell_type": "code",
   "execution_count": 42,
   "metadata": {
    "colab": {
     "base_uri": "https://localhost:8080/"
    },
    "id": "kWh4VhzolbXK",
    "outputId": "85f17f6e-9a5f-4b3f-f15a-936ca9f5f3f7",
    "scrolled": true
   },
   "outputs": [
    {
     "data": {
      "text/plain": [
       "count    1.211430e+06\n",
       "mean     1.357119e+04\n",
       "std      1.611179e+04\n",
       "min      0.000000e+00\n",
       "25%      3.185000e+03\n",
       "50%      7.554000e+03\n",
       "75%      1.885100e+04\n",
       "max      5.559250e+05\n",
       "Name: avg_cur_bal, dtype: float64"
      ]
     },
     "execution_count": 42,
     "metadata": {},
     "output_type": "execute_result"
    }
   ],
   "source": [
    "dataset_copia['avg_cur_bal'].describe()"
   ]
  },
  {
   "cell_type": "markdown",
   "metadata": {
    "id": "GXKqIiH-lbXK"
   },
   "source": [
    "- En el grafico de arriba se muestran los outliers. Entonces se debe limitar a una cierta cantidad, segun la imagen, para manejar estos outliers. Ya que, por ejemplo, se puede observar en la estadistica descriptiva un gran salto del 75% al máximo, lo que se puede traducir como valores atípicos, donde una razón más es que la media también oscila por el 75%"
   ]
  },
  {
   "cell_type": "markdown",
   "metadata": {
    "id": "Sq2ULarGlbXK"
   },
   "source": [
    "## Limpieza de datos para lidiar con Outliers\n",
    "- Se visualizará la limpieza de datos atípicos en las siguientes variables\n",
    "- - annual_inc\n",
    "- - avg_cur_bal"
   ]
  },
  {
   "cell_type": "code",
   "execution_count": 43,
   "metadata": {
    "id": "v80fPU3flbXK"
   },
   "outputs": [],
   "source": [
    "#Se limitará el ingreso anual a 300mil aprox para representar una mejor distribucion (normal, sin valores atipicos)\n",
    "Non_outliers_data = dataset_copia[dataset_copia['annual_inc'] <= 250_000 ]"
   ]
  },
  {
   "cell_type": "code",
   "execution_count": 44,
   "metadata": {
    "id": "1F2BYpYwlbXK"
   },
   "outputs": [],
   "source": [
    "#Se limitará los ingresos anuales de 1mil, pues no son datos confiables.\n",
    "Non_outliers_data = Non_outliers_data[Non_outliers_data['annual_inc']> 500]"
   ]
  },
  {
   "cell_type": "code",
   "execution_count": 45,
   "metadata": {
    "colab": {
     "base_uri": "https://localhost:8080/",
     "height": 303
    },
    "id": "byAAfJ3dlbXK",
    "outputId": "b9d1bcc8-162c-4c86-fb7f-2614e82dff14",
    "scrolled": false
   },
   "outputs": [
    {
     "data": {
      "image/png": "[encoded data removed]",
      "text/plain": [
       "<Figure size 432x288 with 1 Axes>"
      ]
     },
     "metadata": {
      "needs_background": "light"
     },
     "output_type": "display_data"
    }
   ],
   "source": [
    "#Visualizamos annual_inc\n",
    "Non_outliers_data['annual_inc'].hist(bins=35)\n",
    "plt.title('Annual Incomes (Sin Outliers)', size=20);\n",
    "plt.xlabel( 'Monto de Income', size=12);\n",
    "plt.ylabel('Frecuencia de Salarios', size=12);"
   ]
  },
  {
   "cell_type": "code",
   "execution_count": 46,
   "metadata": {
    "id": "i0AOPC2slbXK"
   },
   "outputs": [],
   "source": [
    "Non_outliers_data = Non_outliers_data[Non_outliers_data['avg_cur_bal'] < 60_000]"
   ]
  },
  {
   "cell_type": "code",
   "execution_count": 47,
   "metadata": {
    "colab": {
     "base_uri": "https://localhost:8080/",
     "height": 303
    },
    "id": "KJLoasVblbXK",
    "outputId": "7103fae4-3d9b-4527-9f20-ff546c306261"
   },
   "outputs": [
    {
     "data": {
      "image/png": "[encoded data removed]",
      "text/plain": [
       "<Figure size 432x288 with 1 Axes>"
      ]
     },
     "metadata": {
      "needs_background": "light"
     },
     "output_type": "display_data"
    }
   ],
   "source": [
    "Non_outliers_data['avg_cur_bal'].hist(bins=35)\n",
    "plt.title('Avg Current Balance (No Outliers)', size = 20);\n",
    "plt.xlabel('Tamaño de Balance', size = 12);\n",
    "plt.ylabel('Frecuencia de Balanceo', size = 12);"
   ]
  },
  {
   "cell_type": "markdown",
   "metadata": {
    "id": "5q2F_OcplbXL"
   },
   "source": [
    "## Campos categoricos:\n",
    "- Muchas columnas estan basadas en datos categoricos (textos), donde se requiere más investigacion para determinar como manipularlas y se conviertan en datos utiles, por lo que necesitmoa encontrar una manera de convertirlas en datos numéricos."
   ]
  },
  {
   "cell_type": "code",
   "execution_count": 48,
   "metadata": {
    "colab": {
     "base_uri": "https://localhost:8080/"
    },
    "id": "Lwy_sOGLlbXL",
    "outputId": "d4ff9e9a-b424-4c23-cce3-75b9c82db70b",
    "scrolled": true
   },
   "outputs": [
    {
     "data": {
      "text/plain": [
       "Teacher                              21355\n",
       "Manager                              19772\n",
       "Owner                                10641\n",
       "Registered Nurse                      8885\n",
       "RN                                    8585\n",
       "                                     ...  \n",
       "Retail Sales consultant                  1\n",
       "aircraft maintenance engineer            1\n",
       "MASTER DIVER                             1\n",
       "Tasca                                    1\n",
       "Management Development Specialist        1\n",
       "Name: emp_title, Length: 341751, dtype: int64"
      ]
     },
     "execution_count": 48,
     "metadata": {},
     "output_type": "execute_result"
    }
   ],
   "source": [
    "dataset_copia['emp_title'].value_counts()"
   ]
  },
  {
   "cell_type": "code",
   "execution_count": 49,
   "metadata": {
    "colab": {
     "base_uri": "https://localhost:8080/"
    },
    "id": "VtRIpCg_lbXL",
    "outputId": "5c897b84-a753-428c-c96c-4bc586208b76",
    "scrolled": true
   },
   "outputs": [
    {
     "data": {
      "text/plain": [
       "Debt consolidation         628293\n",
       "Credit card refinancing    237167\n",
       "Home improvement            69634\n",
       "Other                       61647\n",
       "Major purchase              22770\n",
       "                            ...  \n",
       "CREDITCARDDEBT                  1\n",
       "december2012                    1\n",
       "persoanl                        1\n",
       "Looking Ahead                   1\n",
       "Merry Christmas to us           1\n",
       "Name: title, Length: 37177, dtype: int64"
      ]
     },
     "execution_count": 49,
     "metadata": {},
     "output_type": "execute_result"
    }
   ],
   "source": [
    "dataset_copia['title'].value_counts()"
   ]
  },
  {
   "cell_type": "code",
   "execution_count": 50,
   "metadata": {
    "colab": {
     "base_uri": "https://localhost:8080/"
    },
    "id": "jsdwRb5dlbXL",
    "outputId": "15830ec2-e393-4cf8-b53d-86c8673a7dd9",
    "scrolled": true
   },
   "outputs": [
    {
     "data": {
      "text/plain": [
       "                                                                                                                                                                                                                                                 23\n",
       "  Borrower added on 03/17/14 > Debt consolidation<br>                                                                                                                                                                                            10\n",
       "  Borrower added on 03/10/14 > Debt consolidation<br>                                                                                                                                                                                            10\n",
       "  Borrower added on 01/29/14 > Debt consolidation<br>                                                                                                                                                                                             8\n",
       "  Borrower added on 01/15/14 > Debt consolidation<br>                                                                                                                                                                                             7\n",
       "                                                                                                                                                                                                                                                 ..\n",
       "  Borrower added on 03/17/13 > credit card payoff<br>                                                                                                                                                                                             1\n",
       "  Borrower added on 07/15/13 > HVAC<br>                                                                                                                                                                                                           1\n",
       "  Borrower added on 06/19/13 > Debt consolidation.<br>                                                                                                                                                                                            1\n",
       "  Borrower added on 04/07/13 > Consolidating debt (high interest credit cards)<br>                                                                                                                                                                1\n",
       "  Borrower added on 10/07/13 > Need a new furnace for the house and need to get rid of credit card debt.  This loan will cover all debt and cover the cost to replace the furnace and thermostat.... lesson learned no more credit cards!<br>     1\n",
       "Name: desc, Length: 73999, dtype: int64"
      ]
     },
     "execution_count": 50,
     "metadata": {},
     "output_type": "execute_result"
    }
   ],
   "source": [
    "dataset_copia['desc'].value_counts()"
   ]
  },
  {
   "cell_type": "markdown",
   "metadata": {
    "id": "FXjPdtUjlbXL"
   },
   "source": [
    "- Se encontraron 341751 valores unicos en \"emp_title\", 37177 para \"title\" y 73999 en \"desc\", en los cuales va a ser muy dificil de abordarlos directamente. En este caso se podría aplicar **Natural Language Processing** para reducir la complejidad, pero se volvería más engorroso.\n",
    "- En este caso, esas 3 variables, la mediré, agregaré 3 columnas más y las juntaré en una sola variable \"all_text\" parar que sea más manejable."
   ]
  },
  {
   "cell_type": "markdown",
   "metadata": {
    "id": "AZ5ZJlR8lbXL"
   },
   "source": [
    "### Realizamos una limpieza adicional"
   ]
  },
  {
   "cell_type": "code",
   "execution_count": 51,
   "metadata": {
    "colab": {
     "base_uri": "https://localhost:8080/"
    },
    "id": "_WGpHFOOlbXL",
    "outputId": "b7ff50ea-d088-48e3-b549-81899668c43e",
    "scrolled": false
   },
   "outputs": [
    {
     "name": "stdout",
     "output_type": "stream",
     "text": [
      "Chekeo de columna finalizada  \"loan_amnt\"\n",
      "Chekeo de columna finalizada  \"funded_amnt\"\n",
      "Chekeo de columna finalizada  \"funded_amnt_inv\"\n",
      "Chekeo de columna finalizada  \"term\"\n",
      "Chekeo de columna finalizada  \"int_rate\"\n",
      "Chekeo de columna finalizada  \"installment\"\n",
      "Chekeo de columna finalizada  \"grade\"\n",
      "Chekeo de columna finalizada  \"emp_title\"\n",
      "Chekeo de columna finalizada  \"emp_length\"\n",
      "Chekeo de columna finalizada  \"home_ownership\"\n",
      "Chekeo de columna finalizada  \"annual_inc\"\n",
      "Chekeo de columna finalizada  \"verification_status\"\n",
      "Chekeo de columna finalizada  \"issue_d\"\n",
      "Chekeo de columna finalizada  \"loan_status\"\n",
      "Chekeo de columna finalizada  \"pymnt_plan\"\n",
      "Chekeo de columna finalizada  \"desc\"\n",
      "Chekeo de columna finalizada  \"purpose\"\n",
      "Chekeo de columna finalizada  \"title\"\n",
      "Chekeo de columna finalizada  \"addr_state\"\n",
      "Chekeo de columna finalizada  \"dti\"\n",
      "Chekeo de columna finalizada  \"delinq_2yrs\"\n",
      "Chekeo de columna finalizada  \"earliest_cr_line\"\n",
      "Chekeo de columna finalizada  \"fico_range_low\"\n",
      "Chekeo de columna finalizada  \"fico_range_high\"\n",
      "Chekeo de columna finalizada  \"inq_last_6mths\"\n",
      "Chekeo de columna finalizada  \"open_acc\"\n",
      "Chekeo de columna finalizada  \"pub_rec\"\n",
      "Chekeo de columna finalizada  \"revol_bal\"\n",
      "Chekeo de columna finalizada  \"revol_util\"\n",
      "Chekeo de columna finalizada  \"total_acc\"\n",
      "Chekeo de columna finalizada  \"out_prncp\"\n",
      "Chekeo de columna finalizada  \"out_prncp_inv\"\n",
      "Chekeo de columna finalizada  \"recoveries\"\n",
      "Chekeo de columna finalizada  \"collection_recovery_fee\"\n",
      "Chekeo de columna finalizada  \"last_pymnt_amnt\"\n",
      "Chekeo de columna finalizada  \"last_fico_range_high\"\n",
      "Chekeo de columna finalizada  \"last_fico_range_low\"\n",
      "Chekeo de columna finalizada  \"collections_12_mths_ex_med\"\n",
      "Chekeo de columna finalizada  \"application_type\"\n",
      "Chekeo de columna finalizada  \"acc_now_delinq\"\n",
      "Chekeo de columna finalizada  \"tot_coll_amt\"\n",
      "Chekeo de columna finalizada  \"tot_cur_bal\"\n",
      "Chekeo de columna finalizada  \"acc_open_past_24mths\"\n",
      "Chekeo de columna finalizada  \"avg_cur_bal\"\n",
      "Chekeo de columna finalizada  \"bc_open_to_buy\"\n",
      "Chekeo de columna finalizada  \"bc_util\"\n",
      "Chekeo de columna finalizada  \"chargeoff_within_12_mths\"\n",
      "Chekeo de columna finalizada  \"delinq_amnt\"\n",
      "Chekeo de columna finalizada  \"mort_acc\"\n",
      "Chekeo de columna finalizada  \"num_accts_ever_120_pd\"\n",
      "Chekeo de columna finalizada  \"num_actv_bc_tl\"\n",
      "Chekeo de columna finalizada  \"num_actv_rev_tl\"\n",
      "Chekeo de columna finalizada  \"num_bc_sats\"\n",
      "Chekeo de columna finalizada  \"num_bc_tl\"\n",
      "Chekeo de columna finalizada  \"num_il_tl\"\n",
      "Chekeo de columna finalizada  \"num_op_rev_tl\"\n",
      "Chekeo de columna finalizada  \"num_rev_accts\"\n",
      "Chekeo de columna finalizada  \"num_rev_tl_bal_gt_0\"\n",
      "Chekeo de columna finalizada  \"num_sats\"\n",
      "Chekeo de columna finalizada  \"num_tl_30dpd\"\n",
      "Chekeo de columna finalizada  \"num_tl_90g_dpd_24m\"\n",
      "Chekeo de columna finalizada  \"num_tl_op_past_12m\"\n",
      "Chekeo de columna finalizada  \"pct_tl_nvr_dlq\"\n",
      "Chekeo de columna finalizada  \"percent_bc_gt_75\"\n",
      "Chekeo de columna finalizada  \"pub_rec_bankruptcies\"\n",
      "Chekeo de columna finalizada  \"tax_liens\"\n",
      "Chekeo de columna finalizada  \"tot_hi_cred_lim\"\n",
      "Chekeo de columna finalizada  \"total_bal_ex_mort\"\n",
      "Chekeo de columna finalizada  \"total_il_high_credit_limit\"\n",
      "Chekeo de columna finalizada  \"hardship_flag\"\n",
      "Chekeo de columna finalizada  \"disbursement_method\"\n",
      "Chekeo de columna finalizada  \"debt_settlement_flag\"\n",
      "Chekeo de columna finalizada  \"classes\"\n",
      "Inspeccion total Finalizada\n"
     ]
    }
   ],
   "source": [
    "#Funcion para automatizar la eliminación de filas que contienen NaNs en columnas que tienen NaNs menores a 2000\n",
    "def drop_na(df):\n",
    "    columnas=dataset_copia.columns\n",
    "    subconj=[]\n",
    "    for columna in columnas:\n",
    "        #Chekearmos los valores perdidos\n",
    "        valores_perdidos = df[columna].isnull().sum()\n",
    "        #Menos a 2mil NaNs, elimina dichas filas\n",
    "        if valores_perdidos <= 2000:\n",
    "            subconj.append(columna)            \n",
    "        df.dropna(subset=subconj,inplace=True)\n",
    "        print(f'Chekeo de columna finalizada  \"{columna}\"')\n",
    "    print('Inspeccion total Finalizada')\n",
    "drop_na(dataset_copia)"
   ]
  },
  {
   "cell_type": "code",
   "execution_count": 52,
   "metadata": {
    "colab": {
     "base_uri": "https://localhost:8080/"
    },
    "id": "MyJ5VFyFlbXL",
    "outputId": "9a88d8b9-2869-4ea0-a4c0-667cd893003b",
    "scrolled": true
   },
   "outputs": [
    {
     "data": {
      "text/plain": [
       "desc                     1135844\n",
       "title                      14533\n",
       "emp_title                   5806\n",
       "pub_rec                        0\n",
       "delinq_2yrs                    0\n",
       "                          ...   \n",
       "mort_acc                       0\n",
       "num_accts_ever_120_pd          0\n",
       "num_actv_bc_tl                 0\n",
       "num_actv_rev_tl                0\n",
       "loan_amnt                      0\n",
       "Length: 73, dtype: int64"
      ]
     },
     "execution_count": 52,
     "metadata": {},
     "output_type": "execute_result"
    }
   ],
   "source": [
    "dataset_copia.isnull().sum().sort_values(ascending=False)"
   ]
  },
  {
   "cell_type": "code",
   "execution_count": 53,
   "metadata": {
    "id": "nf0_CxXclbXL"
   },
   "outputs": [],
   "source": [
    "dataset_copia['emp_title'].fillna(\" . \", inplace= True)"
   ]
  },
  {
   "cell_type": "code",
   "execution_count": 54,
   "metadata": {
    "id": "5FcMF_ORlbXL"
   },
   "outputs": [],
   "source": [
    "dataset_copia['title'].fillna(\" . \", inplace= True)"
   ]
  },
  {
   "cell_type": "code",
   "execution_count": 55,
   "metadata": {
    "id": "VQkCsksWlbXL"
   },
   "outputs": [],
   "source": [
    "dataset_copia['desc'].fillna(\" . \", inplace= True)"
   ]
  },
  {
   "cell_type": "code",
   "execution_count": 56,
   "metadata": {
    "colab": {
     "base_uri": "https://localhost:8080/"
    },
    "id": "b-TIcYcClbXL",
    "outputId": "bdc78737-2824-4114-93e6-784d499ff7e4",
    "scrolled": true
   },
   "outputs": [
    {
     "data": {
      "text/plain": [
       "(1210906, 73)"
      ]
     },
     "execution_count": 56,
     "metadata": {},
     "output_type": "execute_result"
    }
   ],
   "source": [
    "dataset_copia.shape"
   ]
  },
  {
   "cell_type": "markdown",
   "metadata": {
    "id": "ejeC1JnDlbXL"
   },
   "source": [
    "## Revisamos los tipos de datos"
   ]
  },
  {
   "cell_type": "code",
   "execution_count": 57,
   "metadata": {
    "colab": {
     "base_uri": "https://localhost:8080/"
    },
    "id": "X7Alf5eIlbXL",
    "outputId": "c0c98152-b235-4bad-d84a-bc1ab9b3b9e8",
    "scrolled": false
   },
   "outputs": [
    {
     "data": {
      "text/plain": [
       "float64    54\n",
       "object     18\n",
       "int64       1\n",
       "dtype: int64"
      ]
     },
     "execution_count": 57,
     "metadata": {},
     "output_type": "execute_result"
    }
   ],
   "source": [
    "dataset_copia.dtypes.value_counts()"
   ]
  },
  {
   "cell_type": "code",
   "execution_count": 58,
   "metadata": {
    "colab": {
     "base_uri": "https://localhost:8080/"
    },
    "id": "XmuSmAOHlbXL",
    "outputId": "0d9c015d-d1f9-4106-cdc1-2c7fe23ef3dc"
   },
   "outputs": [
    {
     "data": {
      "text/plain": [
       "Index(['term', 'grade', 'emp_title', 'emp_length', 'home_ownership',\n",
       "       'verification_status', 'issue_d', 'loan_status', 'pymnt_plan', 'desc',\n",
       "       'purpose', 'title', 'addr_state', 'earliest_cr_line',\n",
       "       'application_type', 'hardship_flag', 'disbursement_method',\n",
       "       'debt_settlement_flag'],\n",
       "      dtype='object')"
      ]
     },
     "execution_count": 58,
     "metadata": {},
     "output_type": "execute_result"
    }
   ],
   "source": [
    "columna_objetivo = dataset_copia.select_dtypes(include='object').columns\n",
    "columna_objetivo"
   ]
  },
  {
   "cell_type": "markdown",
   "metadata": {
    "id": "p2fduxbZlbXL"
   },
   "source": [
    "-Para las fechas en mi modelo, convertiré \"issue_d\" y \"earliest_cr_line\" a DateTime y luego generaré una nueva colunma con la diferencia de estas."
   ]
  },
  {
   "cell_type": "code",
   "execution_count": 59,
   "metadata": {
    "colab": {
     "base_uri": "https://localhost:8080/"
    },
    "id": "OkKY9BB_lbXL",
    "outputId": "caac4974-4c04-4ea4-df0e-b837b9273c26"
   },
   "outputs": [
    {
     "data": {
      "text/plain": [
       "0    Dec-2015\n",
       "1    Dec-2015\n",
       "2    Dec-2015\n",
       "4    Dec-2015\n",
       "5    Dec-2015\n",
       "Name: issue_d, dtype: object"
      ]
     },
     "execution_count": 59,
     "metadata": {},
     "output_type": "execute_result"
    }
   ],
   "source": [
    "dataset_copia['issue_d'].head()"
   ]
  },
  {
   "cell_type": "code",
   "execution_count": 60,
   "metadata": {
    "id": "IZJ8rHFUlbXL",
    "scrolled": true
   },
   "outputs": [],
   "source": [
    "dataset_copia['issue_d'] = pd.to_datetime(dataset_copia['issue_d'])"
   ]
  },
  {
   "cell_type": "code",
   "execution_count": 61,
   "metadata": {
    "colab": {
     "base_uri": "https://localhost:8080/"
    },
    "id": "GNASPwkSlbXL",
    "outputId": "9b5accc5-387f-4768-bc48-bf315f399f4e"
   },
   "outputs": [
    {
     "data": {
      "text/plain": [
       "0    Aug-2003\n",
       "1    Dec-1999\n",
       "2    Aug-2000\n",
       "4    Jun-1998\n",
       "5    Oct-1987\n",
       "Name: earliest_cr_line, dtype: object"
      ]
     },
     "execution_count": 61,
     "metadata": {},
     "output_type": "execute_result"
    }
   ],
   "source": [
    "dataset_copia['earliest_cr_line'].head()"
   ]
  },
  {
   "cell_type": "code",
   "execution_count": 62,
   "metadata": {
    "id": "aLNVcYZLlbXL"
   },
   "outputs": [],
   "source": [
    "dataset_copia['earliest_cr_line'] = pd.to_datetime(dataset_copia['earliest_cr_line'])"
   ]
  },
  {
   "cell_type": "code",
   "execution_count": 63,
   "metadata": {
    "id": "uoH6f3xqlbXL"
   },
   "outputs": [],
   "source": [
    "#Tomamos esas 2 columnas para la longitud del historial crediticio\n",
    "dataset_copia['credit_length_days'] = dataset_copia['issue_d'] - dataset_copia['earliest_cr_line']"
   ]
  },
  {
   "cell_type": "code",
   "execution_count": 64,
   "metadata": {
    "id": "ImMXjREclbXL",
    "scrolled": true
   },
   "outputs": [],
   "source": [
    "#Extraemos solo los días del formato de fecha y hora\n",
    "dataset_copia['credit_length_days'] = dataset_copia['credit_length_days'].dt.days"
   ]
  },
  {
   "cell_type": "code",
   "execution_count": 65,
   "metadata": {
    "colab": {
     "base_uri": "https://localhost:8080/"
    },
    "id": "Aye4YrYylbXL",
    "outputId": "efd1e429-bdcd-400d-8373-1f71f942a91a"
   },
   "outputs": [
    {
     "data": {
      "text/plain": [
       "0     4505\n",
       "1     5844\n",
       "2     5600\n",
       "4     6392\n",
       "5    10288\n",
       "Name: credit_length_days, dtype: int64"
      ]
     },
     "execution_count": 65,
     "metadata": {},
     "output_type": "execute_result"
    }
   ],
   "source": [
    "#Verificamos la salida\n",
    "dataset_copia['credit_length_days'].head()"
   ]
  },
  {
   "cell_type": "code",
   "execution_count": 66,
   "metadata": {
    "colab": {
     "base_uri": "https://localhost:8080/",
     "height": 283
    },
    "id": "owVraj8plbXL",
    "outputId": "0cc633dd-77c4-47f2-9fce-c9213d7bb027",
    "scrolled": true
   },
   "outputs": [
    {
     "data": {
      "text/plain": [
       "<matplotlib.collections.PathCollection at 0x1d6aa3e2908>"
      ]
     },
     "execution_count": 66,
     "metadata": {},
     "output_type": "execute_result"
    },
    {
     "data": {
      "image/png": "[encoded data removed]",
      "text/plain": [
       "<Figure size 432x288 with 1 Axes>"
      ]
     },
     "metadata": {
      "needs_background": "light"
     },
     "output_type": "display_data"
    }
   ],
   "source": [
    "plt.scatter(dataset_copia['loan_amnt'], dataset_copia['credit_length_days'])"
   ]
  },
  {
   "cell_type": "code",
   "execution_count": 67,
   "metadata": {
    "colab": {
     "base_uri": "https://localhost:8080/"
    },
    "id": "Wj8_AaLjlbXL",
    "outputId": "58c935dc-68ae-45d4-cb7b-22447b5932c5"
   },
   "outputs": [
    {
     "data": {
      "text/plain": [
       "1096"
      ]
     },
     "execution_count": 67,
     "metadata": {},
     "output_type": "execute_result"
    }
   ],
   "source": [
    "dataset_copia['credit_length_days'].min()"
   ]
  },
  {
   "cell_type": "code",
   "execution_count": 68,
   "metadata": {
    "colab": {
     "base_uri": "https://localhost:8080/",
     "height": 303
    },
    "id": "_OgYpE_elbXL",
    "outputId": "a8e018ff-20a6-4027-df1b-2cd253d40ffb"
   },
   "outputs": [
    {
     "data": {
      "image/png": "[encoded data removed]",
      "text/plain": [
       "<Figure size 432x288 with 1 Axes>"
      ]
     },
     "metadata": {
      "needs_background": "light"
     },
     "output_type": "display_data"
    }
   ],
   "source": [
    "dataset_copia['credit_length_days'].hist(bins=35)\n",
    "plt.title(('Length of Credit History'), size = 20);\n",
    "plt.xlabel('Duracion en días', size = 12);\n",
    "plt.ylabel('Frecuencia de Cantidades', size = 12);"
   ]
  },
  {
   "cell_type": "code",
   "execution_count": 69,
   "metadata": {
    "colab": {
     "base_uri": "https://localhost:8080/"
    },
    "id": "yvvh2mXVlbXL",
    "outputId": "27c80e12-fa1b-4ae2-be99-4012c3c74272"
   },
   "outputs": [
    {
     "data": {
      "text/plain": [
       "5868.0097472471025"
      ]
     },
     "execution_count": 69,
     "metadata": {},
     "output_type": "execute_result"
    }
   ],
   "source": [
    "dataset_copia['credit_length_days'].mean()"
   ]
  },
  {
   "cell_type": "code",
   "execution_count": 70,
   "metadata": {
    "colab": {
     "base_uri": "https://localhost:8080/"
    },
    "id": "pjNRodpKlbXM",
    "outputId": "9d7b7d03-731b-42e6-9787-6b319917068b"
   },
   "outputs": [
    {
     "data": {
      "text/plain": [
       "78467.85838115441"
      ]
     },
     "execution_count": 70,
     "metadata": {},
     "output_type": "execute_result"
    }
   ],
   "source": [
    "dataset_copia['annual_inc'].mean()"
   ]
  },
  {
   "cell_type": "code",
   "execution_count": 71,
   "metadata": {
    "id": "XD4yu4GdlbXM"
   },
   "outputs": [],
   "source": [
    "dataset_copia.drop(columns=['issue_d', 'earliest_cr_line'], inplace=True)"
   ]
  },
  {
   "cell_type": "markdown",
   "metadata": {
    "id": "FlbehYWPlbXM"
   },
   "source": [
    "- En la celda anterior se puede observar que necesitamos eliminar \"dias\" de cada informacion para convertirla en un dato que sea facil de interpretar por los modelos de clasificacion."
   ]
  },
  {
   "cell_type": "code",
   "execution_count": 72,
   "metadata": {
    "colab": {
     "base_uri": "https://localhost:8080/"
    },
    "id": "8EAxDBrTlbXM",
    "outputId": "8fca0ee7-ad82-4e6a-ed2d-555efae0c68e",
    "scrolled": true
   },
   "outputs": [
    {
     "data": {
      "text/plain": [
       "credit_length_days    0\n",
       "classes               0\n",
       "delinq_2yrs           0\n",
       "fico_range_low        0\n",
       "fico_range_high       0\n",
       "                     ..\n",
       "num_actv_bc_tl        0\n",
       "num_actv_rev_tl       0\n",
       "num_bc_sats           0\n",
       "num_bc_tl             0\n",
       "loan_amnt             0\n",
       "Length: 72, dtype: int64"
      ]
     },
     "execution_count": 72,
     "metadata": {},
     "output_type": "execute_result"
    }
   ],
   "source": [
    "dataset_copia.isnull().sum().sort_values(ascending=False)"
   ]
  },
  {
   "cell_type": "code",
   "execution_count": 73,
   "metadata": {
    "colab": {
     "base_uri": "https://localhost:8080/"
    },
    "id": "f083LbhblbXM",
    "outputId": "dab39128-1a9e-4aee-faba-f6a1696b113d"
   },
   "outputs": [
    {
     "data": {
      "text/plain": [
       "850.0"
      ]
     },
     "execution_count": 73,
     "metadata": {},
     "output_type": "execute_result"
    }
   ],
   "source": [
    "dataset_copia['fico_range_high'].max()"
   ]
  },
  {
   "cell_type": "code",
   "execution_count": 74,
   "metadata": {
    "colab": {
     "base_uri": "https://localhost:8080/"
    },
    "id": "RT5e7r44lbXM",
    "outputId": "5a2d99a2-11bd-477e-b912-34722c621b64"
   },
   "outputs": [
    {
     "data": {
      "text/plain": [
       "660.0"
      ]
     },
     "execution_count": 74,
     "metadata": {},
     "output_type": "execute_result"
    }
   ],
   "source": [
    "dataset_copia['fico_range_low'].min()"
   ]
  },
  {
   "cell_type": "markdown",
   "metadata": {
    "id": "zzcaJOXj_RDn"
   },
   "source": [
    "### Ahora tenemos algo limpio el dataset, pero en el Feature Engineering continuaremos con algunos EDAs posibles"
   ]
  },
  {
   "cell_type": "code",
   "execution_count": 75,
   "metadata": {
    "id": "Lfv7ykRFlbXM"
   },
   "outputs": [],
   "source": [
    "#Guardamos el Dataset limpio hasta este momento -> Primera parte\n",
    "dataset_copia.to_csv('./Cleaned_dataset_Part1.csv', index=False)"
   ]
  },
  {
   "cell_type": "markdown",
   "metadata": {
    "id": "jj4Seygp_1WQ"
   },
   "source": [
    "# ------------------ PROCESO 2: FEATURE ENGINEERING --------------------------"
   ]
  },
  {
   "cell_type": "code",
   "execution_count": 76,
   "metadata": {
    "id": "QYjmw2lf_u-7"
   },
   "outputs": [],
   "source": [
    "#Relizamos la lectura del dataset anterior\n",
    "Data_Cleaned_1 = pd.read_csv('./Cleaned_dataset_Part1.csv')"
   ]
  },
  {
   "cell_type": "code",
   "execution_count": 77,
   "metadata": {
    "id": "K7UAO920ABFQ"
   },
   "outputs": [],
   "source": [
    "dataset_copia2 = Data_Cleaned_1"
   ]
  },
  {
   "cell_type": "code",
   "execution_count": 78,
   "metadata": {
    "colab": {
     "base_uri": "https://localhost:8080/"
    },
    "id": "x6vEKw83_vFT",
    "outputId": "e63f36d0-2e09-4964-e898-9db799f76841"
   },
   "outputs": [
    {
     "data": {
      "text/plain": [
       "float64    54\n",
       "object     16\n",
       "int64       2\n",
       "dtype: int64"
      ]
     },
     "execution_count": 78,
     "metadata": {},
     "output_type": "execute_result"
    }
   ],
   "source": [
    "dataset_copia2.dtypes.value_counts()"
   ]
  },
  {
   "cell_type": "markdown",
   "metadata": {
    "id": "ShSKD2m8sETD"
   },
   "source": [
    "- Con muchos objetos presentes, tendremos que considerar multiples opciones para manipular los tipos de datos. Lo más probable a usar es One-Hot-Encoding"
   ]
  },
  {
   "cell_type": "code",
   "execution_count": 79,
   "metadata": {
    "colab": {
     "base_uri": "https://localhost:8080/"
    },
    "id": "rxcRKivJ_vLY",
    "outputId": "bfd22095-d73e-4a1a-fc73-81bfe839c3c4"
   },
   "outputs": [
    {
     "data": {
      "text/plain": [
       "Index(['term', 'grade', 'emp_title', 'emp_length', 'home_ownership',\n",
       "       'verification_status', 'loan_status', 'pymnt_plan', 'desc', 'purpose',\n",
       "       'title', 'addr_state', 'application_type', 'hardship_flag',\n",
       "       'disbursement_method', 'debt_settlement_flag'],\n",
       "      dtype='object')"
      ]
     },
     "execution_count": 79,
     "metadata": {},
     "output_type": "execute_result"
    }
   ],
   "source": [
    "columna_objeto = dataset_copia2.select_dtypes(include='object').columns\n",
    "columna_objeto"
   ]
  },
  {
   "cell_type": "markdown",
   "metadata": {
    "id": "c_PJTTxEtG5s"
   },
   "source": [
    "- Los siguiente se binarizará: term, verification_status, pyment_plan, application_type, hardship_flag, disbursement_method  y debt_settlement_flag.\n",
    "\n",
    "- Los siguientes se codificaran en un solo uso: home_ownership, purpose y addr_state.\n",
    "\n",
    "- Los siguientes se codificaran con un rango: emp_length y grade.\n",
    "\n",
    "- Para un posterior trabajo con NLP se combinarán con desc, emp_title y title. Mientras tanto se mediran sus longitudes.\n",
    "\n",
    "- Las columnas de texto issue_d y earliest_cr_line se convertiran en un formato DateTime, luego se crearán con una nueva columna a partir de su diferencia."
   ]
  },
  {
   "cell_type": "code",
   "execution_count": 80,
   "metadata": {
    "colab": {
     "base_uri": "https://localhost:8080/"
    },
    "id": "XWjhZJ-M_vNn",
    "outputId": "10f7070f-6da6-4a5d-8374-4317d5787ae9"
   },
   "outputs": [
    {
     "data": {
      "text/plain": [
       "Index(['loan_amnt', 'funded_amnt', 'funded_amnt_inv', 'term', 'int_rate',\n",
       "       'installment', 'grade', 'emp_title', 'emp_length', 'home_ownership',\n",
       "       'annual_inc', 'verification_status', 'loan_status', 'pymnt_plan',\n",
       "       'desc', 'purpose', 'title', 'addr_state', 'dti', 'delinq_2yrs',\n",
       "       'fico_range_low', 'fico_range_high', 'inq_last_6mths', 'open_acc',\n",
       "       'pub_rec', 'revol_bal', 'revol_util', 'total_acc', 'out_prncp',\n",
       "       'out_prncp_inv', 'recoveries', 'collection_recovery_fee',\n",
       "       'last_pymnt_amnt', 'last_fico_range_high', 'last_fico_range_low',\n",
       "       'collections_12_mths_ex_med', 'application_type', 'acc_now_delinq',\n",
       "       'tot_coll_amt', 'tot_cur_bal', 'acc_open_past_24mths', 'avg_cur_bal',\n",
       "       'bc_open_to_buy', 'bc_util', 'chargeoff_within_12_mths', 'delinq_amnt',\n",
       "       'mort_acc', 'num_accts_ever_120_pd', 'num_actv_bc_tl',\n",
       "       'num_actv_rev_tl', 'num_bc_sats', 'num_bc_tl', 'num_il_tl',\n",
       "       'num_op_rev_tl', 'num_rev_accts', 'num_rev_tl_bal_gt_0', 'num_sats',\n",
       "       'num_tl_30dpd', 'num_tl_90g_dpd_24m', 'num_tl_op_past_12m',\n",
       "       'pct_tl_nvr_dlq', 'percent_bc_gt_75', 'pub_rec_bankruptcies',\n",
       "       'tax_liens', 'tot_hi_cred_lim', 'total_bal_ex_mort',\n",
       "       'total_il_high_credit_limit', 'hardship_flag', 'disbursement_method',\n",
       "       'debt_settlement_flag', 'classes', 'credit_length_days'],\n",
       "      dtype='object')"
      ]
     },
     "execution_count": 80,
     "metadata": {},
     "output_type": "execute_result"
    }
   ],
   "source": [
    "dataset_copia2.columns"
   ]
  },
  {
   "cell_type": "markdown",
   "metadata": {
    "id": "rTFHCmSiuR_Q"
   },
   "source": [
    "### Funciones enviadas por el usuario\n",
    "### Se construye una nueva columna para los dataText"
   ]
  },
  {
   "cell_type": "code",
   "execution_count": 81,
   "metadata": {
    "id": "X3wfveGiBdQp"
   },
   "outputs": [],
   "source": [
    "long_descuento = []\n",
    "[long_descuento.append(len(i)) for i in dataset_copia2.desc]\n",
    "dataset_copia2[\"desc_length\"]= long_descuento"
   ]
  },
  {
   "cell_type": "code",
   "execution_count": 82,
   "metadata": {
    "colab": {
     "base_uri": "https://localhost:8080/"
    },
    "id": "lm1lGnvmBdTL",
    "outputId": "3bd02c7e-8022-4d44-8b16-0b701748972b"
   },
   "outputs": [
    {
     "data": {
      "text/plain": [
       "0    3\n",
       "1    3\n",
       "2    3\n",
       "3    3\n",
       "4    3\n",
       "Name: desc_length, dtype: int64"
      ]
     },
     "execution_count": 82,
     "metadata": {},
     "output_type": "execute_result"
    }
   ],
   "source": [
    "dataset_copia2['desc_length'].head()"
   ]
  },
  {
   "cell_type": "markdown",
   "metadata": {
    "id": "Td2UxCy9uj7Q"
   },
   "source": [
    "#### Medimos las longitudes de cada texto y lo devolvemos con una nueva columna"
   ]
  },
  {
   "cell_type": "code",
   "execution_count": 83,
   "metadata": {
    "id": "AfuOPxa8BdVm"
   },
   "outputs": [],
   "source": [
    "dataset_copia2['all_text'] = dataset_copia2['desc'] + \" \" + dataset_copia2['emp_title'] + \" \" + dataset_copia2['title']"
   ]
  },
  {
   "cell_type": "code",
   "execution_count": 84,
   "metadata": {
    "colab": {
     "base_uri": "https://localhost:8080/"
    },
    "id": "HYFB5XAxBdX_",
    "outputId": "e3fd7d38-6c28-4505-800d-b53c06c772c0"
   },
   "outputs": [
    {
     "data": {
      "text/plain": [
       "0                  .  leadman Debt consolidation\n",
       "1                           .  Engineer Business\n",
       "2                            .  truck driver  . \n",
       "3          .  Contract Specialist Major purchase\n",
       "4     .  Veterinary Tecnician Debt consolidation\n",
       "Name: all_text, dtype: object"
      ]
     },
     "execution_count": 84,
     "metadata": {},
     "output_type": "execute_result"
    }
   ],
   "source": [
    "dataset_copia2['all_text'].head()"
   ]
  },
  {
   "cell_type": "code",
   "execution_count": 85,
   "metadata": {
    "id": "nS7DTSRyBdav"
   },
   "outputs": [],
   "source": [
    "long_total_text = [len(i) for i in dataset_copia2['all_text']]\n",
    "dataset_copia2[\"all_text_length\"] = long_total_text"
   ]
  },
  {
   "cell_type": "code",
   "execution_count": 86,
   "metadata": {
    "colab": {
     "base_uri": "https://localhost:8080/"
    },
    "id": "q6PHIl-ABdd6",
    "outputId": "0b4bbe51-41a7-403c-c048-2bf932a53012"
   },
   "outputs": [
    {
     "data": {
      "text/plain": [
       "38      60580\n",
       "30      57492\n",
       "39      56927\n",
       "37      55074\n",
       "35      51277\n",
       "        ...  \n",
       "746         1\n",
       "747         1\n",
       "748         1\n",
       "750         1\n",
       "1024        1\n",
       "Name: all_text_length, Length: 973, dtype: int64"
      ]
     },
     "execution_count": 86,
     "metadata": {},
     "output_type": "execute_result"
    }
   ],
   "source": [
    "dataset_copia2['all_text_length'].value_counts()"
   ]
  },
  {
   "cell_type": "code",
   "execution_count": 87,
   "metadata": {
    "colab": {
     "base_uri": "https://localhost:8080/"
    },
    "id": "MMeKaH4vBdfn",
    "outputId": "8057c9fb-37b9-4612-8d4d-ab327925c858"
   },
   "outputs": [
    {
     "data": {
      "text/plain": [
       "0                 leadman\n",
       "1                Engineer\n",
       "2            truck driver\n",
       "3     Contract Specialist\n",
       "4    Veterinary Tecnician\n",
       "Name: emp_title, dtype: object"
      ]
     },
     "execution_count": 87,
     "metadata": {},
     "output_type": "execute_result"
    }
   ],
   "source": [
    "dataset_copia2.emp_title.head()"
   ]
  },
  {
   "cell_type": "code",
   "execution_count": 88,
   "metadata": {
    "id": "A6njMxLfBdhw"
   },
   "outputs": [],
   "source": [
    "long_descuento = [len(i) for i in dataset_copia2.desc]\n",
    "dataset_copia2[\"desc_length\"]= long_descuento\n",
    "\n",
    "## --------------------------------------------------\n",
    "long_emp_title = [len(i) for i in dataset_copia2.emp_title]\n",
    "dataset_copia2[\"emp_title_length\"] = long_emp_title\n",
    "\n",
    "## --------------------------------------------------\n",
    "long_title = [len(i) for i in dataset_copia2.title]   \n",
    "dataset_copia2[\"title_length\"] = long_title"
   ]
  },
  {
   "cell_type": "markdown",
   "metadata": {
    "id": "lfZQf2QOuySZ"
   },
   "source": [
    "### Clasificaciones ordinales"
   ]
  },
  {
   "cell_type": "code",
   "execution_count": 89,
   "metadata": {
    "colab": {
     "base_uri": "https://localhost:8080/"
    },
    "id": "IFEkmgmVBdkp",
    "outputId": "92a071db-3d40-49af-a483-f5bbe6f9c6ff"
   },
   "outputs": [
    {
     "data": {
      "text/plain": [
       "0    5\n",
       "1    5\n",
       "2    6\n",
       "3    2\n",
       "4    5\n",
       "Name: grade, dtype: int64"
      ]
     },
     "execution_count": 89,
     "metadata": {},
     "output_type": "execute_result"
    }
   ],
   "source": [
    "#Construimos un diccionario de valores para identificar y reemplazar el grado - G:1 a A:7\n",
    "long_dicc = {'A':7,\n",
    "               'B': 6,               \n",
    "               'C': 5,\n",
    "               'D': 4,\n",
    "               'E': 3,\n",
    "               'F': 2,\n",
    "               'G': 1,}\n",
    "dataset_copia2['grade'].replace(long_dicc, inplace=True)\n",
    "## --------------------------------------------------\n",
    "\n",
    "dataset_copia2['grade'].head()"
   ]
  },
  {
   "cell_type": "markdown",
   "metadata": {
    "id": "Auq30tatvLDw"
   },
   "source": [
    "- Convertimos las cadenas del empleo en numeros representativos. Primero convertimos menos de 1 año en 0 y más de 10 años en 10, solo con fines de identidicar."
   ]
  },
  {
   "cell_type": "code",
   "execution_count": 90,
   "metadata": {
    "id": "3QBPZN0j_vQa"
   },
   "outputs": [],
   "source": [
    "#Construimos un diccionario de valores para identificar y reemplazar de manera conveniente\n",
    "long_dicc = {'10+ years':10,\n",
    "        '2 years': 2,\n",
    "        '< 1 year': 0,\n",
    "        '3 years': 3,\n",
    "        '1 year': 1,\n",
    "        '5 years': 5,\n",
    "        '4 years': 4,\n",
    "        '6 years': 6,\n",
    "        '8 years': 8,\n",
    "        '7 years': 7,\n",
    "        '9 years': 9}\n",
    "dataset_copia2['emp_length'].replace(long_dicc, inplace=True)"
   ]
  },
  {
   "cell_type": "code",
   "execution_count": 91,
   "metadata": {
    "colab": {
     "base_uri": "https://localhost:8080/",
     "height": 303
    },
    "id": "hhGAgNGjB-TT",
    "outputId": "027179e7-2fc4-4d09-f87b-507370968c35"
   },
   "outputs": [
    {
     "data": {
      "image/png": "[encoded data removed]",
      "text/plain": [
       "<Figure size 432x288 with 1 Axes>"
      ]
     },
     "metadata": {
      "needs_background": "light"
     },
     "output_type": "display_data"
    }
   ],
   "source": [
    "plt.hist(dataset_copia2['emp_length'], bins=11)\n",
    "plt.title('Employment Lengths', size=20);\n",
    "plt.xlabel('Años de empleo', size=12);\n",
    "plt.ylabel('Frecuencia', size=12);"
   ]
  },
  {
   "cell_type": "code",
   "execution_count": 92,
   "metadata": {
    "colab": {
     "base_uri": "https://localhost:8080/"
    },
    "id": "ZR13dHTHB-Vg",
    "outputId": "e7cbe095-52b1-4165-f5b0-54762ecc137b"
   },
   "outputs": [
    {
     "data": {
      "text/plain": [
       "10    0.353633\n",
       "2     0.095727\n",
       "3     0.084659\n",
       "0     0.084487\n",
       "1     0.069488\n",
       "5     0.065368\n",
       "4     0.062566\n",
       "6     0.048762\n",
       "8     0.048173\n",
       "7     0.046742\n",
       "9     0.040395\n",
       "Name: emp_length, dtype: float64"
      ]
     },
     "execution_count": 92,
     "metadata": {},
     "output_type": "execute_result"
    }
   ],
   "source": [
    "dataset_copia2['emp_length'].value_counts(normalize=True)"
   ]
  },
  {
   "cell_type": "code",
   "execution_count": 93,
   "metadata": {
    "colab": {
     "base_uri": "https://localhost:8080/"
    },
    "id": "hEY9mZyeB-YC",
    "outputId": "56ff3647-ec57-4b5d-ad8d-453733a28f86"
   },
   "outputs": [
    {
     "data": {
      "text/plain": [
       "5.997059226727756"
      ]
     },
     "execution_count": 93,
     "metadata": {},
     "output_type": "execute_result"
    }
   ],
   "source": [
    "dataset_copia2['emp_length'].mean()"
   ]
  },
  {
   "cell_type": "code",
   "execution_count": 94,
   "metadata": {
    "colab": {
     "base_uri": "https://localhost:8080/"
    },
    "id": "SIWM-teRB-bA",
    "outputId": "bc063a6a-4200-4fa0-f654-583c8a3546ba"
   },
   "outputs": [
    {
     "data": {
      "text/plain": [
       "classes\n",
       "0    5.860851\n",
       "1    6.033932\n",
       "Name: emp_length, dtype: float64"
      ]
     },
     "execution_count": 94,
     "metadata": {},
     "output_type": "execute_result"
    }
   ],
   "source": [
    "#Encontramos la duracion media del empleo de las personas cuyos prestamos tuvieron éxito o no.\n",
    "dataset_copia2.groupby(by='classes')['emp_length'].mean()"
   ]
  },
  {
   "cell_type": "markdown",
   "metadata": {
    "id": "F8q76bUMTTLH"
   },
   "source": [
    "### Realizamos el One-Hot-Encoding en las siguientes variables:\n",
    "- purpose\n",
    "- verification_status\n",
    "- addr_state\n",
    "- pymnt_plan\n",
    "- initial_list_status\n",
    "- application_type\n",
    "- hardship_flag\n",
    "- disbursement_method\n",
    "- debt_settlement_flag"
   ]
  },
  {
   "cell_type": "code",
   "execution_count": 95,
   "metadata": {
    "colab": {
     "base_uri": "https://localhost:8080/"
    },
    "id": "ohythMCeB-dd",
    "outputId": "90c90f03-6fb3-43c4-a68e-0eb9c09cbfbc"
   },
   "outputs": [
    {
     "data": {
      "text/plain": [
       "77"
      ]
     },
     "execution_count": 95,
     "metadata": {},
     "output_type": "execute_result"
    }
   ],
   "source": [
    "len(dataset_copia2.columns)"
   ]
  },
  {
   "cell_type": "code",
   "execution_count": 97,
   "metadata": {
    "colab": {
     "base_uri": "https://localhost:8080/"
    },
    "id": "_4_qE3lAB-fW",
    "outputId": "15b04699-29a1-46f5-d455-6a23de0e9463"
   },
   "outputs": [
    {
     "data": {
      "text/plain": [
       "Index(['term', 'grade', 'emp_title', 'emp_length', 'home_ownership',\n",
       "       'verification_status', 'loan_status', 'pymnt_plan', 'desc', 'purpose',\n",
       "       'title', 'addr_state', 'application_type', 'hardship_flag',\n",
       "       'disbursement_method', 'debt_settlement_flag'],\n",
       "      dtype='object')"
      ]
     },
     "execution_count": 97,
     "metadata": {},
     "output_type": "execute_result"
    }
   ],
   "source": [
    "# Vemos todas las columnas de objetos restantes\n",
    "columna_objeto"
   ]
  },
  {
   "cell_type": "code",
   "execution_count": 98,
   "metadata": {
    "colab": {
     "base_uri": "https://localhost:8080/"
    },
    "id": "-6p0qE08B-wi",
    "outputId": "a731fef9-d9e7-476d-d7e2-92705258df8a"
   },
   "outputs": [
    {
     "data": {
      "text/plain": [
       "0     36 months\n",
       "1     36 months\n",
       "2     60 months\n",
       "3     60 months\n",
       "4     36 months\n",
       "Name: term, dtype: object"
      ]
     },
     "execution_count": 98,
     "metadata": {},
     "output_type": "execute_result"
    }
   ],
   "source": [
    "dataset_copia2['term'].head()"
   ]
  },
  {
   "cell_type": "markdown",
   "metadata": {
    "id": "YYQg4Kj4Tn4p"
   },
   "source": [
    "### contamos los datos en purpose"
   ]
  },
  {
   "cell_type": "code",
   "execution_count": 99,
   "metadata": {
    "colab": {
     "base_uri": "https://localhost:8080/"
    },
    "id": "WgubK_LSB-zx",
    "outputId": "e8cd434b-5922-498c-dd0b-e165b6abbac5"
   },
   "outputs": [
    {
     "data": {
      "text/plain": [
       "debt_consolidation    710586\n",
       "credit_card           270419\n",
       "home_improvement       76917\n",
       "other                  66739\n",
       "major_purchase         25060\n",
       "medical                13252\n",
       "small_business         12448\n",
       "car                    11737\n",
       "moving                  8085\n",
       "vacation                7788\n",
       "house                   6281\n",
       "wedding                  848\n",
       "renewable_energy         746\n",
       "Name: purpose, dtype: int64"
      ]
     },
     "execution_count": 99,
     "metadata": {},
     "output_type": "execute_result"
    }
   ],
   "source": [
    "dataset_copia2['purpose'].value_counts()"
   ]
  },
  {
   "cell_type": "code",
   "execution_count": 100,
   "metadata": {
    "colab": {
     "base_uri": "https://localhost:8080/"
    },
    "id": "ubDT7FxCB-5k",
    "outputId": "6956f136-2cba-4e6e-9e1c-16088c5097aa",
    "scrolled": true
   },
   "outputs": [
    {
     "data": {
      "text/plain": [
       "classes  purpose           \n",
       "0        debt_consolidation    0.617561\n",
       "         credit_card           0.188380\n",
       "         other                 0.059608\n",
       "         home_improvement      0.057523\n",
       "         major_purchase        0.020580\n",
       "         small_business        0.015711\n",
       "         medical               0.011843\n",
       "         moving                0.007896\n",
       "         car                   0.007400\n",
       "         vacation              0.006299\n",
       "         house                 0.005974\n",
       "         renewable_energy      0.000744\n",
       "         wedding               0.000481\n",
       "1        debt_consolidation    0.578500\n",
       "         credit_card           0.232778\n",
       "         home_improvement      0.065144\n",
       "         other                 0.053899\n",
       "         major_purchase        0.020726\n",
       "         medical               0.010701\n",
       "         car                   0.010313\n",
       "         small_business        0.008810\n",
       "         vacation              0.006467\n",
       "         moving                0.006347\n",
       "         house                 0.004974\n",
       "         wedding               0.000760\n",
       "         renewable_energy      0.000581\n",
       "Name: purpose, dtype: float64"
      ]
     },
     "execution_count": 100,
     "metadata": {},
     "output_type": "execute_result"
    }
   ],
   "source": [
    "dataset_copia2.groupby(by='classes')['purpose'].value_counts(normalize= True)"
   ]
  },
  {
   "cell_type": "code",
   "execution_count": 101,
   "metadata": {
    "id": "j2D9QW3kCSNy"
   },
   "outputs": [],
   "source": [
    "One_Hot_Enc = ['purpose', 'term',\n",
    "'verification_status',\n",
    "'pymnt_plan',\n",
    "'application_type',\n",
    "'hardship_flag', 'addr_state',\n",
    "'disbursement_method', \n",
    "'debt_settlement_flag', 'home_ownership']"
   ]
  },
  {
   "cell_type": "code",
   "execution_count": 102,
   "metadata": {
    "id": "vLdlnrsrCSWO"
   },
   "outputs": [],
   "source": [
    "dataset_copia2 = pd.get_dummies(data= dataset_copia2, columns = One_Hot_Enc, drop_first=True)"
   ]
  },
  {
   "cell_type": "code",
   "execution_count": 103,
   "metadata": {
    "colab": {
     "base_uri": "https://localhost:8080/"
    },
    "id": "VRSd95buCScs",
    "outputId": "2d673d24-5030-49c4-a05d-3ff7eda0d05e"
   },
   "outputs": [
    {
     "data": {
      "text/plain": [
       "Index(['loan_amnt', 'funded_amnt', 'funded_amnt_inv', 'int_rate',\n",
       "       'installment', 'grade', 'emp_title', 'emp_length', 'annual_inc',\n",
       "       'loan_status',\n",
       "       ...\n",
       "       'addr_state_WI', 'addr_state_WV', 'addr_state_WY',\n",
       "       'disbursement_method_DirectPay', 'debt_settlement_flag_Y',\n",
       "       'home_ownership_MORTGAGE', 'home_ownership_NONE',\n",
       "       'home_ownership_OTHER', 'home_ownership_OWN', 'home_ownership_RENT'],\n",
       "      dtype='object', length=142)"
      ]
     },
     "execution_count": 103,
     "metadata": {},
     "output_type": "execute_result"
    }
   ],
   "source": [
    "dataset_copia2.columns"
   ]
  },
  {
   "cell_type": "code",
   "execution_count": 104,
   "metadata": {
    "colab": {
     "base_uri": "https://localhost:8080/"
    },
    "id": "hhF-r2N8CSj4",
    "outputId": "2ff9609a-6a31-424a-f274-163e0cbb23b6"
   },
   "outputs": [
    {
     "data": {
      "text/plain": [
       "142"
      ]
     },
     "execution_count": 104,
     "metadata": {},
     "output_type": "execute_result"
    }
   ],
   "source": [
    "len(dataset_copia2.columns)"
   ]
  },
  {
   "cell_type": "markdown",
   "metadata": {
    "id": "ZhGf4gssT0F0"
   },
   "source": [
    "### Interacción entre características\n",
    "- Realizaremos las Correlaciones"
   ]
  },
  {
   "cell_type": "code",
   "execution_count": 105,
   "metadata": {
    "colab": {
     "base_uri": "https://localhost:8080/",
     "height": 692
    },
    "id": "MKHvSf9GCSqV",
    "outputId": "7087fce1-ec62-44fb-b299-dd819ef711be"
   },
   "outputs": [
    {
     "data": {
      "text/html": [
       "<div>\n",
       "<style scoped>\n",
       "    .dataframe tbody tr th:only-of-type {\n",
       "        vertical-align: middle;\n",
       "    }\n",
       "\n",
       "    .dataframe tbody tr th {\n",
       "        vertical-align: top;\n",
       "    }\n",
       "\n",
       "    .dataframe thead th {\n",
       "        text-align: right;\n",
       "    }\n",
       "</style>\n",
       "<table border=\"1\" class=\"dataframe\">\n",
       "  <thead>\n",
       "    <tr style=\"text-align: right;\">\n",
       "      <th></th>\n",
       "      <th>Initial</th>\n",
       "      <th>Secondary</th>\n",
       "      <th>Corr_Values</th>\n",
       "      <th>Abs_Corr_Values</th>\n",
       "    </tr>\n",
       "  </thead>\n",
       "  <tbody>\n",
       "    <tr>\n",
       "      <th>109</th>\n",
       "      <td>desc_length</td>\n",
       "      <td>all_text_length</td>\n",
       "      <td>0.984275</td>\n",
       "      <td>0.984275</td>\n",
       "    </tr>\n",
       "    <tr>\n",
       "      <th>74</th>\n",
       "      <td>num_actv_rev_tl</td>\n",
       "      <td>num_rev_tl_bal_gt_0</td>\n",
       "      <td>0.981772</td>\n",
       "      <td>0.981772</td>\n",
       "    </tr>\n",
       "    <tr>\n",
       "      <th>55</th>\n",
       "      <td>tot_cur_bal</td>\n",
       "      <td>tot_hi_cred_lim</td>\n",
       "      <td>0.976269</td>\n",
       "      <td>0.976269</td>\n",
       "    </tr>\n",
       "    <tr>\n",
       "      <th>42</th>\n",
       "      <td>recoveries</td>\n",
       "      <td>collection_recovery_fee</td>\n",
       "      <td>0.975954</td>\n",
       "      <td>0.975954</td>\n",
       "    </tr>\n",
       "    <tr>\n",
       "      <th>13</th>\n",
       "      <td>int_rate</td>\n",
       "      <td>grade</td>\n",
       "      <td>-0.954909</td>\n",
       "      <td>0.954909</td>\n",
       "    </tr>\n",
       "    <tr>\n",
       "      <th>7</th>\n",
       "      <td>funded_amnt</td>\n",
       "      <td>installment</td>\n",
       "      <td>0.952267</td>\n",
       "      <td>0.952267</td>\n",
       "    </tr>\n",
       "    <tr>\n",
       "      <th>3</th>\n",
       "      <td>loan_amnt</td>\n",
       "      <td>installment</td>\n",
       "      <td>0.952266</td>\n",
       "      <td>0.952266</td>\n",
       "    </tr>\n",
       "    <tr>\n",
       "      <th>11</th>\n",
       "      <td>funded_amnt_inv</td>\n",
       "      <td>installment</td>\n",
       "      <td>0.952221</td>\n",
       "      <td>0.952221</td>\n",
       "    </tr>\n",
       "    <tr>\n",
       "      <th>103</th>\n",
       "      <td>total_bal_ex_mort</td>\n",
       "      <td>total_il_high_credit_limit</td>\n",
       "      <td>0.874174</td>\n",
       "      <td>0.874174</td>\n",
       "    </tr>\n",
       "    <tr>\n",
       "      <th>130</th>\n",
       "      <td>pymnt_plan_y</td>\n",
       "      <td>hardship_flag_Y</td>\n",
       "      <td>0.870393</td>\n",
       "      <td>0.870393</td>\n",
       "    </tr>\n",
       "    <tr>\n",
       "      <th>35</th>\n",
       "      <td>revol_util</td>\n",
       "      <td>bc_util</td>\n",
       "      <td>0.856119</td>\n",
       "      <td>0.856119</td>\n",
       "    </tr>\n",
       "    <tr>\n",
       "      <th>63</th>\n",
       "      <td>bc_util</td>\n",
       "      <td>percent_bc_gt_75</td>\n",
       "      <td>0.844312</td>\n",
       "      <td>0.844312</td>\n",
       "    </tr>\n",
       "    <tr>\n",
       "      <th>54</th>\n",
       "      <td>tot_cur_bal</td>\n",
       "      <td>avg_cur_bal</td>\n",
       "      <td>0.840096</td>\n",
       "      <td>0.840096</td>\n",
       "    </tr>\n",
       "    <tr>\n",
       "      <th>78</th>\n",
       "      <td>num_bc_tl</td>\n",
       "      <td>num_rev_accts</td>\n",
       "      <td>0.838243</td>\n",
       "      <td>0.838243</td>\n",
       "    </tr>\n",
       "    <tr>\n",
       "      <th>47</th>\n",
       "      <td>last_fico_range_high</td>\n",
       "      <td>last_fico_range_low</td>\n",
       "      <td>0.828319</td>\n",
       "      <td>0.828319</td>\n",
       "    </tr>\n",
       "    <tr>\n",
       "      <th>30</th>\n",
       "      <td>open_acc</td>\n",
       "      <td>num_op_rev_tl</td>\n",
       "      <td>0.827421</td>\n",
       "      <td>0.827421</td>\n",
       "    </tr>\n",
       "    <tr>\n",
       "      <th>82</th>\n",
       "      <td>num_op_rev_tl</td>\n",
       "      <td>num_sats</td>\n",
       "      <td>0.826587</td>\n",
       "      <td>0.826587</td>\n",
       "    </tr>\n",
       "    <tr>\n",
       "      <th>70</th>\n",
       "      <td>num_actv_bc_tl</td>\n",
       "      <td>num_bc_sats</td>\n",
       "      <td>0.825358</td>\n",
       "      <td>0.825358</td>\n",
       "    </tr>\n",
       "    <tr>\n",
       "      <th>187</th>\n",
       "      <td>home_ownership_MORTGAGE</td>\n",
       "      <td>home_ownership_RENT</td>\n",
       "      <td>-0.809956</td>\n",
       "      <td>0.809956</td>\n",
       "    </tr>\n",
       "    <tr>\n",
       "      <th>69</th>\n",
       "      <td>num_actv_bc_tl</td>\n",
       "      <td>num_actv_rev_tl</td>\n",
       "      <td>0.808267</td>\n",
       "      <td>0.808267</td>\n",
       "    </tr>\n",
       "    <tr>\n",
       "      <th>59</th>\n",
       "      <td>avg_cur_bal</td>\n",
       "      <td>tot_hi_cred_lim</td>\n",
       "      <td>0.802171</td>\n",
       "      <td>0.802171</td>\n",
       "    </tr>\n",
       "    <tr>\n",
       "      <th>71</th>\n",
       "      <td>num_actv_bc_tl</td>\n",
       "      <td>num_rev_tl_bal_gt_0</td>\n",
       "      <td>0.800802</td>\n",
       "      <td>0.800802</td>\n",
       "    </tr>\n",
       "  </tbody>\n",
       "</table>\n",
       "</div>"
      ],
      "text/plain": [
       "                     Initial                   Secondary  Corr_Values  \\\n",
       "109              desc_length             all_text_length     0.984275   \n",
       "74           num_actv_rev_tl         num_rev_tl_bal_gt_0     0.981772   \n",
       "55               tot_cur_bal             tot_hi_cred_lim     0.976269   \n",
       "42                recoveries     collection_recovery_fee     0.975954   \n",
       "13                  int_rate                       grade    -0.954909   \n",
       "7                funded_amnt                 installment     0.952267   \n",
       "3                  loan_amnt                 installment     0.952266   \n",
       "11           funded_amnt_inv                 installment     0.952221   \n",
       "103        total_bal_ex_mort  total_il_high_credit_limit     0.874174   \n",
       "130             pymnt_plan_y             hardship_flag_Y     0.870393   \n",
       "35                revol_util                     bc_util     0.856119   \n",
       "63                   bc_util            percent_bc_gt_75     0.844312   \n",
       "54               tot_cur_bal                 avg_cur_bal     0.840096   \n",
       "78                 num_bc_tl               num_rev_accts     0.838243   \n",
       "47      last_fico_range_high         last_fico_range_low     0.828319   \n",
       "30                  open_acc               num_op_rev_tl     0.827421   \n",
       "82             num_op_rev_tl                    num_sats     0.826587   \n",
       "70            num_actv_bc_tl                 num_bc_sats     0.825358   \n",
       "187  home_ownership_MORTGAGE         home_ownership_RENT    -0.809956   \n",
       "69            num_actv_bc_tl             num_actv_rev_tl     0.808267   \n",
       "59               avg_cur_bal             tot_hi_cred_lim     0.802171   \n",
       "71            num_actv_bc_tl         num_rev_tl_bal_gt_0     0.800802   \n",
       "\n",
       "     Abs_Corr_Values  \n",
       "109         0.984275  \n",
       "74          0.981772  \n",
       "55          0.976269  \n",
       "42          0.975954  \n",
       "13          0.954909  \n",
       "7           0.952267  \n",
       "3           0.952266  \n",
       "11          0.952221  \n",
       "103         0.874174  \n",
       "130         0.870393  \n",
       "35          0.856119  \n",
       "63          0.844312  \n",
       "54          0.840096  \n",
       "78          0.838243  \n",
       "47          0.828319  \n",
       "30          0.827421  \n",
       "82          0.826587  \n",
       "70          0.825358  \n",
       "187         0.809956  \n",
       "69          0.808267  \n",
       "59          0.802171  \n",
       "71          0.800802  "
      ]
     },
     "execution_count": 105,
     "metadata": {},
     "output_type": "execute_result"
    }
   ],
   "source": [
    "Correl_Data = dataset_copia2.corr(method='pearson')\n",
    "Correl_Data = Correl_Data[abs(Correl_Data) >= 0.8].stack().reset_index()\n",
    "Correl_Data = Correl_Data[Correl_Data['level_0'].astype(str)!=Correl_Data['level_1'].astype(str)]\n",
    "\n",
    "# -----------------------------------------------------------------------------------------\n",
    "#Filtramos valores duplicados superiores e inferiores\n",
    "Correl_Data['ordered-cols'] = Correl_Data.apply(lambda x: '-'.join(sorted([x['level_0'],x['level_1']])),axis=1)\n",
    "Correl_Data = Correl_Data.drop_duplicates(['ordered-cols'])\n",
    "Correl_Data.drop(['ordered-cols'], axis=1, inplace=True)\n",
    "\n",
    "# -----------------------------------------------------------------------------------------\n",
    "Correl_Data = pd.DataFrame(Correl_Data)\n",
    "Correl_Data.columns=['Initial', 'Secondary', 'Corr_Values']\n",
    "#Tomamos el valor absoluto de los valores Corr_Values\n",
    "Correl_Data['Abs_Corr_Values'] = abs(Correl_Data['Corr_Values'])\n",
    "\n",
    "# -----------------------------------------------------------------------------------------\n",
    "Correl_Data = Correl_Data.sort_values(by= 'Abs_Corr_Values', ascending = False)\n",
    "Correl_Data = Correl_Data.iloc[6:]\n",
    "Correl_Data"
   ]
  },
  {
   "cell_type": "code",
   "execution_count": 106,
   "metadata": {
    "colab": {
     "base_uri": "https://localhost:8080/"
    },
    "id": "0Cgcxy9-CSyH",
    "outputId": "e5c285e1-5ee2-4044-f15f-606dcfbe6d31"
   },
   "outputs": [
    {
     "name": "stdout",
     "output_type": "stream",
     "text": [
      "desc_length*all_text_length\n",
      "num_actv_rev_tl*num_rev_tl_bal_gt_0\n",
      "tot_cur_bal*tot_hi_cred_lim\n",
      "recoveries*collection_recovery_fee\n",
      "int_rate*grade\n",
      "funded_amnt*installment\n",
      "loan_amnt*installment\n",
      "funded_amnt_inv*installment\n",
      "total_bal_ex_mort*total_il_high_credit_limit\n",
      "pymnt_plan_y*hardship_flag_Y\n",
      "revol_util*bc_util\n",
      "bc_util*percent_bc_gt_75\n",
      "tot_cur_bal*avg_cur_bal\n",
      "num_bc_tl*num_rev_accts\n",
      "last_fico_range_high*last_fico_range_low\n",
      "open_acc*num_op_rev_tl\n",
      "num_op_rev_tl*num_sats\n",
      "num_actv_bc_tl*num_bc_sats\n",
      "home_ownership_MORTGAGE*home_ownership_RENT\n",
      "num_actv_bc_tl*num_actv_rev_tl\n",
      "avg_cur_bal*tot_hi_cred_lim\n",
      "num_actv_bc_tl*num_rev_tl_bal_gt_0\n"
     ]
    }
   ],
   "source": [
    "for i,j in zip(Correl_Data['Initial'], Correl_Data['Secondary']):\n",
    "    nombre = i + '*' + j  \n",
    "    dataset_copia2[nombre] = dataset_copia2[i] * dataset_copia2[j]\n",
    "    print(nombre)"
   ]
  },
  {
   "cell_type": "code",
   "execution_count": 107,
   "metadata": {
    "id": "99NPcTh4Cw4h"
   },
   "outputs": [],
   "source": [
    "#Todos los valores en esta columna son ceros, ya que no se superponen\n",
    "dataset_copia2.drop(columns = ['home_ownership_MORTGAGE*home_ownership_RENT', 'funded_amnt', 'funded_amnt_inv'], inplace= True)"
   ]
  },
  {
   "cell_type": "code",
   "execution_count": 108,
   "metadata": {
    "colab": {
     "base_uri": "https://localhost:8080/"
    },
    "id": "iuWXimVgCxFP",
    "outputId": "c2994159-4a79-4266-b730-79f2251d60a0"
   },
   "outputs": [
    {
     "data": {
      "text/plain": [
       "161"
      ]
     },
     "execution_count": 108,
     "metadata": {},
     "output_type": "execute_result"
    }
   ],
   "source": [
    "len(dataset_copia2.columns)"
   ]
  },
  {
   "cell_type": "code",
   "execution_count": 109,
   "metadata": {
    "colab": {
     "base_uri": "https://localhost:8080/",
     "height": 361
    },
    "id": "lq1BzAXbCxH8",
    "outputId": "a5ac3179-1eb2-4a48-c1d9-30edb223c344"
   },
   "outputs": [
    {
     "data": {
      "text/html": [
       "<div>\n",
       "<style scoped>\n",
       "    .dataframe tbody tr th:only-of-type {\n",
       "        vertical-align: middle;\n",
       "    }\n",
       "\n",
       "    .dataframe tbody tr th {\n",
       "        vertical-align: top;\n",
       "    }\n",
       "\n",
       "    .dataframe thead th {\n",
       "        text-align: right;\n",
       "    }\n",
       "</style>\n",
       "<table border=\"1\" class=\"dataframe\">\n",
       "  <thead>\n",
       "    <tr style=\"text-align: right;\">\n",
       "      <th></th>\n",
       "      <th>loan_amnt</th>\n",
       "      <th>int_rate</th>\n",
       "      <th>installment</th>\n",
       "      <th>grade</th>\n",
       "      <th>emp_title</th>\n",
       "      <th>emp_length</th>\n",
       "      <th>annual_inc</th>\n",
       "      <th>loan_status</th>\n",
       "      <th>desc</th>\n",
       "      <th>title</th>\n",
       "      <th>...</th>\n",
       "      <th>bc_util*percent_bc_gt_75</th>\n",
       "      <th>tot_cur_bal*avg_cur_bal</th>\n",
       "      <th>num_bc_tl*num_rev_accts</th>\n",
       "      <th>last_fico_range_high*last_fico_range_low</th>\n",
       "      <th>open_acc*num_op_rev_tl</th>\n",
       "      <th>num_op_rev_tl*num_sats</th>\n",
       "      <th>num_actv_bc_tl*num_bc_sats</th>\n",
       "      <th>num_actv_bc_tl*num_actv_rev_tl</th>\n",
       "      <th>avg_cur_bal*tot_hi_cred_lim</th>\n",
       "      <th>num_actv_bc_tl*num_rev_tl_bal_gt_0</th>\n",
       "    </tr>\n",
       "  </thead>\n",
       "  <tbody>\n",
       "    <tr>\n",
       "      <th>0</th>\n",
       "      <td>3600.0</td>\n",
       "      <td>13.99</td>\n",
       "      <td>123.03</td>\n",
       "      <td>5</td>\n",
       "      <td>leadman</td>\n",
       "      <td>10</td>\n",
       "      <td>55000.0</td>\n",
       "      <td>Fully Paid</td>\n",
       "      <td>.</td>\n",
       "      <td>Debt consolidation</td>\n",
       "      <td>...</td>\n",
       "      <td>0.00</td>\n",
       "      <td>2.999658e+09</td>\n",
       "      <td>45.0</td>\n",
       "      <td>315840.0</td>\n",
       "      <td>28.0</td>\n",
       "      <td>28.0</td>\n",
       "      <td>4.0</td>\n",
       "      <td>8.0</td>\n",
       "      <td>3.685813e+09</td>\n",
       "      <td>8.0</td>\n",
       "    </tr>\n",
       "    <tr>\n",
       "      <th>1</th>\n",
       "      <td>24700.0</td>\n",
       "      <td>11.99</td>\n",
       "      <td>820.28</td>\n",
       "      <td>5</td>\n",
       "      <td>Engineer</td>\n",
       "      <td>10</td>\n",
       "      <td>65000.0</td>\n",
       "      <td>Fully Paid</td>\n",
       "      <td>.</td>\n",
       "      <td>Business</td>\n",
       "      <td>...</td>\n",
       "      <td>208.67</td>\n",
       "      <td>1.989386e+09</td>\n",
       "      <td>459.0</td>\n",
       "      <td>485805.0</td>\n",
       "      <td>440.0</td>\n",
       "      <td>440.0</td>\n",
       "      <td>65.0</td>\n",
       "      <td>25.0</td>\n",
       "      <td>3.056327e+09</td>\n",
       "      <td>25.0</td>\n",
       "    </tr>\n",
       "    <tr>\n",
       "      <th>2</th>\n",
       "      <td>20000.0</td>\n",
       "      <td>10.78</td>\n",
       "      <td>432.66</td>\n",
       "      <td>6</td>\n",
       "      <td>truck driver</td>\n",
       "      <td>10</td>\n",
       "      <td>63000.0</td>\n",
       "      <td>Fully Paid</td>\n",
       "      <td>.</td>\n",
       "      <td>.</td>\n",
       "      <td>...</td>\n",
       "      <td>2795.00</td>\n",
       "      <td>5.997713e+09</td>\n",
       "      <td>28.0</td>\n",
       "      <td>492800.0</td>\n",
       "      <td>24.0</td>\n",
       "      <td>24.0</td>\n",
       "      <td>4.0</td>\n",
       "      <td>6.0</td>\n",
       "      <td>6.905722e+09</td>\n",
       "      <td>6.0</td>\n",
       "    </tr>\n",
       "    <tr>\n",
       "      <th>3</th>\n",
       "      <td>10400.0</td>\n",
       "      <td>22.45</td>\n",
       "      <td>289.91</td>\n",
       "      <td>2</td>\n",
       "      <td>Contract Specialist</td>\n",
       "      <td>3</td>\n",
       "      <td>104433.0</td>\n",
       "      <td>Fully Paid</td>\n",
       "      <td>.</td>\n",
       "      <td>Major purchase</td>\n",
       "      <td>...</td>\n",
       "      <td>4650.00</td>\n",
       "      <td>9.170344e+09</td>\n",
       "      <td>171.0</td>\n",
       "      <td>492800.0</td>\n",
       "      <td>84.0</td>\n",
       "      <td>84.0</td>\n",
       "      <td>20.0</td>\n",
       "      <td>24.0</td>\n",
       "      <td>1.215147e+10</td>\n",
       "      <td>24.0</td>\n",
       "    </tr>\n",
       "    <tr>\n",
       "      <th>4</th>\n",
       "      <td>11950.0</td>\n",
       "      <td>13.44</td>\n",
       "      <td>405.18</td>\n",
       "      <td>5</td>\n",
       "      <td>Veterinary Tecnician</td>\n",
       "      <td>4</td>\n",
       "      <td>34000.0</td>\n",
       "      <td>Fully Paid</td>\n",
       "      <td>.</td>\n",
       "      <td>Debt consolidation</td>\n",
       "      <td>...</td>\n",
       "      <td>9100.00</td>\n",
       "      <td>3.276288e+07</td>\n",
       "      <td>8.0</td>\n",
       "      <td>573045.0</td>\n",
       "      <td>20.0</td>\n",
       "      <td>20.0</td>\n",
       "      <td>4.0</td>\n",
       "      <td>6.0</td>\n",
       "      <td>4.326400e+07</td>\n",
       "      <td>6.0</td>\n",
       "    </tr>\n",
       "  </tbody>\n",
       "</table>\n",
       "<p>5 rows × 161 columns</p>\n",
       "</div>"
      ],
      "text/plain": [
       "   loan_amnt  int_rate  installment  grade             emp_title  emp_length  \\\n",
       "0     3600.0     13.99       123.03      5               leadman          10   \n",
       "1    24700.0     11.99       820.28      5              Engineer          10   \n",
       "2    20000.0     10.78       432.66      6          truck driver          10   \n",
       "3    10400.0     22.45       289.91      2   Contract Specialist           3   \n",
       "4    11950.0     13.44       405.18      5  Veterinary Tecnician           4   \n",
       "\n",
       "   annual_inc loan_status desc               title  ...  \\\n",
       "0     55000.0  Fully Paid   .   Debt consolidation  ...   \n",
       "1     65000.0  Fully Paid   .             Business  ...   \n",
       "2     63000.0  Fully Paid   .                   .   ...   \n",
       "3    104433.0  Fully Paid   .       Major purchase  ...   \n",
       "4     34000.0  Fully Paid   .   Debt consolidation  ...   \n",
       "\n",
       "   bc_util*percent_bc_gt_75  tot_cur_bal*avg_cur_bal  num_bc_tl*num_rev_accts  \\\n",
       "0                      0.00             2.999658e+09                     45.0   \n",
       "1                    208.67             1.989386e+09                    459.0   \n",
       "2                   2795.00             5.997713e+09                     28.0   \n",
       "3                   4650.00             9.170344e+09                    171.0   \n",
       "4                   9100.00             3.276288e+07                      8.0   \n",
       "\n",
       "   last_fico_range_high*last_fico_range_low  open_acc*num_op_rev_tl  \\\n",
       "0                                  315840.0                    28.0   \n",
       "1                                  485805.0                   440.0   \n",
       "2                                  492800.0                    24.0   \n",
       "3                                  492800.0                    84.0   \n",
       "4                                  573045.0                    20.0   \n",
       "\n",
       "   num_op_rev_tl*num_sats  num_actv_bc_tl*num_bc_sats  \\\n",
       "0                    28.0                         4.0   \n",
       "1                   440.0                        65.0   \n",
       "2                    24.0                         4.0   \n",
       "3                    84.0                        20.0   \n",
       "4                    20.0                         4.0   \n",
       "\n",
       "   num_actv_bc_tl*num_actv_rev_tl  avg_cur_bal*tot_hi_cred_lim  \\\n",
       "0                             8.0                 3.685813e+09   \n",
       "1                            25.0                 3.056327e+09   \n",
       "2                             6.0                 6.905722e+09   \n",
       "3                            24.0                 1.215147e+10   \n",
       "4                             6.0                 4.326400e+07   \n",
       "\n",
       "   num_actv_bc_tl*num_rev_tl_bal_gt_0  \n",
       "0                                 8.0  \n",
       "1                                25.0  \n",
       "2                                 6.0  \n",
       "3                                24.0  \n",
       "4                                 6.0  \n",
       "\n",
       "[5 rows x 161 columns]"
      ]
     },
     "execution_count": 109,
     "metadata": {},
     "output_type": "execute_result"
    }
   ],
   "source": [
    "dataset_copia2.head()"
   ]
  },
  {
   "cell_type": "code",
   "execution_count": 110,
   "metadata": {
    "colab": {
     "base_uri": "https://localhost:8080/"
    },
    "id": "xbwrD-52CxLK",
    "outputId": "19104dea-d37c-4159-a0ee-5c9e0f6aef58"
   },
   "outputs": [
    {
     "data": {
      "text/plain": [
       "(1210906, 161)"
      ]
     },
     "execution_count": 110,
     "metadata": {},
     "output_type": "execute_result"
    }
   ],
   "source": [
    "dataset_copia2.shape"
   ]
  },
  {
   "cell_type": "code",
   "execution_count": 111,
   "metadata": {
    "id": "UC6-GU5CCxPG"
   },
   "outputs": [],
   "source": [
    "dataset_copia2.to_csv('./Total_Cleaned_Data_for_Data_Modeling.csv', index=False)\n",
    "\n",
    "##-----------------------------------------------------------------\n",
    "#Ahora daremos paso al Data Modeling en el Notebook 3"
   ]
  },
  {
   "cell_type": "code",
   "execution_count": null,
   "metadata": {},
   "outputs": [],
   "source": []
  }
 ],
 "metadata": {
  "accelerator": "GPU",
  "colab": {
   "collapsed_sections": [],
   "name": "1. Data Analytics.ipynb",
   "provenance": []
  },
  "kernelspec": {
   "display_name": "Python 3",
   "language": "python",
   "name": "python3"
  },
  "language_info": {
   "codemirror_mode": {
    "name": "ipython",
    "version": 3
   },
   "file_extension": ".py",
   "mimetype": "text/x-python",
   "name": "python",
   "nbconvert_exporter": "python",
   "pygments_lexer": "ipython3",
   "version": "3.7.6"
  }
 },
 "nbformat": 4,
 "nbformat_minor": 1
}
